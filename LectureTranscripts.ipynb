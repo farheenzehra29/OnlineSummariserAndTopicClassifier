{
 "cells": [
  {
   "cell_type": "code",
   "execution_count": 1,
   "id": "65728f0c",
   "metadata": {},
   "outputs": [
    {
     "name": "stderr",
     "output_type": "stream",
     "text": [
      "C:\\Users\\farhe\\anaconda3\\envs\\CapClone\\lib\\site-packages\\numpy\\_distributor_init.py:30: UserWarning: loaded more than 1 DLL from .libs:\n",
      "C:\\Users\\farhe\\anaconda3\\envs\\CapClone\\lib\\site-packages\\numpy\\.libs\\libopenblas.GK7GX5KEQ4F6UYO3P26ULGBQYHGQO7J4.gfortran-win_amd64.dll\n",
      "C:\\Users\\farhe\\anaconda3\\envs\\CapClone\\lib\\site-packages\\numpy\\.libs\\libopenblas.WCDJNK7YVMPZQ2ME2ZZHJJRJ3JIKNDB7.gfortran-win_amd64.dll\n",
      "  warnings.warn(\"loaded more than 1 DLL from .libs:\"\n"
     ]
    }
   ],
   "source": [
    "import re\n",
    "import pandas as pd\n",
    "import requests\n",
    "from nltk.tokenize.punkt import PunktSentenceTokenizer\n",
    "from sklearn.feature_extraction.text import TfidfTransformer, CountVectorizer\n",
    "import os\n",
    "import pandas as pd\n",
    "import re\n",
    "import networkx as nx\n",
    "import string\n",
    "from ibm_watson import SpeechToTextV1\n",
    "from ibm_watson.websocket import RecognizeCallback, AudioSource \n",
    "from ibm_cloud_sdk_core.authenticators import IAMAuthenticator\n",
    "import gensim\n",
    "from gensim.utils import simple_preprocess\n",
    "from gensim.parsing.preprocessing import STOPWORDS\n",
    "from nltk.stem import WordNetLemmatizer, SnowballStemmer\n",
    "from nltk.stem.porter import *\n",
    "import numpy as np"
   ]
  },
  {
   "cell_type": "code",
   "execution_count": 2,
   "id": "af4181d9",
   "metadata": {},
   "outputs": [],
   "source": [
    "from blanc import BlancHelp, BlancTune"
   ]
  },
  {
   "cell_type": "code",
   "execution_count": 9,
   "id": "0e5b7895",
   "metadata": {},
   "outputs": [
    {
     "data": {
      "text/html": [
       "<div>\n",
       "<style scoped>\n",
       "    .dataframe tbody tr th:only-of-type {\n",
       "        vertical-align: middle;\n",
       "    }\n",
       "\n",
       "    .dataframe tbody tr th {\n",
       "        vertical-align: top;\n",
       "    }\n",
       "\n",
       "    .dataframe thead th {\n",
       "        text-align: right;\n",
       "    }\n",
       "</style>\n",
       "<table border=\"1\" class=\"dataframe\">\n",
       "  <thead>\n",
       "    <tr style=\"text-align: right;\">\n",
       "      <th></th>\n",
       "      <th>text</th>\n",
       "      <th>label</th>\n",
       "    </tr>\n",
       "  </thead>\n",
       "  <tbody>\n",
       "    <tr>\n",
       "      <th>0</th>\n",
       "      <td>The following content is\\nprovided under a Cre...</td>\n",
       "      <td>Calculus</td>\n",
       "    </tr>\n",
       "    <tr>\n",
       "      <th>1</th>\n",
       "      <td>In this sequence of segments,\\nwe review some ...</td>\n",
       "      <td>Probability</td>\n",
       "    </tr>\n",
       "    <tr>\n",
       "      <th>2</th>\n",
       "      <td>The following content is\\nprovided under a Cre...</td>\n",
       "      <td>CS</td>\n",
       "    </tr>\n",
       "    <tr>\n",
       "      <th>3</th>\n",
       "      <td>The following\\ncontent is provided under a Cre...</td>\n",
       "      <td>Algorithms</td>\n",
       "    </tr>\n",
       "    <tr>\n",
       "      <th>4</th>\n",
       "      <td>The following\\ncontent is provided under a Cre...</td>\n",
       "      <td>Algorithms</td>\n",
       "    </tr>\n",
       "    <tr>\n",
       "      <th>...</th>\n",
       "      <td>...</td>\n",
       "      <td>...</td>\n",
       "    </tr>\n",
       "    <tr>\n",
       "      <th>855</th>\n",
       "      <td>The following content is\\nprovided under a Cre...</td>\n",
       "      <td>Math for Eng.</td>\n",
       "    </tr>\n",
       "    <tr>\n",
       "      <th>856</th>\n",
       "      <td>&amp;gt;&amp;gt; [MUSIC] &amp;gt;&amp;gt; DAVID J. MALAN: All ...</td>\n",
       "      <td>Diff. Eq.</td>\n",
       "    </tr>\n",
       "    <tr>\n",
       "      <th>857</th>\n",
       "      <td>The following content is\\nprovided by MIT Open...</td>\n",
       "      <td>Linear Algebra</td>\n",
       "    </tr>\n",
       "    <tr>\n",
       "      <th>858</th>\n",
       "      <td>The following content is\\nprovided under a Cre...</td>\n",
       "      <td>AI</td>\n",
       "    </tr>\n",
       "    <tr>\n",
       "      <th>859</th>\n",
       "      <td>The following content is\\nprovided under a Cre...</td>\n",
       "      <td>Diff. Eq.</td>\n",
       "    </tr>\n",
       "  </tbody>\n",
       "</table>\n",
       "<p>860 rows × 2 columns</p>\n",
       "</div>"
      ],
      "text/plain": [
       "                                                  text           label\n",
       "0    The following content is\\nprovided under a Cre...        Calculus\n",
       "1    In this sequence of segments,\\nwe review some ...     Probability\n",
       "2    The following content is\\nprovided under a Cre...              CS\n",
       "3    The following\\ncontent is provided under a Cre...      Algorithms\n",
       "4    The following\\ncontent is provided under a Cre...      Algorithms\n",
       "..                                                 ...             ...\n",
       "855  The following content is\\nprovided under a Cre...   Math for Eng.\n",
       "856  &gt;&gt; [MUSIC] &gt;&gt; DAVID J. MALAN: All ...       Diff. Eq.\n",
       "857  The following content is\\nprovided by MIT Open...  Linear Algebra\n",
       "858  The following content is\\nprovided under a Cre...              AI\n",
       "859  The following content is\\nprovided under a Cre...       Diff. Eq.\n",
       "\n",
       "[860 rows x 2 columns]"
      ]
     },
     "execution_count": 9,
     "metadata": {},
     "output_type": "execute_result"
    }
   ],
   "source": [
    "df=pd.read_csv(\"raw_text.csv\")\n",
    "df"
   ]
  },
  {
   "cell_type": "markdown",
   "id": "16d04ab9",
   "metadata": {},
   "source": [
    "# Cleaning the data"
   ]
  },
  {
   "cell_type": "code",
   "execution_count": 3,
   "id": "16c13621",
   "metadata": {},
   "outputs": [],
   "source": [
    "def clean_data(x):\n",
    "    \n",
    "    x = re.sub(\"&.+;\", '', x)\n",
    "    x = re.sub(\"\\[.+\\]\", '', x)\n",
    "    x = re.sub(\"[MUSIC]\", '', x)\n",
    "    x = re.sub(\"-+\", '', x)\n",
    "    \n",
    "   \n",
    "    _RE_COMBINE_WHITESPACE = re.compile(r\"\\s+\")\n",
    "    x = _RE_COMBINE_WHITESPACE.sub(\" \", x).strip()\n",
    "    \n",
    "    return x\n",
    "df['Cleaned_Transcript'] = df['text'].apply(clean_data)"
   ]
  },
  {
   "cell_type": "code",
   "execution_count": 4,
   "id": "b1bf298a",
   "metadata": {},
   "outputs": [],
   "source": [
    "df = df.replace('\\n','', regex=True)\n",
    "df = df.replace(r\"\\'\",'', regex=True)"
   ]
  },
  {
   "cell_type": "code",
   "execution_count": 5,
   "id": "f47e4031",
   "metadata": {},
   "outputs": [
    {
     "data": {
      "text/plain": [
       "'&gt;&gt; [MUSIC] &gt;&gt; DAVID J. MALAN: All right. So this is CS50 and thisis the end of week 10. So some of you might have seen thisalready, but being circulated of late is an article that I thought Id readan excerpt from and then show you a three minute video that paintsthe same picture. It was really a touching story, Ithought, of this intersection of the real world with genuinely compellinguses of technology. &gt;&gt; So the article was entitled, \"A boyoversleeps on train, uses Google Maps to find family 25 years later.\" And thefirst couple of paragraphs were, \"When Saroo was five years old he wentwith his older brother to scrounge for change on a passenger trainin a town about two hours from his small hometown. Saroo became tired and hopped on anearby train where he thought his brother was, then fell asleep. When he woke up he was in Calcutta,nearly 900 miles away. Saroo tried to find his wayback, but he didnt know the name of his hometown. And as a tiny illiterate boy in a vastcity full of forgotten children he had virtually no chance of getting home. &gt;&gt; He was a street child for a while untila local adoption agency hooked him up with an Australian couplewho brought him to live in Hobart, Tasmania. Saroo moved there, learnedEnglish, and grew up. But he never stopped looking forhis family and his hometown. &gt;&gt; Decades later, he discovered GoogleEarth and followed rail tracks. And giving himself a prescribed radiusbased on how long he thought he was asleep and how fast he thought the trainwas going, he knew hed grown up in a warm climate, he knew he spokeHindi as a child, and hed been told that he looked like hewas from East India. &gt;&gt; Finally, after years of scouringthe satellite photos, he recognized a few landmarks. And after chatting with an administratorof a nearby towns Facebook page, he realizedhed found home.\" &gt;&gt; So here then is the video tellingthat tale from his perspective. &gt;&gt; [VIDEO PLAYBACK] &gt;&gt; -It was 26 years ago and I wasjust about to turn five. We got to the train station andwe boarded a train together. My brother just said Ill stayhere and Ill come back. And I just thought, well, you know, Imight as well just go to sleep and then hell just wake me up. And when I wake up the next day, thewhole carriage was empty on a runaway train, a ghost train takingme I dont know where. &gt;&gt; I was adopted out to Australiato a Australian family. And Mom had decorated my room withthe map of India, which she put next to my bedside. I woke up every morning seeing that map,and hence, it sort of kept the memories alive. &gt;&gt; People would say, youre trying tofind a needle in a haystack. Saroo, youll never find it. Id have flashes of the places thatI used to go, the flashes of my familys faces. There was the image of my mother sittingdown with her legs crossed just watching her cry. Life is just so hard. That was my treasure. &gt;&gt; And I was looking in Google Map andrealized theres Google Earth as well. In a world where you could zoom into Istarted to have all these thoughts and what possibilities thatthis could do for me. I said to myself, well, you know,youve got all the photographic memories and landmarks where yourefrom and you know what the town looks like. This could be an application that youcan use to find your way back. &gt;&gt; I thought, well, Ill put a dot onCalcutta Train Station in a radius line that you should be searchingaround this area. I came across these train tracks. And I started following it and I came toa train station which reflected the same image that was in my memories. &gt;&gt; Everything matched. I just thought, yep. I know where Im going. Im just going to let the map that Ihave in my head to lead me and take me back to my hometown. &gt;&gt; I came to the doorstep of the housethat I was born and walked around about fifteen metersaround the corner. There was three ladies standing outsideadjacent to each other. And the middle one stepped forward. And I just thought, thisis your mother. She came forward, she hugged me, and wewere there for about five minutes. &gt;&gt; She grabbed my hand and she took me tothe house and got on the phone and she rang my sister and my brother to saythat your brother has just all of the sudden appeared like a ghost. &gt;&gt; And then the family wasreunited again. Everythings all good. I help my mother out. She doesnt have to be slaving away. She can lead the rest ofher life in peace. &gt;&gt; It was a needle in a haystack,but the needle was there. Everythings there. Everything we have in the worldis the tap of a button. But youve got to have the will andthe determination to wanting it. &gt;&gt; [END VIDEO PLAYBACK] &gt;&gt; So a really sweet story. And it actually reminds me of quite atopic thats been getting quite a bit of attention of late in The Crimson,more nationally in general. Especially as MOOCs are takingthe stage of late. MOOCs being these massive and openonline courses of which CS50 is one. &gt;&gt; And people talking about how, forinstance, the humanities arent really catching up or arent nearly asin vogue as they once were. And I would encourage you guys, muchlike Jonathan did on Monday, to think about as you exit 50, and we knowalready about 50% of you will not continue on to take another computerscience course, and thats totally fine and expected. Because one of the overarching goalsof a class like this is really to empower you guys with just anunderstanding of how all of this stuff works and how this worldof technology works. &gt;&gt; So that when you are back in your ownworlds, whether its pre-med or whether its the humanities or thesocial sciences or some other field altogether, that you guys are bringingsome technical savvy to the table and helping to make smart decisions whenit comes to the use of and introduction of technologyinto your world. &gt;&gt; For instance I was reminded of latetoo of two of the undergraduate classes I took two years ago, which weresuch simple uses of technology but ever so compelling. First Nights with Professor Tom Kellyif youve taken the class. Its a class on classical music onthis stage here where you learn a little something about music. Its actually First Nights that CS50borrowed the idea of tracks for those less comfortable in betweenand more comfortable. &gt;&gt; In my time they had different tracksfor kids with absolutely no music experience like me, and then kids whohad been performing since they were five years old. And that class, for instance, just hada website like most any other, but it was a website that allowed you toexplore music on it and play back musical clips from class, from the web,and just use technology in a very seamless way. &gt;&gt; Another class years later that Iaudited, essentially, in grad school, Anthro 1010, Introductionto Archaeology here. It was amazing. And one of the most compelling yet superobvious, in retrospect, uses of software was that the professors inthat class used Google Earth. We were sitting across the streetin some lecture hall. And you couldnt travel, for instance,to the Middle East to the dig that one of the professors had just come back on,but we could do that virtually by flying around in Google Earth andlooking at a birds eye view at the dig site he had just returnedfrom a week ago. &gt;&gt; So I would encourage you guys,especially in the humanities, to go back to those departments after thisclass bringing your final projects with you or ideas of your own, and seejust what you can do to infuse your own fields in humanities or beyondwith a little bit of this sort of thing that weve exploredhere in CS50. &gt;&gt; So with that picture painted, thoughtwed try to tackle two things today. One, try to give you a sense ofwhere you can go after 50. And in particular, if you choose totackle a web based project as is incredibly common, how you can goabout taking off all of CS50s training wheels and going out there onyour own and not having to rely on a PDF or a specification of a pset? Not having to rely on a CS50appliance anymore. But can really pull yourselfup by your bootstraps. &gt;&gt; With that said, C-based finalprojects are welcome. Things that use the stand fora portable library in graphics are welcome. We just know that statistically a lot ofpeople bite off projects in PHP and Python and Ruby and MySQL and otherenvironments, so well bias some of our remarks toward that. &gt;&gt; But a quick look back. So we took for granted in pset7 thefact that $_SESSION existed. This was a super global, a global,associative array. And what does this let you do? Functionally, whats thefeature this gives us? Yeah? To track the users ID. And why is this useful? To be able to store inside of this superglobal JHarvard or [? Scroobs ?] or Malans user ID when heor she visits a site. &gt;&gt; Exactly. So you dont have to login again and again. It would be a really lame world wide webif every time you clicked a link on a site like Facebook or every timeyou clicked on an email in Gmail you had to re-authenticate to prove thatits still you and not your roommate who might have walked up to yourcomputer in your absence. &gt;&gt; So we use SESSION to justremember who you are. And how is this implementedunderneath the hood? How does a website that uses , theprotocol that web browsers and servers speak, how does HTTP, which is astateless protocol, lets say. &gt;&gt; And by stateless I mean, once youconnect to a website, download some HTMLs, some JavaScript, some CSS, yourbrowsers icon stops spinning. You dont have a constant connectionto the server typically. Thats it. Theres no state maintainedconstantly. So how is SESSION implemented in sucha way that every time you do visit a new page, the website rememberswho you are? Whats the underlying implementationdetail? Shout it out. Its one word. &gt;&gt; Cookies. All right. So cookies. Well, how are cookies used? Well recall that a cookie is generallyjust a piece of information. And its often a big randomnumber, but not always. And a cookie is planted on your harddrive or in your computers RAM so that every time you revisit that samewebsite, your browser reminds the server, I am user 1234567. I am user 1234567. &gt;&gt; And so long as the server has rememberedthat user 1234567 is JHarvard, the website will just assumethat you are who you say you are. And recall that we present these cookiessort of in the form of a virtual hand stand. Its sent in the HTTP headers just toremind the server that you are who it thinks you are. &gt;&gt; Of course, theres a threat. What threat does this open us up to ifwere essentially using sort of a club or an amusement park mechanismfor remembering who we are? &gt;&gt; If you copy someones cookie and hijacktheir session, so to speak, you can pretend to be someone else and thewebsite most likely is just going to believe you. So well come back to that. Because the other theme for today beyondempowerment is also talking about the very scary world we live inand just how much of what you do on the web, how much of what you do evenon your cell phones today can be tracked really by anyone betweenyou and point B. &gt;&gt; And Ajax, recall. We looked only briefly at this,although youve been using it indirectly in pset8 because youre usingGoogle Maps and because youre using Google Earth. Google Maps and Google Earth dontdownload the entire world to your desktop, obviously, themoment you load pset8. It only downloads a square of the worldor a bigger square of the earth. And then every time you sort of steerout of range you might notice-- especially if on a slow connection-- youmight see some gray for a moment or a bit of fuzzy imagery as thecomputer downloads more such tiles, more such imagery from theworld or the earth. &gt;&gt; And Ajax is generally the techniqueby which websites are doing that. Once you need more of the map, yourbrowser is going to use Ajax, which is not itself a language or technology,its just a technique. Its the use of JavaScript to go getmore information from a server that allows your browser to go get whats tothe east or whats to the west of whats otherwise currentlybeing shown in that map. So this is a topic that many of youwill encounter either directly or indirectly via final projects if youchoose to make something thats similarly dynamic thats pulling datafrom some third party website. &gt;&gt; So weve got a really excitingnext Wednesday ahead. Quiz one, the information for whichis on CS50.net already. Know that therell be a review sessionthis coming Monday at 5:30. The date and time is already postedon CS50.net in that About sheet. And do let us know youhave any questions. Pset8 meanwhile is alreadyin your hands. &gt;&gt; And let me just address one FAQto save folks some stress. For the most part a lot of the chatterwe see at office hours and a lot of the bugs we see reported on Discuss areindeed bugs in a students code. But when youve encountered somethinglike the Google Earth plug-in crashing or not even working and you areconfident its not you, its not a [? chamad ?] issue, it is not abug you introduced into the distribution code. &gt;&gt; Realize just FYI-- this is sort of plan Z-- that the last time we used this problemset and we ran into similar issues, theres a line of code inservice.js that essentially is this, that says, turn buildings on. And they work around the last time wedid this in, again, corner cases where students just couldnt get the darnthing to work is change true to false in that one line of code. And youll find it if you searchthrough service.js. &gt;&gt; I dont recommend this because you willcreate the most barren landscape of Cambridge, Massachusetts. This will literally flatten your worldso that all you see are the teaching fellows and course assistants onthe horizon and no buildings. But realize for whatever reason theGoogle Earth plug-in seems still to be buggy a year later, so thismight be your fail save. So rather than resort to tears, resortto turning buildings off if you know its the plug-in thats not cooperatingon your Mac or PC. But, this is again last resort ifyoure sure its not a bug. &gt;&gt; So the Hackathon. A couple of teasers justto get you excited. We had quite a few RSVPs. And just to paint a picture of whatawaits, I thought Id give you a few seconds recall of this imageryfrom last year. &gt;&gt; [MUSIC] &gt;&gt; DAVID J. MALAN: Wait, oh. We even have our literal CS50 shuttles. &gt;&gt; [MUSIC] &gt;&gt; DAVID J. MALAN: So thats what awaitsyou in terms of the Hackathon. And this will be an opportunity, tobe clear, not to start your final projects but to continue working onyour final projects alongside classmates and staff and lots of food. And again, if youre awake at 5:00 AMwell take you down the road to IHOP. &gt;&gt; The CS50 fair, meanwhile, is the climaxfor the entire class where youll bring your laptops and friends,maybe even family to a room on campus down the street to exhibit your projectson laptops, on tall tables like this with lots of food and friendsand music in the background, as well as our friends from industry. Companies like Facebook and Microsoftand Google and Amazon and bunches of others so that if interested in justhearing about the real world or chatting with folks about real worldinternship or full time opportunities, know that some of our friendsfrom industry will be there. And a couple of pictures we canpaint here are as follows. &gt;&gt; [MUSIC] &gt;&gt; DAVID J. MALAN: All right. So that then is the CS50 fair. So lets now proceed to tell a storythat really will empower you hopefully for things like final projects. So one of few little things to seed yourmind, either for final projects or just more generally for projects thatyou might decide to tackle after the course, these are all documentedon manual.cs50.net where the CS50 manual where we have lots oftechniques documented. &gt;&gt; And this is just shorthand notation forsaying that there exists in the world things called SMS to emailgateways, which is a fancy way of saying, theres servers in the worldthat know how to convert emails to text messages. So if for your final project you wantto create some sort of mobile themed service that allows you to alert friendsor users to events on campus or whats being served in the D Hallthat night or any such alert feature, know that its simple as sending anemail as with PHPMailer which you might have used for pset7 or we sawbriefly a week or so ago, to addresses like this. &gt;&gt; And in fact you can text this assumingyour friend has an unlimited texting plan and you dont wantto charge them $0.10. But if you send an email to your friendwho you know to have Verizon or AT&amp;T using Gmail and just sending it totheir phone number at whatever the sub domain there is, realize youwill send a text message. &gt;&gt; But this is one of those thingsto be careful of. If you troll through last years CS50videos I think it was, a horrific, horrific, horrific bug I wrote in codeended up sending about 20,000 text messages live to ourstudents in class. And only because someone noticed thatthey were getting multiple text messages from me did I have thewherewithal to hit Control C quickly and stop that process. Control C, you recall, is your friendin instances of infinite loop. So beware the power we have just givento you rather irresponsibly, most likely, based on my own experience. But thats on the web and hasbeen there for some time. &gt;&gt; All right. So textmarks.com. So this is a website. And theres bunches of others out thereas well that weve actually used as a class for years to be ableto receive text messages. Unfortunately, sending text messages iseasy as sending emails like that. Receivings a little harder, especiallyif you want to have one of those sexy short codes thats onlyfive or six digits long. &gt;&gt; So for instance, for years youve beenable to send a text message-- and you can try this as well-- to 41411. And thats the phone number forthis particular startup. And if you send a message to 41411-- Ill just write it up here, so 41411-- and then send them a messagelike SBOY for Shuttle Boy. And then type in somethinglike mather quad. So you send that text messageto that phone number. Within a few seconds you should get backa response from the CS50 Shuttle Boy service, which is the shuttlescheduling software that weve had out there on the web for some time. And it will respond toyou via text message. &gt;&gt; Because what we have done as a class, asa programmer, is to write software, configured our free account with textmarks to listen for text messages sent to SBOY at that number. And what they do is forward those textmessages to our PHP-based website as HTTP parameters saying, here. This user with this phone numbersent you this text message. Do with it what you want. &gt;&gt; So we wrote some software that uponreceiving a string like SBOY mather quad, we parse it. We figure out where the spacesare between words. And we as a class decidehow to respond to that. And if you try that now, for instance,you should see, via response within a few seconds, the next few shuttles goingfrom mather to the quad if any. And theres other stops. You can type in Boylston or other suchstops on campus, and it should recognize those words. &gt;&gt; So parse.com. This is another service that weve beenpointing some students at for final projects thats wonderfulin that its free for a reasonable amount of usage. And if I go to parse.com youll seethat this is an alternative to actually having something likeyour own MySQL database. And frankly, its justkind of mesmerizing. This is whats inside of thecloud even on a cloudy day. &gt;&gt; So parse.com allows you to do abunch of interesting things. And theres other alternativesto this out there. For instance, you can use themas your back end database. So you dont need to havea web hosting company. You dont need to havea MySQL database. You can instead use their back end. &gt;&gt; If youre doing a mobile project forAndroid or iOS or the like, know that there exists things like push servicesso you can push alerts to your friends or your users home screens. And then a bunch of otherfeatures as well. &gt;&gt; So if you have interest, check out thesewebsites and websites like them to just see how many other peoplesshoulders you can stand on to make really cool software of your own. &gt;&gt; Now in terms of authentication, an FAQ,is how do you actually guarantee that your users are people on campus,Harvard students or faculty or staff? So CS50 has its own authenticationservice called CS50 ID. Go to that URL and you can restrict yourwebsite to anyone with a Harvard ID, for instance. So know that we can handle that. You guys should not be in the businessof saying, whats your Harvard ID? Whats your Harvard PIN? Let me now do something with it. Well do all of that. And what well give you back issomeones name and email address, but not anything sensitive. &gt;&gt; An app on a mobile device, it can bemade to work on a mobile device, but its not quite designed for that. So youll end up spending a non trivialamount of time doing so. So I would discouragethat route for now. This is really intended forweb based applications. &gt;&gt; So web hosting. So if you havent seen onthe courses homepage-- and heres where well begin a story-- web hosting is all about paying forusually a service, host a server owned by someone else on the web that has anIP address, and you then put your website on it. And they usually give you emailaccounts and databases and other such features. &gt;&gt; Know that if you dont want to actuallypay for such, go to that URL there and CS50 actually has a non-profitaccount that you can use to actually have not http://projectinside of the appliance for your final project. If you actually want it to be somethinglike, isawyouharvard.com, you can buy that domain name-- althoughnot that particular one-- and then you can go about hosting it on apublic web server like we can offer you guys through here. &gt;&gt; And in fact if unfamiliar,if youve never been to isawyouharvard.com, one, go there. But two, know that that was a youngwomans name by Tej To Toor Too two years ago, three years ago, who was aCS50 alumni who happened a day or two before the CS50 fair sent out an emailto her house mailing list and voila. Two days later by the CS50 fair, she hadhundreds of users all creeping on each other on her website andsaying how they had seen her or him on campus. So thats one of CS50s favoritesuccess stories from a CS50 final project. &gt;&gt; So how do you go about putting a websitelike that on the internet? Well, theres a few suchingredients here. So one, you have to buy a domain name. There are bunches of places inthe world from which you can buy a domain name. And for instance, one that we recommendonly because its popular and its cheap is callednamecheap.com. But you can go godaddy.com anddozens of others out there. You can read up on reviews. &gt;&gt; But for the most part it doesntmatter from whom you buy a domain name. And they vary in price andthey vary in suffix. The suffixes like .com, .net,.org, .io, .tv, those actually vary in price. But if we wanted to do something likecats.com we can go to this website, click Search. Presumably this one is taken. But apparently, catsagainst.comis available. pluscats.com is available. Lovecats, catscorner, dampcats.net. All of this hopefully pseudorandomly generated. If you want cats.pw, $1,500 only,which is a bit insane. So someone has really snatched up allthe cat related domain names here for varying prices. &gt;&gt; As an aside, lets see. Who has cats.com? Know that you guys have atyour disposal fairly sophisticated commands now. Like I can type literallywho is cats.com? And because of the way the internet isstructured you can actually see who has registered this. Apparently this person is [INAUDIBLE]using a proxy service. So whoever owns cats.com doesnt wantthe world to know who they are. So theyve registered if throughsome random privacy service. But sometimes you actuallyget actual owners. &gt;&gt; And this is to say, especially if yourepursuing some startup and you really want some domain name and yourewilling to pay someone else for it, you can figure out contactinformation in that way. &gt;&gt; But also interesting is this. Let me scroll up to this portion. So this is that same output. And this is just tacky. So apparently cats.com can beyours for the right price. But whats interesting hereis that the name servers-- this is total abuse of what a nameservers supposed to be-- your name server is not supposed to bethisdomainforsale.com. If we actually choose something like-- lets choose something a little morelegitimate like, who is google.com, and scroll up here. So here-- what happened there? Interesting. Beyond who is-- lets keep it more low key. &gt;&gt; Who is mit.edu? OK. This is helpful. So this is what I was hoping for. Legitimate use of the DNS service. Name servers here indicatethe following. This is MITs way of saying, wheneversomeone in the world, wherever they are, types in mit.edu and hits Enter,your laptop, whether Mac or PC, will somehow eventually figure out that thepeople in the world that know what the IP address is for mit.edu or any of thesub domains at mit.edu or any of these servers here-- and it actuallylooks like MITs infrastructure is pretty robust as you would expect. They have multiple names serverswhich is good for redundancy. And in fact, they seem to be globallydistributed across the world. A bunch of those seem to be in the US,a couple in Asia, one in Europe, two in somewhere else. &gt;&gt; But the point here is that DNS thatweve been taking for granted and generally described as a big Excel tablethat has IP addresses and domain names is actually fairly sophisticatedhierarchical service so that in the world theres actually a finite numberof servers that essentially know where all of the .coms are or all ofthe .nets are, all of the .orgs are, and so forth. &gt;&gt; So when you go ahead and buy a domainname from a place like Name Cheap or Go Daddy or any other website, one ofthe key steps that youll have to do you, if you do this even for your finalproject, is tell the registrar from whom youre buying the domainname, who in the world knows your websites IP addresses, whoyour name servers are. &gt;&gt; So if you use, for instance CS50shosting account-- we happen to have this account through dreamhost.comwhich is a popular web hosting company-- they will tell you that you should buyyour domain and tell the world that your domains name server isns1.dreamhost.com, ns2.dreamhost.com, and ns3.dreamhost.com. &gt;&gt; But thats it. Buying a domain name means giving themthe money and getting ownership of the domain, but its more likea rental though. You get it for a year and then they billyou recurringly for the rest of your life until you cancelthe domain name. And then you tell them whothe name servers are. But then youre done withyour registrar. And from there youll interact only withyour web hosting company, which in CS50s case will be DreamHost. But again, more documentation will beprovided to you if you decide to go that route. &gt;&gt; So if you do this after the coursesend, simply googling web hosting company will turn up thousandsof options. And I would generally encourage you toask friends who might have used a company before if they recommendthem and had a good experience. &gt;&gt; Because theres a lot of fly by nightweb hosting companies, like a guy in his basement with a serverthat has an IP address. He has some extra RAM and hard diskspace and just sells web hosting accounts even though theres no way thatserver could handle hundreds of users or thousands of users. So realize you will getwhat you pay for. &gt;&gt; For quite a while for my personal homepage-- and this was totally acceptable because I had, like, twovisitors a month-- I was paying, like, $2.95 a month. And Im pretty sure it wasin someones basement. But again, you dont get necessarilyany guarantees of uptime or scalability. So again, youre typically lookingat something more than that. &gt;&gt; Well, what about SSL? So whats SSL used for? Lets now start to steer in thedirections of security and things that can harm us. Especially as you ventureout on your own. &gt;&gt; Whats SSL, or whats SSL used for? Security, OK. So its used for security. What does that mean? So it stands for Secure Sockets Layer. And it is indicated by a URLthat starts with https://. Many of us have probably never typedhttps://, but youll often find that your browser is redirected from HTTP toHTTPS so that everything is there after encrypted. &gt;&gt; FYI, using SSL requires typically thatyou have a unique IP address. And typically to get a unique IP addressyou need to pay a web hosting company a few dollars more per month. So realize this is very easilyimplemented these days by buying an IP address and by buying whatscalled an SSL certificate. But realize that it does comeat some additional cost. And, as well try to scare in just abit, its not even necessarily 100% protective of whatever it isyoure trying to protect. &gt;&gt; So for security, Id thought Iddo sort of a random segue here. As you might know from CS50s lecturevideos, our production team has been a fan as I have of taking really nicephotography of campus, and aerial photography most recently. If you ever look up and you seesomething flying with a little camera, it may actually be CS50. And I just thought Id share minute ofsome of the footage the team has gathered, particularly as we look tothe spring semester and next fall. If any of you have a knack forphotography, videography, we would love to get you involvedbehind the scenes. But more on those details in a week. &gt;&gt; [MUSIC] &gt;&gt; DAVID J. MALAN: Turns out theres aminiature golf course on the top of the stadium that we never knew about. &gt;&gt; [MUSIC] &gt;&gt; DAVID J. MALAN: You can see theoutline of the drone there. &gt;&gt; [MUSIC] &gt;&gt; DAVID J. MALAN: The best part hereis, watch the jogger on the left. &gt;&gt; [MUSIC] &gt;&gt; DAVID J. MALAN: Another example of whatyou can do with technology thats only tangentially, frankly,related to security. But I thought that would be a morefun way of just saying, security. So lets see if we cant scare you guysnow with not only a bit of a few threats, but also an underlyingunderstanding of what these threats are so that moving forward you candecide how and whether to defend yourself against these things and atleast to be mindful of them as you make decisions as to whether or not tosend that email, whether or not to log into that website, whether or not touse that cyber cafes Wi-Fi access point so that you know what thethreats are indeed around you. &gt;&gt; So Jonathan referred to somethinglike this on Monday. He had a window screen shot. This one is of a Mac. How many of you have ever installedsoftware on your Mac or PC? Obviously everyone. How many of you have given much thoughtto typing in your password when prompted? I mean, even I dont, frankly. So a couple of us are goodat being paranoid. But consider what youreactually doing here. &gt;&gt; On a typical Mac or PC you havean administrator account. And typically youre the only one usinga laptop at least these days. So your account, Malan or JHarvardor whatever it is, is the administrator account. And what that means is you haveroot access to your computer. You can install anything you want,delete anything you want. &gt;&gt; And typically these days, because ofdated design decisions from years ago, the way most software gets installedis as an administrator. And even if your Mac or PC has at leastgotten smart enough over the years with the latest incarnations ofMac OS and Windows to not run your username by default as theadministrator, when you download some new program off the internet and try toinstall it, youre probably going to be prompted for your password. But the catch is at that point, youreliterally handing the keys of your computer over to whatever randomprogram you just downloaded and allowing it to installwhatever it wants. &gt;&gt; And as Jonathan alluded to, realizethat it might say that it wants to install your software that you careabout, Spotify or iTunes or whatever it is youre trying to install. But youre literally trusting the authoror authors of the software to only do what the programis supposed to do. &gt;&gt; But there is absolutely nothingstopping most programs on most operating systems from deleting files,from uploading them to some companys website, from trolling around,for encrypting things. And again, weve sort of builtan entire infrastructure over the years on trust. And so realize that youve just beentrusting random people and random companies for the most part. &gt;&gt; And Jonathan alluded to too, sometimesthose companies themselves are sort of knowingly malicious, all right? Sony caught a lot of flack a few yearsago for installing what was called a rootkit kit on peoples computerswithout their knowledge. And the gist of this was that when youbought a CD for instance that they didnt want you to be able to copy orrip the music off of, the CD would install, without your knowing,a rootkit on your computer. Rootkit just meaning software that runsas administrator that potentially does bad things. &gt;&gt; But among the things this thingdid was it hid itself. So some of you might be pretty savvywith your computer and know, well, I can just open the Task Manager or theActivity Monitor and I can look at all of the arcanely named programsthat are running. And if anything looks suspiciousIll just kill it or delete it. But thats what the rootkit did. It essentially said, if running TaskManager, dont show yourself. &gt;&gt; So the software was there. And only if you really, really lookedhard could you even find it. And this was done in the nameof copy protection. But just imagine what couldhave been done otherwise. &gt;&gt; Now in terms of protecting yourself. A lot of websites are wonderfullygracious in that they put these padlock icons on their homepage whichmeans that the website is secure. This is from bankofamerica.comthis morning. So what does that little padlock iconthere mean next to the Sign In button? &gt;&gt; Absolutely nothing. It means someone knows how to usePhotoshop to make a picture of a padlock icon. Like quite literally, the fact that itsthere is meant to be a positive signal to the user like,ooh, secure website. I should trust this website and nowtype in my username and password. And this has been conventional foryears, as recently as this morning. &gt;&gt; But consider the habits thatthis is getting us into. Consider the implicit message that allof these banks in this case have been sending us for years. If you see padlock, then secure. All right? &gt;&gt; So how can you abuse that systemof trust if youre the bad guy? Put a padlock on your website, andlogically, the users have been conditioned for years to assumepadlock means secure. And it might actually be secure. You might have a wonderfully secureSSL HTTPS connection to a fake website .com. And no one else in the world can seethat youre about to hand him or her your username and passwordto your account. &gt;&gt; This though, perhaps, is alittle more reassuring. So this is a screen shot of the topof my browser this morning at bankofamerica.com. And notice here too wehave a padlock icon. What does it mean in this contextin Chrome at least? &gt;&gt; So this is now using SSL. So this is actually a better thing. And the fact that Chrome is making itgreen is meant to draw our attention to the fact that this isnot only over SSL. This is a company that someone outthere has verified is actually bankofamerica.com. And that means that Bank of America,when buying their so-called SSL certificate, essentially big random,somewhat random numbers that implement security for them, they have beenverified by some independent third party that says, yep. This is actually the CEO of Bank ofAmerica trying to buy the certificate. Chrome will therefore trust thatcertification authority and say in green, this is bankofamerica.com. And Bank of America just pays a fewhundred dollars for that or a few thousand as opposed to afew tens of dollars. &gt;&gt; But here too, how many of you have everbehaved any differently because the URL in your browser isgreen instead of black? Right? So a couple of us. And thats good to be paranoid. But even then, those of you who evennotice these things, do you actually stop logging into an otherwise securewebsite if the URL is not green? All right, so probably not, right? At least most of us, if its not green,most likely youre just going to be like, whatever. Like, I want to log into this website. Thats why Im here. Im going to log in nonetheless. &gt;&gt; As an aside, Chrome is a littlebetter about this. But theres a lot of browsers likeFirefox for instance, at least for some time, where that padlock iconis, you can actually put any icon of your own. Let me see what the latest versionof Firefox looks like. So if we go to CS50.net. &gt;&gt; OK, so theyve gotten better as well. What the browsers used to do is like,heres for instance [? SAASs ?] crest up here. Thats the so-called favoriteicon for a website. Years ago-- actually not that long ago-- that littleshield would have been right here next to the URL. Because some genius decided that itwould just look pretty classy to have your graphical logo rightnext to your URL. And design wise, that actuallyis pretty compelling. &gt;&gt; So what did bad guy start doing? They started changing their favoriteicons, or their default icon for a homepage to be not a crestbut a padlock, which had absolutely no meaning. Other than their favorite iconwas a padlock it had no indications of security. &gt;&gt; So the lessons here area couple I think. One is that there are actually somewell intentioned mechanisms for teaching us users about security evenif you werent even aware what green meant or what even HTTPS meant. But if those mechanisms get us intothe bad habit of trusting websites when we see those positive signals,theyre very easily abused as we saw just a moment ago with somethingsilly like this. &gt;&gt; So session hijacking comes intoplay, as we said before, with cookies for instance. And what does this actually mean? Well with session hijacking this is allabout stealing someones cookies. So if I open up Chrome here, forinstance, and I open up the Inspector down here and I go tothe Network Tab-- and weve done this before-- and I go to something likehttp://facebook.com Enter, a whole bunch of stuff goes across the screenbecause of all the images and CSS and JavaScript files. &gt;&gt; But if I look at this one here noticethat Facebook is indeed planting one or more cookies on mybrowser right here. So these are essentially the handstamps that represent me. And now hopefully my browser willpresent this again and again when revisiting that website. But that only is secure, we said acouple weeks ago, if youre using SSL. &gt;&gt; But even SSL itself canbe compromised. Consider after all the way SSL works. When your browser connects to a remoteserver via https://, long story short, cryptography is involved. Its not as simple as Caesar orVisionaire or even DES, DES from a while back in pset2. Its more sophisticated than that. Its called public key cryptography. But really big and really randomnumbers are used to scramble information between point A, you,and point B, like facebook.com. &gt;&gt; But the problem is, how many of us againever type in https:// to start our website connectionin that secure mode? I mean, how many of you eventype http://facebook.com? All right, if you do, like, hello. You dont need to do thatanymore, right? The browser will figure it out. &gt;&gt; But most of us do indeedjust type facebook.com. Because if were using a browser, thebrowsers have gotten smart enough by 2013 to assume if youre using abrowser, you type in an address, you probably want to access it notvia email or instant message. You mean HTTP and Port 80. Those conventions have been adopted. &gt;&gt; But how does redirection work? Well, notice what happens here. If I go back to Chrome-- and lets do this in incognitomode so that all of my cookies are thrown away. And let me go here to,again, facebook.com. And lets see what happens. &gt;&gt; Recall that the first request wasindeed just for facebook.com. But what was the response that I got? It wasnt a 200 OK. It was 300, or 301, which is aredirect telling me to go to http://www.facebook.com, which iswhere Facebook wants me to go. But then if we look at the next request,and weve seen this before, notice what their second response is. Specifically that they want me now togo to the SSL version of Facebook. &gt;&gt; So here is an opportunity. This is a wonderfully useful featureof just the web and HTTP. If the end user like Facebook wants meto stay on the secure version of their website, great. They will redirect me for myself. And so I dont have to eventhink about that. &gt;&gt; But what if between point A and B,between you and Facebook, theres some bad guy, theres some systemadministrator at Harvard whos curious to see who your friends are. Or theres some-- years ago, this used to sound crazy-- but theres some government entity likethe NSA whos actually interested in who youre poking on Facebook. Wheres the opportunity there? Well, so long as someone has enoughtechnical savvy and they have access to your actual network over Wi-Fior some physical wire, what could they do? &gt;&gt; Well, if theyre on the same network asyou and they know something about TCP/IP and IP addresses and DNS and howall of that works, what if that man in the middle, what if that NationalSecurity Agency, whatever it may be, but what if that entity simplyresponds more quickly than Facebook to your HTTP request and says,oh, I am Facebook. Go ahead, and heres theHTML for facebook.com. &gt;&gt; Computers are pretty darn fast. So you could write a program running ona server like nsa.gov that when it hears a request from you forfacebook.com, very quickly behind the scenes gets the real facebook.com makinga perfectly [? esque ?] secure SSL connection between NSA and betweenFacebook, getting that HTML very securely for the login page, and thenthe NSA server just responds to you with a login page for facebook.com. &gt;&gt; Now how many of you would even noticethat youre using Facebook over HTTP still at that point because youveaccidentally connected to nsa.gov and not Facebook? The URLs not changing. All of this is being donebehind the scenes. But most of us, myself included,probably wouldnt notice such a minor detail. &gt;&gt; So you might have a perfectly workableconnection between you and what you think is Facebook, but theres aso-called man in the middle. And this is a general term for man inthe middle attack where you have some entity between you and point B thatssomehow manipulating, stealing, or watching your data. So even SSL is not surefire, especiallyif youve been tricked into not turning it on because of how theseunderlying mechanisms actually work. &gt;&gt; So a lesson today then too is if youreally want to be paranoid-- and even here there are threats-- you should really start getting intothe habit of typing in https://www whatever domain name youactually care about. &gt;&gt; And as an aside too theresyet another threat with regard to session hijacking. Very often when you first visit awebsite like facebook.com, unless the server has been configured to say thatthat hand stamp it put on you yesterday should be secure itself, yourbrowser might very well, upon visiting things like facebook.comgoogle.com, twitter.com, your browser might be presenting that hand stamp onlyto be slapped down and said, no. Use SSL. &gt;&gt; But its too late at that point. If you have already sent your handstamp, your cookie, in the clear with no SSL, you have a split secondvulnerability where someone sniffing your traffic, whether roommate or NSA,can then use that same cookie, and with a bit of technical savvy,present it as his or her own. &gt;&gt; Another attack you mightnot have thought about. This one is really on you if you screwthis up in writing some website that somehow uses SQL. So here, for instance, is a screenshot of Harvards login. And this is a general exampleof something with a username and password. Super common. So lets assume that SSL exists andtheres no man in the middle or anything like that. Now were focusing on the serverscode that you might write. &gt;&gt; Well, when I type in a username andpassword, suppose that the PIN service is implemented in PHP. And you might have some codeon that server like this. Get the user name from the post superglobal and get the password, and then if theyre using some pset7 likecode theres a query function that might do this. Select Star from users where usernameequals that and password equals that. &gt;&gt; That looks, at first glance,totally reasonable. This is syntactically valid PHP code. Logically theres nothingwrong with this. Presumably theres some more lines thatactually do something with the result that comes backfrom the database. But this is vulnerable forthe following reason. &gt;&gt; Notice that, like a good citizen,I have put in quotes, single quotes, the user name. And I put in single quotesthe password. And thats a good thing because theyrenot supposed to be numbers. Typically theyre going to be text. So Im quoting them like strings. &gt;&gt; And if I now advance further what if--and Ive removed the bullets from the PIN service temporarily-- what if I try to log in asPresident [? Scroob ?] but I claim that my password is12345 OR 1=1, and notice what I havent done. I did not close the othersingle quote. Because Im pretty sharphere as the bad guy. And Im assuming theyre yourenot very good with your PHP and MySQL code. Im guessing that youre not checkingfor the presence of quotes. &gt;&gt; So what just happened is that when youruser has typed in that string, the query youre about tocreate looks like this. And long story short, if you andsomething together or you or something together this is going to returna row from the database. Because it is always thecase that 1 equals 1. &gt;&gt; And just because you didnt anticipatethat your users, good or bad, might have an apostrophe in their name youhave created a SQL query thats still valid, and will return now more resultsthan you might have intended. And so this bad guy now has potentiallylogged in to your server because your database is returning a roweven if he or she has no idea what [? Scroobs ?] actual password is. &gt;&gt; Oh, I realized a typo here. I shouldve said password equals12345 like the previous example or 1 equals 1. Ill fix that online. &gt;&gt; So why did we have you using the queryfunction with question marks? One of the things the query functiondoes for you is it makes sure that when you pass in arguments after thecommas here like this that the query thats actually sent to thedatabase looks like this. A lot uglier to look at, but backslashes have been automatically inserted to avoid precisely thatinjection attack that I showed a moment ago. &gt;&gt; Now a fun XKCD that I thought Id pullup here that hopefully should now be a little more understandableis this one here. &gt;&gt; A little bit? Maybe we need a little morediscussion on that. So this is alluding to a little kidnamed Bobby who has somehow taken advantage of a website that is justtrusting that what the user has typed in is not, in fact, SQL code,but is in fact a string. &gt;&gt; Now you may recall that drop-- you might have seen this-- drop meansdelete a table, delete a database. So if you essentially claim thatyour name is Robert\";droptabl estudentsomething, ] you might very well trick the databasenot only into checking that youre indeed Robert, but semicolon alsoproceed to drop the table. &gt;&gt; And so SQL injection attacks canactually be as threatening as this whereby you can delete someones data,you can select more datas than intended, you can insertor update data. And you can actually see this upon athome exercise, not for malicious purposes but just for instructional,is any time youre prompted to log into website, especially some sort ofnon very public, very popular website, try logging in as John OReillyor someone with an apostrophe in their name. Or literally just type apostrophe,hit Enter, and see what happens. &gt;&gt; And all too often, tragically, peoplehave not sanitized their inputs and made sure that things like quotesor semicolons are escaped. Which is why in pset7 we giveyou this query function. But do not under appreciate exactlywhat it is doing for you. &gt;&gt; So with that said, enjoy usingthe web this week. And we will see you on Monday. &gt;&gt; At the next CD50. &gt;&gt; [MUSIC]'"
      ]
     },
     "execution_count": 5,
     "metadata": {},
     "output_type": "execute_result"
    }
   ],
   "source": [
    "df['text'] [856]"
   ]
  },
  {
   "cell_type": "code",
   "execution_count": 6,
   "id": "497edb5b",
   "metadata": {},
   "outputs": [
    {
     "data": {
      "text/plain": [
       "'DAVD J. ALAN: All right. o this is 50 and this is the end of week 10. o some of you might have seen this already, but being circulated of late is an article that thought d read an excerpt from and then show you a three minute video that paints the same picture. t was really a touching story, thought, of this intersection of the real world with genuinely compelling uses of technology. o the article was entitled, \"A boy oversleeps on train, uses Google aps to find family 25 years later.\" And the first couple of paragraphs were, \"When aroo was five years old he went with his older brother to scrounge for change on a passenger train in a town about two hours from his small hometown. aroo became tired and hopped on a nearby train where he thought his brother was, then fell asleep. When he woke up he was in alcutta, nearly 900 miles away. aroo tried to find his way back, but he didnt know the name of his hometown. And as a tiny illiterate boy in a vast city full of forgotten children he had virtually no chance of getting home. He was a street child for a while until a local adoption agency hooked him up with an Australian couple who brought him to live in Hobart, Tasmania. aroo moved there, learned English, and grew up. But he never stopped looking for his family and his hometown. Decades later, he discovered Google Earth and followed rail tracks. And giving himself a prescribed radius based on how long he thought he was asleep and how fast he thought the train was going, he knew hed grown up in a warm climate, he knew he spoke Hindi as a child, and hed been told that he looked like he was from East ndia. Finally, after years of scouring the satellite photos, he recognized a few landmarks. And after chatting with an administrator of a nearby towns Facebook page, he realized hed found home.\" o here then is the video telling that tale from his perspective. t was 26 years ago and was just about to turn five. We got to the train station and we boarded a train together. y brother just said ll stay here and ll come back. And just thought, well, you know, might as well just go to sleep and then hell just wake me up. And when wake up the next day, the whole carriage was empty on a runaway train, a ghost train taking me dont know where. was adopted out to Australia to a Australian family. And om had decorated my room with the map of ndia, which she put next to my bedside. woke up every morning seeing that map, and hence, it sort of kept the memories alive. People would say, youre trying to find a needle in a haystack. aroo, youll never find it. d have flashes of the places that used to go, the flashes of my familys faces. There was the image of my mother sitting down with her legs crossed just watching her cry. Life is just so hard. That was my treasure. And was looking in Google ap and realized theres Google Earth as well. n a world where you could zoom into started to have all these thoughts and what possibilities that this could do for me. said to myself, well, you know, youve got all the photographic memories and landmarks where youre from and you know what the town looks like. This could be an application that you can use to find your way back. thought, well, ll put a dot on alcutta Train tation in a radius line that you should be searching around this area. came across these train tracks. And started following it and came to a train station which reflected the same image that was in my memories. Everything matched. just thought, yep. know where m going. m just going to let the map that have in my head to lead me and take me back to my hometown. came to the doorstep of the house that was born and walked around about fifteen meters around the corner. There was three ladies standing outside adjacent to each other. And the middle one stepped forward. And just thought, this is your mother. he came forward, she hugged me, and we were there for about five minutes. he grabbed my hand and she took me to the house and got on the phone and she rang my sister and my brother to say that your brother has just all of the sudden appeared like a ghost. And then the family was reunited again. Everythings all good. help my mother out. he doesnt have to be slaving away. he can lead the rest of her life in peace. t was a needle in a haystack, but the needle was there. Everythings there. Everything we have in the world is the tap of a button. But youve got to have the will and the determination to wanting it. o a really sweet story. And it actually reminds me of quite a topic thats been getting quite a bit of attention of late in The rimson, more nationally in general. Especially as OOs are taking the stage of late. OOs being these massive and open online courses of which 50 is one. And people talking about how, for instance, the humanities arent really catching up or arent nearly as in vogue as they once were. And would encourage you guys, much like Jonathan did on onday, to think about as you exit 50, and we know already about 50% of you will not continue on to take another computer science course, and thats totally fine and expected. Because one of the overarching goals of a class like this is really to empower you guys with just an understanding of how all of this stuff works and how this world of technology works. o that when you are back in your own worlds, whether its premed or whether its the humanities or the social sciences or some other field altogether, that you guys are bringing some technical savvy to the table and helping to make smart decisions when it comes to the use of and introduction of technology into your world. For instance was reminded of late too of two of the undergraduate classes took two years ago, which were such simple uses of technology but ever so compelling. First Nights with Professor Tom Kelly if youve taken the class. ts a class on classical music on this stage here where you learn a little something about music. ts actually First Nights that 50 borrowed the idea of tracks for those less comfortable in between and more comfortable. n my time they had different tracks for kids with absolutely no music experience like me, and then kids who had been performing since they were five years old. And that class, for instance, just had a website like most any other, but it was a website that allowed you to explore music on it and play back musical clips from class, from the web, and just use technology in a very seamless way. Another class years later that audited, essentially, in grad school, Anthro 1010, ntroduction to Archaeology here. t was amazing. And one of the most compelling yet super obvious, in retrospect, uses of software was that the professors in that class used Google Earth. We were sitting across the street in some lecture hall. And you couldnt travel, for instance, to the iddle East to the dig that one of the professors had just come back on, but we could do that virtually by flying around in Google Earth and looking at a birds eye view at the dig site he had just returned from a week ago. o would encourage you guys, especially in the humanities, to go back to those departments after this class bringing your final projects with you or ideas of your own, and see just what you can do to infuse your own fields in humanities or beyond with a little bit of this sort of thing that weve explored here in 50. o with that picture painted, thought wed try to tackle two things today. One, try to give you a sense of where you can go after 50. And in particular, if you choose to tackle a web based project as is incredibly common, how you can go about taking off all of 50s training wheels and going out there on your own and not having to rely on a PDF or a specification of a pset? Not having to rely on a 50 appliance anymore. But can really pull yourself up by your bootstraps. With that said, based final projects are welcome. Things that use the stand for a portable library in graphics are welcome. We just know that statistically a lot of people bite off projects in PHP and Python and Ruby and yQL and other environments, so well bias some of our remarks toward that. But a quick look back. o we took for granted in pset7 the fact that $_EON existed. This was a super global, a global, associative array. And what does this let you do? Functionally, whats the feature this gives us? Yeah? To track the users D. And why is this useful? To be able to store inside of this super global JHarvard or or alans user D when he or she visits a site. Exactly. o you dont have to log in again and again. t would be a really lame world wide web if every time you clicked a link on a site like Facebook or every time you clicked on an email in Gmail you had to reauthenticate to prove that its still you and not your roommate who might have walked up to your computer in your absence. o we use EON to just remember who you are. And how is this implemented underneath the hood? How does a website that uses , the protocol that web browsers and servers speak, how does HTTP, which is a stateless protocol, lets say. And by stateless mean, once you connect to a website, download some HTLs, some Javacript, some , your browsers icon stops spinning. You dont have a constant connection to the server typically. Thats it. Theres no state maintained constantly. o how is EON implemented in such a way that every time you do visit a new page, the website remembers who you are? Whats the underlying implementation detail? hout it out. ts one word. ookies. All right. o cookies. Well, how are cookies used? Well recall that a cookie is generally just a piece of information. And its often a big random number, but not always. And a cookie is planted on your hard drive or in your computers RA so that every time you revisit that same website, your browser reminds the server, am user 1234567. am user 1234567. And so long as the server has remembered that user 1234567 is JHarvard, the website will just assume that you are who you say you are. And recall that we present these cookies sort of in the form of a virtual hand stand. ts sent in the HTTP headers just to remind the server that you are who it thinks you are. Of course, theres a threat. What threat does this open us up to if were essentially using sort of a club or an amusement park mechanism for remembering who we are? f you copy someones cookie and hijack their session, so to speak, you can pretend to be someone else and the website most likely is just going to believe you. o well come back to that. Because the other theme for today beyond empowerment is also talking about the very scary world we live in and just how much of what you do on the web, how much of what you do even on your cell phones today can be tracked really by anyone between you and point B. And Ajax, recall. We looked only briefly at this, although youve been using it indirectly in pset8 because youre using Google aps and because youre using Google Earth. Google aps and Google Earth dont download the entire world to your desktop, obviously, the moment you load pset8. t only downloads a square of the world or a bigger square of the earth. And then every time you sort of steer out of range you might notice especially if on a slow connection you might see some gray for a moment or a bit of fuzzy imagery as the computer downloads more such tiles, more such imagery from the world or the earth. And Ajax is generally the technique by which websites are doing that. Once you need more of the map, your browser is going to use Ajax, which is not itself a language or technology, its just a technique. ts the use of Javacript to go get more information from a server that allows your browser to go get whats to the east or whats to the west of whats otherwise currently being shown in that map. o this is a topic that many of you will encounter either directly or indirectly via final projects if you choose to make something thats similarly dynamic thats pulling data from some third party website. o weve got a really exciting next Wednesday ahead. Quiz one, the information for which is on 50.net already. Know that therell be a review session this coming onday at 5:30. The date and time is already posted on 50.net in that About sheet. And do let us know you have any questions. Pset8 meanwhile is already in your hands. And let me just address one FAQ to save folks some stress. For the most part a lot of the chatter we see at office hours and a lot of the bugs we see reported on Discuss are indeed bugs in a students code. But when youve encountered something like the Google Earth plugin crashing or not even working and you are confident its not you, its not a issue, it is not a bug you introduced into the distribution code. Realize just FY this is sort of plan Z that the last time we used this problem set and we ran into similar issues, theres a line of code in service.js that essentially is this, that says, turn buildings on. And they work around the last time we did this in, again, corner cases where students just couldnt get the darn thing to work is change true to false in that one line of code. And youll find it if you search through service.js. dont recommend this because you will create the most barren landscape of ambridge, assachusetts. This will literally flatten your world so that all you see are the teaching fellows and course assistants on the horizon and no buildings. But realize for whatever reason the Google Earth plugin seems still to be buggy a year later, so this might be your fail save. o rather than resort to tears, resort to turning buildings off if you know its the plugin thats not cooperating on your ac or P. But, this is again last resort if youre sure its not a bug. o the Hackathon. A couple of teasers just to get you excited. We had quite a few RVPs. And just to paint a picture of what awaits, thought d give you a few seconds recall of this imagery from last year. DAVD J. ALAN: o thats what awaits you in terms of the Hackathon. And this will be an opportunity, to be clear, not to start your final projects but to continue working on your final projects alongside classmates and staff and lots of food. And again, if youre awake at 5:00 A well take you down the road to HOP. The 50 fair, meanwhile, is the climax for the entire class where youll bring your laptops and friends, maybe even family to a room on campus down the street to exhibit your projects on laptops, on tall tables like this with lots of food and friends and music in the background, as well as our friends from industry. ompanies like Facebook and icrosoft and Google and Amazon and bunches of others so that if interested in just hearing about the real world or chatting with folks about real world internship or full time opportunities, know that some of our friends from industry will be there. And a couple of pictures we can paint here are as follows. DAVD J. ALAN: All right. o that then is the 50 fair. o lets now proceed to tell a story that really will empower you hopefully for things like final projects. o one of few little things to seed your mind, either for final projects or just more generally for projects that you might decide to tackle after the course, these are all documented on manual.cs50.net where the 50 manual where we have lots of techniques documented. And this is just shorthand notation for saying that there exists in the world things called to email gateways, which is a fancy way of saying, theres servers in the world that know how to convert emails to text messages. o if for your final project you want to create some sort of mobile themed service that allows you to alert friends or users to events on campus or whats being served in the D Hall that night or any such alert feature, know that its simple as sending an email as with PHPailer which you might have used for pset7 or we saw briefly a week or so ago, to addresses like this. And in fact you can text this assuming your friend has an unlimited texting plan and you dont want to charge them $0.10. But if you send an email to your friend who you know to have Verizon or ATT using Gmail and just sending it to their phone number at whatever the sub domain there is, realize you will send a text message. But this is one of those things to be careful of. f you troll through last years 50 videos think it was, a horrific, horrific, horrific bug wrote in code ended up sending about 20,000 text messages live to our students in class. And only because someone noticed that they were getting multiple text messages from me did have the wherewithal to hit ontrol quickly and stop that process. ontrol , you recall, is your friend in instances of infinite loop. o beware the power we have just given to you rather irresponsibly, most likely, based on my own experience. But thats on the web and has been there for some time. All right. o textmarks.com. o this is a website. And theres bunches of others out there as well that weve actually used as a class for years to be able to receive text messages. nfortunately, sending text messages is easy as sending emails like that. Receivings a little harder, especially if you want to have one of those sexy short codes thats only five or six digits long. o for instance, for years youve been able to send a text message and you can try this as well to 41411. And thats the phone number for this particular startup. And if you send a message to 41411 ll just write it up here, so 41411 and then send them a message like BOY for huttle Boy. And then type in something like mather quad. o you send that text message to that phone number. Within a few seconds you should get back a response from the 50 huttle Boy service, which is the shuttle scheduling software that weve had out there on the web for some time. And it will respond to you via text message. Because what we have done as a class, as a programmer, is to write software, configured our free account with text marks to listen for text messages sent to BOY at that number. And what they do is forward those text messages to our PHPbased website as HTTP parameters saying, here. This user with this phone number sent you this text message. Do with it what you want. o we wrote some software that upon receiving a string like BOY mather quad, we parse it. We figure out where the spaces are between words. And we as a class decide how to respond to that. And if you try that now, for instance, you should see, via response within a few seconds, the next few shuttles going from mather to the quad if any. And theres other stops. You can type in Boylston or other such stops on campus, and it should recognize those words. o parse.com. This is another service that weve been pointing some students at for final projects thats wonderful in that its free for a reasonable amount of usage. And if go to parse.com youll see that this is an alternative to actually having something like your own yQL database. And frankly, its just kind of mesmerizing. This is whats inside of the cloud even on a cloudy day. o parse.com allows you to do a bunch of interesting things. And theres other alternatives to this out there. For instance, you can use them as your back end database. o you dont need to have a web hosting company. You dont need to have a yQL database. You can instead use their back end. f youre doing a mobile project for Android or iO or the like, know that there exists things like push services so you can push alerts to your friends or your users home screens. And then a bunch of other features as well. o if you have interest, check out these websites and websites like them to just see how many other peoples shoulders you can stand on to make really cool software of your own. Now in terms of authentication, an FAQ, is how do you actually guarantee that your users are people on campus, Harvard students or faculty or staff? o 50 has its own authentication service called 50 D. Go to that RL and you can restrict your website to anyone with a Harvard D, for instance. o know that we can handle that. You guys should not be in the business of saying, whats your Harvard D? Whats your Harvard PN? Let me now do something with it. Well do all of that. And what well give you back is someones name and email address, but not anything sensitive. An app on a mobile device, it can be made to work on a mobile device, but its not quite designed for that. o youll end up spending a non trivial amount of time doing so. o would discourage that route for now. This is really intended for web based applications. o web hosting. o if you havent seen on the courses homepage and heres where well begin a story web hosting is all about paying for usually a service, host a server owned by someone else on the web that has an P address, and you then put your website on it. And they usually give you email accounts and databases and other such features. Know that if you dont want to actually pay for such, go to that RL there and 50 actually has a nonprofit account that you can use to actually have not http://project inside of the appliance for your final project. f you actually want it to be something like, isawyouharvard.com, you can buy that domain name although not that particular one and then you can go about hosting it on a public web server like we can offer you guys through here. And in fact if unfamiliar, if youve never been to isawyouharvard.com, one, go there. But two, know that that was a young womans name by Tej To Toor Too two years ago, three years ago, who was a 50 alumni who happened a day or two before the 50 fair sent out an email to her house mailing list and voila. Two days later by the 50 fair, she had hundreds of users all creeping on each other on her website and saying how they had seen her or him on campus. o thats one of 50s favorite success stories from a 50 final project. o how do you go about putting a website like that on the internet? Well, theres a few such ingredients here. o one, you have to buy a domain name. There are bunches of places in the world from which you can buy a domain name. And for instance, one that we recommend only because its popular and its cheap is called namecheap.com. But you can go godaddy.com and dozens of others out there. You can read up on reviews. But for the most part it doesnt matter from whom you buy a domain name. And they vary in price and they vary in suffix. The suffixes like .com, .net, .org, .io, .tv, those actually vary in price. But if we wanted to do something like cats.com we can go to this website, click earch. Presumably this one is taken. But apparently, catsagainst.com is available. pluscats.com is available. Lovecats, catscorner, dampcats.net. All of this hopefully pseudo randomly generated. f you want cats.pw, $1,500 only, which is a bit insane. o someone has really snatched up all the cat related domain names here for varying prices. As an aside, lets see. Who has cats.com? Know that you guys have at your disposal fairly sophisticated commands now. Like can type literally who is cats.com? And because of the way the internet is structured you can actually see who has registered this. Apparently this person is using a proxy service. o whoever owns cats.com doesnt want the world to know who they are. o theyve registered if through some random privacy service. But sometimes you actually get actual owners. And this is to say, especially if youre pursuing some startup and you really want some domain name and youre willing to pay someone else for it, you can figure out contact information in that way. But also interesting is this. Let me scroll up to this portion. o this is that same output. And this is just tacky. o apparently cats.com can be yours for the right price. But whats interesting here is that the name servers this is total abuse of what a name servers supposed to be your name server is not supposed to be thisdomainforsale.com. f we actually choose something like lets choose something a little more legitimate like, who is google.com, and scroll up here. o here what happened there? nteresting. Beyond who is lets keep it more low key. Who is mit.edu? OK. This is helpful. o this is what was hoping for. Legitimate use of the DN service. Name servers here indicate the following. This is Ts way of saying, whenever someone in the world, wherever they are, types in mit.edu and hits Enter, your laptop, whether ac or P, will somehow eventually figure out that the people in the world that know what the P address is for mit.edu or any of the sub domains at mit.edu or any of these servers here and it actually looks like Ts infrastructure is pretty robust as you would expect. They have multiple names servers which is good for redundancy. And in fact, they seem to be globally distributed across the world. A bunch of those seem to be in the , a couple in Asia, one in Europe, two in somewhere else. But the point here is that DN that weve been taking for granted and generally described as a big Excel table that has P addresses and domain names is actually fairly sophisticated hierarchical service so that in the world theres actually a finite number of servers that essentially know where all of the .coms are or all of the .nets are, all of the .orgs are, and so forth. o when you go ahead and buy a domain name from a place like Name heap or Go Daddy or any other website, one of the key steps that youll have to do you, if you do this even for your final project, is tell the registrar from whom youre buying the domain name, who in the world knows your websites P addresses, who your name servers are. o if you use, for instance 50s hosting account we happen to have this account through dreamhost.com which is a popular web hosting company they will tell you that you should buy your domain and tell the world that your domains name server is ns1.dreamhost.com, ns2.dreamhost.com, and ns3.dreamhost.com. But thats it. Buying a domain name means giving them the money and getting ownership of the domain, but its more like a rental though. You get it for a year and then they bill you recurringly for the rest of your life until you cancel the domain name. And then you tell them who the name servers are. But then youre done with your registrar. And from there youll interact only with your web hosting company, which in 50s case will be DreamHost. But again, more documentation will be provided to you if you decide to go that route. o if you do this after the courses end, simply googling web hosting company will turn up thousands of options. And would generally encourage you to ask friends who might have used a company before if they recommend them and had a good experience. Because theres a lot of fly by night web hosting companies, like a guy in his basement with a server that has an P address. He has some extra RA and hard disk space and just sells web hosting accounts even though theres no way that server could handle hundreds of users or thousands of users. o realize you will get what you pay for. For quite a while for my personal home page and this was totally acceptable because had, like, two visitors a month was paying, like, $2.95 a month. And m pretty sure it was in someones basement. But again, you dont get necessarily any guarantees of uptime or scalability. o again, youre typically looking at something more than that. Well, what about L? o whats L used for? Lets now start to steer in the directions of security and things that can harm us. Especially as you venture out on your own. Whats L, or whats L used for? ecurity, OK. o its used for security. What does that mean? o it stands for ecure ockets Layer. And it is indicated by a RL that starts with https://. any of us have probably never typed https://, but youll often find that your browser is redirected from HTTP to HTTP so that everything is there after encrypted. FY, using L requires typically that you have a unique P address. And typically to get a unique P address you need to pay a web hosting company a few dollars more per month. o realize this is very easily implemented these days by buying an P address and by buying whats called an L certificate. But realize that it does come at some additional cost. And, as well try to scare in just a bit, its not even necessarily 100% protective of whatever it is youre trying to protect. o for security, d thought d do sort of a random segue here. As you might know from 50s lecture videos, our production team has been a fan as have of taking really nice photography of campus, and aerial photography most recently. f you ever look up and you see something flying with a little camera, it may actually be 50. And just thought d share minute of some of the footage the team has gathered, particularly as we look to the spring semester and next fall. f any of you have a knack for photography, videography, we would love to get you involved behind the scenes. But more on those details in a week. DAVD J. ALAN: Turns out theres a miniature golf course on the top of the stadium that we never knew about. DAVD J. ALAN: You can see the outline of the drone there. DAVD J. ALAN: The best part here is, watch the jogger on the left. DAVD J. ALAN: Another example of what you can do with technology thats only tangentially, frankly, related to security. But thought that would be a more fun way of just saying, security. o lets see if we cant scare you guys now with not only a bit of a few threats, but also an underlying understanding of what these threats are so that moving forward you can decide how and whether to defend yourself against these things and at least to be mindful of them as you make decisions as to whether or not to send that email, whether or not to log into that website, whether or not to use that cyber cafes WiFi access point so that you know what the threats are indeed around you. o Jonathan referred to something like this on onday. He had a window screen shot. This one is of a ac. How many of you have ever installed software on your ac or P? Obviously everyone. How many of you have given much thought to typing in your password when prompted? mean, even dont, frankly. o a couple of us are good at being paranoid. But consider what youre actually doing here. On a typical ac or P you have an administrator account. And typically youre the only one using a laptop at least these days. o your account, alan or JHarvard or whatever it is, is the administrator account. And what that means is you have root access to your computer. You can install anything you want, delete anything you want. And typically these days, because of dated design decisions from years ago, the way most software gets installed is as an administrator. And even if your ac or P has at least gotten smart enough over the years with the latest incarnations of ac O and Windows to not run your username by default as the administrator, when you download some new program off the internet and try to install it, youre probably going to be prompted for your password. But the catch is at that point, youre literally handing the keys of your computer over to whatever random program you just downloaded and allowing it to install whatever it wants. And as Jonathan alluded to, realize that it might say that it wants to install your software that you care about, potify or iTunes or whatever it is youre trying to install. But youre literally trusting the author or authors of the software to only do what the program is supposed to do. But there is absolutely nothing stopping most programs on most operating systems from deleting files, from uploading them to some companys website, from trolling around, for encrypting things. And again, weve sort of built an entire infrastructure over the years on trust. And so realize that youve just been trusting random people and random companies for the most part. And Jonathan alluded to too, sometimes those companies themselves are sort of knowingly malicious, all right? ony caught a lot of flack a few years ago for installing what was called a rootkit kit on peoples computers without their knowledge. And the gist of this was that when you bought a D for instance that they didnt want you to be able to copy or rip the music off of, the D would install, without your knowing, a rootkit on your computer. Rootkit just meaning software that runs as administrator that potentially does bad things. But among the things this thing did was it hid itself. o some of you might be pretty savvy with your computer and know, well, can just open the Task anager or the Activity onitor and can look at all of the arcanely named programs that are running. And if anything looks suspicious ll just kill it or delete it. But thats what the rootkit did. t essentially said, if running Task anager, dont show yourself. o the software was there. And only if you really, really looked hard could you even find it. And this was done in the name of copy protection. But just imagine what could have been done otherwise. Now in terms of protecting yourself. A lot of websites are wonderfully gracious in that they put these padlock icons on their homepage which means that the website is secure. This is from bankofamerica.com this morning. o what does that little padlock icon there mean next to the ign n button? Absolutely nothing. t means someone knows how to use Photoshop to make a picture of a padlock icon. Like quite literally, the fact that its there is meant to be a positive signal to the user like, ooh, secure website. should trust this website and now type in my username and password. And this has been conventional for years, as recently as this morning. But consider the habits that this is getting us into. onsider the implicit message that all of these banks in this case have been sending us for years. f you see padlock, then secure. All right? o how can you abuse that system of trust if youre the bad guy? Put a padlock on your website, and logically, the users have been conditioned for years to assume padlock means secure. And it might actually be secure. You might have a wonderfully secure L HTTP connection to a fake website .com. And no one else in the world can see that youre about to hand him or her your username and password to your account. This though, perhaps, is a little more reassuring. o this is a screen shot of the top of my browser this morning at bankofamerica.com. And notice here too we have a padlock icon. What does it mean in this context in hrome at least? o this is now using L. o this is actually a better thing. And the fact that hrome is making it green is meant to draw our attention to the fact that this is not only over L. This is a company that someone out there has verified is actually bankofamerica.com. And that means that Bank of America, when buying their socalled L certificate, essentially big random, somewhat random numbers that implement security for them, they have been verified by some independent third party that says, yep. This is actually the EO of Bank of America trying to buy the certificate. hrome will therefore trust that certification authority and say in green, this is bankofamerica.com. And Bank of America just pays a few hundred dollars for that or a few thousand as opposed to a few tens of dollars. But here too, how many of you have ever behaved any differently because the RL in your browser is green instead of black? Right? o a couple of us. And thats good to be paranoid. But even then, those of you who even notice these things, do you actually stop logging into an otherwise secure website if the RL is not green? All right, so probably not, right? At least most of us, if its not green, most likely youre just going to be like, whatever. Like, want to log into this website. Thats why m here. m going to log in nonetheless. As an aside, hrome is a little better about this. But theres a lot of browsers like Firefox for instance, at least for some time, where that padlock icon is, you can actually put any icon of your own. Let me see what the latest version of Firefox looks like. o if we go to 50.net. OK, so theyve gotten better as well. What the browsers used to do is like, heres for instance crest up here. Thats the socalled favorite icon for a website. Years ago actually not that long ago that little shield would have been right here next to the RL. Because some genius decided that it would just look pretty classy to have your graphical logo right next to your RL. And design wise, that actually is pretty compelling. o what did bad guy start doing? They started changing their favorite icons, or their default icon for a homepage to be not a crest but a padlock, which had absolutely no meaning. Other than their favorite icon was a padlock it had no indications of security. o the lessons here are a couple think. One is that there are actually some well intentioned mechanisms for teaching us users about security even if you werent even aware what green meant or what even HTTP meant. But if those mechanisms get us into the bad habit of trusting websites when we see those positive signals, theyre very easily abused as we saw just a moment ago with something silly like this. o session hijacking comes into play, as we said before, with cookies for instance. And what does this actually mean? Well with session hijacking this is all about stealing someones cookies. o if open up hrome here, for instance, and open up the nspector down here and go to the Network Tab and weve done this before and go to something like http://facebook.com Enter, a whole bunch of stuff goes across the screen because of all the images and and Javacript files. But if look at this one here notice that Facebook is indeed planting one or more cookies on my browser right here. o these are essentially the hand stamps that represent me. And now hopefully my browser will present this again and again when revisiting that website. But that only is secure, we said a couple weeks ago, if youre using L. But even L itself can be compromised. onsider after all the way L works. When your browser connects to a remote server via https://, long story short, cryptography is involved. ts not as simple as aesar or Visionaire or even DE, DE from a while back in pset2. ts more sophisticated than that. ts called public key cryptography. But really big and really random numbers are used to scramble information between point A, you, and point B, like facebook.com. But the problem is, how many of us again ever type in https:// to start our website connection in that secure mode? mean, how many of you even type http://facebook.com? All right, if you do, like, hello. You dont need to do that anymore, right? The browser will figure it out. But most of us do indeed just type facebook.com. Because if were using a browser, the browsers have gotten smart enough by 2013 to assume if youre using a browser, you type in an address, you probably want to access it not via email or instant message. You mean HTTP and Port 80. Those conventions have been adopted. But how does redirection work? Well, notice what happens here. f go back to hrome and lets do this in incognito mode so that all of my cookies are thrown away. And let me go here to, again, facebook.com. And lets see what happens. Recall that the first request was indeed just for facebook.com. But what was the response that got? t wasnt a 200 OK. t was 300, or 301, which is a redirect telling me to go to http://www.facebook.com, which is where Facebook wants me to go. But then if we look at the next request, and weve seen this before, notice what their second response is. pecifically that they want me now to go to the L version of Facebook. o here is an opportunity. This is a wonderfully useful feature of just the web and HTTP. f the end user like Facebook wants me to stay on the secure version of their website, great. They will redirect me for myself. And so dont have to even think about that. But what if between point A and B, between you and Facebook, theres some bad guy, theres some system administrator at Harvard whos curious to see who your friends are. Or theres some years ago, this used to sound crazy but theres some government entity like the NA whos actually interested in who youre poking on Facebook. Wheres the opportunity there? Well, so long as someone has enough technical savvy and they have access to your actual network over WiFi or some physical wire, what could they do? Well, if theyre on the same network as you and they know something about TP/P and P addresses and DN and how all of that works, what if that man in the middle, what if that National ecurity Agency, whatever it may be, but what if that entity simply responds more quickly than Facebook to your HTTP request and says, oh, am Facebook. Go ahead, and heres the HTL for facebook.com. omputers are pretty darn fast. o you could write a program running on a server like nsa.gov that when it hears a request from you for facebook.com, very quickly behind the scenes gets the real facebook.com making a perfectly secure L connection between NA and between Facebook, getting that HTL very securely for the login page, and then the NA server just responds to you with a login page for facebook.com. Now how many of you would even notice that youre using Facebook over HTTP still at that point because youve accidentally connected to nsa.gov and not Facebook? The RLs not changing. All of this is being done behind the scenes. But most of us, myself included, probably wouldnt notice such a minor detail. o you might have a perfectly workable connection between you and what you think is Facebook, but theres a socalled man in the middle. And this is a general term for man in the middle attack where you have some entity between you and point B thats somehow manipulating, stealing, or watching your data. o even L is not surefire, especially if youve been tricked into not turning it on because of how these underlying mechanisms actually work. o a lesson today then too is if you really want to be paranoid and even here there are threats you should really start getting into the habit of typing in https://www whatever domain name you actually care about. And as an aside too theres yet another threat with regard to session hijacking. Very often when you first visit a website like facebook.com, unless the server has been configured to say that that hand stamp it put on you yesterday should be secure itself, your browser might very well, upon visiting things like facebook.com google.com, twitter.com, your browser might be presenting that hand stamp only to be slapped down and said, no. se L. But its too late at that point. f you have already sent your hand stamp, your cookie, in the clear with no L, you have a split second vulnerability where someone sniffing your traffic, whether roommate or NA, can then use that same cookie, and with a bit of technical savvy, present it as his or her own. Another attack you might not have thought about. This one is really on you if you screw this up in writing some website that somehow uses QL. o here, for instance, is a screen shot of Harvards login. And this is a general example of something with a username and password. uper common. o lets assume that L exists and theres no man in the middle or anything like that. Now were focusing on the servers code that you might write. Well, when type in a username and password, suppose that the PN service is implemented in PHP. And you might have some code on that server like this. Get the user name from the post super global and get the password, and then if theyre using some pset7 like code theres a query function that might do this. elect tar from users where username equals that and password equals that. That looks, at first glance, totally reasonable. This is syntactically valid PHP code. Logically theres nothing wrong with this. Presumably theres some more lines that actually do something with the result that comes back from the database. But this is vulnerable for the following reason. Notice that, like a good citizen, have put in quotes, single quotes, the user name. And put in single quotes the password. And thats a good thing because theyre not supposed to be numbers. Typically theyre going to be text. o m quoting them like strings. And if now advance further what if and ve removed the bullets from the PN service temporarily what if try to log in as President but claim that my password is 12345 OR 1=1, and notice what havent done. did not close the other single quote. Because m pretty sharp here as the bad guy. And m assuming theyre youre not very good with your PHP and yQL code. m guessing that youre not checking for the presence of quotes. o what just happened is that when your user has typed in that string, the query youre about to create looks like this. And long story short, if you and something together or you or something together this is going to return a row from the database. Because it is always the case that 1 equals 1. And just because you didnt anticipate that your users, good or bad, might have an apostrophe in their name you have created a QL query thats still valid, and will return now more results than you might have intended. And so this bad guy now has potentially logged in to your server because your database is returning a row even if he or she has no idea what actual password is. Oh, realized a typo here. shouldve said password equals 12345 like the previous example or 1 equals 1. ll fix that online. o why did we have you using the query function with question marks? One of the things the query function does for you is it makes sure that when you pass in arguments after the commas here like this that the query thats actually sent to the database looks like this. A lot uglier to look at, but back slashes have been automatically inserted to avoid precisely that injection attack that showed a moment ago. Now a fun XKD that thought d pull up here that hopefully should now be a little more understandable is this one here. A little bit? aybe we need a little more discussion on that. o this is alluding to a little kid named Bobby who has somehow taken advantage of a website that is just trusting that what the user has typed in is not, in fact, QL code, but is in fact a string. Now you may recall that drop you might have seen this drop means delete a table, delete a database. o if you essentially claim that your name is Robert\";droptabl estudentsomething, ] you might very well trick the database not only into checking that youre indeed Robert, but semicolon also proceed to drop the table. And so QL injection attacks can actually be as threatening as this whereby you can delete someones data, you can select more datas than intended, you can insert or update data. And you can actually see this upon at home exercise, not for malicious purposes but just for instructional, is any time youre prompted to log into website, especially some sort of non very public, very popular website, try logging in as John OReilly or someone with an apostrophe in their name. Or literally just type apostrophe, hit Enter, and see what happens. And all too often, tragically, people have not sanitized their inputs and made sure that things like quotes or semicolons are escaped. Which is why in pset7 we give you this query function. But do not under appreciate exactly what it is doing for you. o with that said, enjoy using the web this week. And we will see you on onday.'"
      ]
     },
     "execution_count": 6,
     "metadata": {},
     "output_type": "execute_result"
    }
   ],
   "source": [
    "df['Cleaned_Transcript'] [856]"
   ]
  },
  {
   "cell_type": "code",
   "execution_count": 7,
   "id": "0897654e",
   "metadata": {},
   "outputs": [
    {
     "data": {
      "text/plain": [
       "\"you're\""
      ]
     },
     "execution_count": 7,
     "metadata": {},
     "output_type": "execute_result"
    }
   ],
   "source": [
    "x=\"you\\'re\"\n",
    "x = re.sub(r\"\\'\", \"\\'\", x)\n",
    "x"
   ]
  },
  {
   "cell_type": "code",
   "execution_count": 8,
   "id": "9bca7972",
   "metadata": {},
   "outputs": [],
   "source": [
    "df=df.drop(['label','text'],axis=1)\n"
   ]
  },
  {
   "cell_type": "code",
   "execution_count": 4,
   "id": "72300ba3",
   "metadata": {},
   "outputs": [],
   "source": [
    "def tokenize(document):\n",
    "   \n",
    "    doc_tokenizer = PunktSentenceTokenizer()\n",
    "    sentences_list = doc_tokenizer.tokenize(document)\n",
    "    return sentences_list\n",
    "\n",
    "def lemmatize_stemming(text):\n",
    "    stemmer = SnowballStemmer('english')\n",
    "    return stemmer.stem(WordNetLemmatizer().lemmatize(text, pos='v'))\n",
    "\n",
    "def preprocess(text):\n",
    "    result = []\n",
    "    for token in gensim.utils.simple_preprocess(text):\n",
    "        if token not in gensim.parsing.preprocessing.STOPWORDS and len(token) > 3:\n",
    "            result.append(lemmatize_stemming(token))\n",
    "    return result\n"
   ]
  },
  {
   "cell_type": "code",
   "execution_count": 5,
   "id": "cf96336c",
   "metadata": {},
   "outputs": [],
   "source": [
    "def summarise(text):\n",
    "   \n",
    "    document = str(text)\n",
    "    \n",
    "     \n",
    "    sentences_list = tokenize(document)\n",
    "    cv = CountVectorizer()\n",
    "    cv_matrix = cv.fit_transform(sentences_list)\n",
    "    cv_demo = CountVectorizer()\n",
    "  \n",
    "    \n",
    "    normal_matrix = TfidfTransformer().fit_transform(cv_matrix)\n",
    "    res_graph = normal_matrix * normal_matrix.T\n",
    "    nx_graph = nx.from_scipy_sparse_matrix(res_graph)\n",
    "    ranks = nx.pagerank(nx_graph)\n",
    "\n",
    "    sentence_array = sorted(((ranks[i], s) for i, s in enumerate(sentences_list)), reverse=True)\n",
    "    sentence_array = np.asarray(sentence_array)\n",
    "    \n",
    "    rank_max = float(sentence_array[0][0])\n",
    "    rank_min = float(sentence_array[len(sentence_array) - 1][0])\n",
    "    temp_array = []\n",
    "\n",
    "    flag = 0\n",
    "    if rank_max - rank_min == 0:\n",
    "        temp_array.append(0)\n",
    "        flag = 1\n",
    "    \n",
    "  \n",
    "    if flag != 1:\n",
    "        for i in range(0, len(sentence_array)):\n",
    "            temp_array.append((float(sentence_array[i][0]) - rank_min) / (rank_max - rank_min))\n",
    "    \n",
    "    \n",
    "\n",
    "    \n",
    "    threshold = (sum(temp_array) / len(temp_array)) + 0.2\n",
    "    sentence_list = []\n",
    "    if len(temp_array) > 1:\n",
    "        for i in range(0, len(temp_array)):\n",
    "            if temp_array[i] > threshold:\n",
    "                    sentence_list.append(sentence_array[i][1])\n",
    "    else:\n",
    "        sentence_list.append(sentence_array[0][1])\n",
    "    \n",
    "   \n",
    "    summary = \" \".join(str(x) for x in sentence_list)\n",
    "    return summary"
   ]
  },
  {
   "cell_type": "code",
   "execution_count": 18,
   "id": "bde12c0f",
   "metadata": {},
   "outputs": [],
   "source": [
    "df['Summary']=df['Cleaned_Transcript'].apply(summarise)"
   ]
  },
  {
   "cell_type": "markdown",
   "id": "4e3f8f94",
   "metadata": {},
   "source": [
    "# Evaluation"
   ]
  },
  {
   "cell_type": "code",
   "execution_count": 3,
   "id": "8563efb8",
   "metadata": {},
   "outputs": [
    {
     "data": {
      "text/html": [
       "<div>\n",
       "<style scoped>\n",
       "    .dataframe tbody tr th:only-of-type {\n",
       "        vertical-align: middle;\n",
       "    }\n",
       "\n",
       "    .dataframe tbody tr th {\n",
       "        vertical-align: top;\n",
       "    }\n",
       "\n",
       "    .dataframe thead th {\n",
       "        text-align: right;\n",
       "    }\n",
       "</style>\n",
       "<table border=\"1\" class=\"dataframe\">\n",
       "  <thead>\n",
       "    <tr style=\"text-align: right;\">\n",
       "      <th></th>\n",
       "      <th>Unnamed: 0</th>\n",
       "      <th>Cleaned_Transcript</th>\n",
       "      <th>Summary</th>\n",
       "    </tr>\n",
       "  </thead>\n",
       "  <tbody>\n",
       "    <tr>\n",
       "      <th>0</th>\n",
       "      <td>0</td>\n",
       "      <td>The following content is provided under a reat...</td>\n",
       "      <td>And for now, will just to tell you that the ra...</td>\n",
       "    </tr>\n",
       "    <tr>\n",
       "      <th>1</th>\n",
       "      <td>1</td>\n",
       "      <td>n this sequence of segments, we review some ma...</td>\n",
       "      <td>What we will talk about is sets, various defin...</td>\n",
       "    </tr>\n",
       "    <tr>\n",
       "      <th>2</th>\n",
       "      <td>2</td>\n",
       "      <td>The following content is provided under a reat...</td>\n",
       "      <td>o you, as the programmer of this class, are go...</td>\n",
       "    </tr>\n",
       "    <tr>\n",
       "      <th>3</th>\n",
       "      <td>3</td>\n",
       "      <td>The following content is provided under a reat...</td>\n",
       "      <td>ADENE: ADENE: ts a thats an n. PROFEOR: o we w...</td>\n",
       "    </tr>\n",
       "    <tr>\n",
       "      <th>4</th>\n",
       "      <td>4</td>\n",
       "      <td>The following content is provided under a reat...</td>\n",
       "      <td>ADENE: n to the 1/8. ADENE: n to the 1/4. ADEN...</td>\n",
       "    </tr>\n",
       "    <tr>\n",
       "      <th>...</th>\n",
       "      <td>...</td>\n",
       "      <td>...</td>\n",
       "      <td>...</td>\n",
       "    </tr>\n",
       "    <tr>\n",
       "      <th>855</th>\n",
       "      <td>855</td>\n",
       "      <td>The following content is provided under a reat...</td>\n",
       "      <td>o what m going to say is that in any set of n ...</td>\n",
       "    </tr>\n",
       "    <tr>\n",
       "      <th>856</th>\n",
       "      <td>856</td>\n",
       "      <td>DAVD J. ALAN: All right. o this is 50 and this...</td>\n",
       "      <td>But the point here is that DN that weve been t...</td>\n",
       "    </tr>\n",
       "    <tr>\n",
       "      <th>857</th>\n",
       "      <td>857</td>\n",
       "      <td>The following content is provided by T Openour...</td>\n",
       "      <td>This c is showing up in the denominator, and t...</td>\n",
       "    </tr>\n",
       "    <tr>\n",
       "      <th>858</th>\n",
       "      <td>858</td>\n",
       "      <td>The following content is provided under a reat...</td>\n",
       "      <td>o the thing is, that, lets say, you have some ...</td>\n",
       "    </tr>\n",
       "    <tr>\n",
       "      <th>859</th>\n",
       "      <td>859</td>\n",
       "      <td>The following content is provided under a reat...</td>\n",
       "      <td>And over here, this is the distance r. And you...</td>\n",
       "    </tr>\n",
       "  </tbody>\n",
       "</table>\n",
       "<p>860 rows × 3 columns</p>\n",
       "</div>"
      ],
      "text/plain": [
       "     Unnamed: 0                                 Cleaned_Transcript  \\\n",
       "0             0  The following content is provided under a reat...   \n",
       "1             1  n this sequence of segments, we review some ma...   \n",
       "2             2  The following content is provided under a reat...   \n",
       "3             3  The following content is provided under a reat...   \n",
       "4             4  The following content is provided under a reat...   \n",
       "..          ...                                                ...   \n",
       "855         855  The following content is provided under a reat...   \n",
       "856         856  DAVD J. ALAN: All right. o this is 50 and this...   \n",
       "857         857  The following content is provided by T Openour...   \n",
       "858         858  The following content is provided under a reat...   \n",
       "859         859  The following content is provided under a reat...   \n",
       "\n",
       "                                               Summary  \n",
       "0    And for now, will just to tell you that the ra...  \n",
       "1    What we will talk about is sets, various defin...  \n",
       "2    o you, as the programmer of this class, are go...  \n",
       "3    ADENE: ADENE: ts a thats an n. PROFEOR: o we w...  \n",
       "4    ADENE: n to the 1/8. ADENE: n to the 1/4. ADEN...  \n",
       "..                                                 ...  \n",
       "855  o what m going to say is that in any set of n ...  \n",
       "856  But the point here is that DN that weve been t...  \n",
       "857  This c is showing up in the denominator, and t...  \n",
       "858  o the thing is, that, lets say, you have some ...  \n",
       "859  And over here, this is the distance r. And you...  \n",
       "\n",
       "[860 rows x 3 columns]"
      ]
     },
     "execution_count": 3,
     "metadata": {},
     "output_type": "execute_result"
    }
   ],
   "source": [
    "df=pd.read_csv(\"cleanedLatest.csv\")\n",
    "df"
   ]
  },
  {
   "cell_type": "code",
   "execution_count": 4,
   "id": "02c007ab",
   "metadata": {},
   "outputs": [],
   "source": [
    "df['Evaluation_Summary']=np.nan"
   ]
  },
  {
   "cell_type": "code",
   "execution_count": 5,
   "id": "7cb4b6a9",
   "metadata": {},
   "outputs": [
    {
     "name": "stderr",
     "output_type": "stream",
     "text": [
      "Some weights of the model checkpoint at bert-base-uncased were not used when initializing BertForMaskedLM: ['cls.seq_relationship.weight', 'cls.seq_relationship.bias']\n",
      "- This IS expected if you are initializing BertForMaskedLM from the checkpoint of a model trained on another task or with another architecture (e.g. initializing a BertForSequenceClassification model from a BertForPreTraining model).\n",
      "- This IS NOT expected if you are initializing BertForMaskedLM from the checkpoint of a model that you expect to be exactly identical (initializing a BertForSequenceClassification model from a BertForSequenceClassification model).\n"
     ]
    }
   ],
   "source": [
    "blanc_help = BlancHelp()"
   ]
  },
  {
   "cell_type": "code",
   "execution_count": 5,
   "id": "f5dd6427",
   "metadata": {},
   "outputs": [],
   "source": [
    "fp=open('evalFinal.txt', 'r') "
   ]
  },
  {
   "cell_type": "code",
   "execution_count": 6,
   "id": "eb15f76d",
   "metadata": {},
   "outputs": [
    {
     "data": {
      "text/plain": [
       "',0.20258166491043203,0.2791327913279133,0.17832167832167833,0.20230263157894737,0.22486187845303868,0.12369791666666667,0.314453125,0.11627906976744186,0.10250724884871226,0.37383177570093457,0.34679334916864607,0.12439613526570048,0.11916167664670659,0.28832951945080093,0.30743243243243246,0.3509933774834437,0.16977302085255583,0.12001287001287002,0.1588235294117647,0.14877161055505003,0.2208067940552017,0.16594202898550725,0.15392038600723765,0.15290412876137158,0.19445843828715365,0.24629324546952225,0.23784261715296198,0.3391812865497076,0.1342281879194631,0.1196039603960396,0.20439292251372787'"
      ]
     },
     "execution_count": 6,
     "metadata": {},
     "output_type": "execute_result"
    }
   ],
   "source": [
    "fp.read()"
   ]
  },
  {
   "cell_type": "code",
   "execution_count": 7,
   "id": "3ffa1f51",
   "metadata": {},
   "outputs": [
    {
     "data": {
      "text/plain": [
       "31"
      ]
     },
     "execution_count": 7,
     "metadata": {},
     "output_type": "execute_result"
    }
   ],
   "source": [
    "s=[0.20258166491043203,0.2791327913279133,0.17832167832167833,0.20230263157894737,0.22486187845303868,0.12369791666666667,0.314453125,0.11627906976744186,0.10250724884871226,0.37383177570093457,0.34679334916864607,0.12439613526570048,0.11916167664670659,0.28832951945080093,0.30743243243243246,0.3509933774834437,0.16977302085255583,0.12001287001287002,0.1588235294117647,0.14877161055505003,0.2208067940552017,0.16594202898550725,0.15392038600723765,0.15290412876137158,0.19445843828715365,0.24629324546952225,0.23784261715296198,0.3391812865497076,0.1342281879194631,0.1196039603960396,0.20439292251372787]\n",
    "len(s)"
   ]
  },
  {
   "cell_type": "code",
   "execution_count": 22,
   "id": "9706f0b2",
   "metadata": {},
   "outputs": [
    {
     "name": "stderr",
     "output_type": "stream",
     "text": [
      "Some weights of the model checkpoint at bert-base-uncased were not used when initializing BertForMaskedLM: ['cls.seq_relationship.bias', 'cls.seq_relationship.weight']\n",
      "- This IS expected if you are initializing BertForMaskedLM from the checkpoint of a model trained on another task or with another architecture (e.g. initializing a BertForSequenceClassification model from a BertForPreTraining model).\n",
      "- This IS NOT expected if you are initializing BertForMaskedLM from the checkpoint of a model that you expect to be exactly identical (initializing a BertForSequenceClassification model from a BertForSequenceClassification model).\n"
     ]
    }
   ],
   "source": [
    "blanc_help = BlancHelp()"
   ]
  },
  {
   "cell_type": "code",
   "execution_count": null,
   "id": "d3682040",
   "metadata": {},
   "outputs": [
    {
     "name": "stderr",
     "output_type": "stream",
     "text": [
      "100%|██████████| 1756/1756 [1:20:07<00:00,  2.74s/it]\n"
     ]
    },
    {
     "name": "stdout",
     "output_type": "stream",
     "text": [
      "0.20258166491043203\n"
     ]
    },
    {
     "name": "stderr",
     "output_type": "stream",
     "text": [
      "100%|██████████| 382/382 [14:45<00:00,  2.32s/it]\n"
     ]
    },
    {
     "name": "stdout",
     "output_type": "stream",
     "text": [
      "0.2791327913279133\n"
     ]
    },
    {
     "name": "stderr",
     "output_type": "stream",
     "text": [
      "100%|██████████| 568/568 [27:09<00:00,  2.87s/it]\n"
     ]
    },
    {
     "name": "stdout",
     "output_type": "stream",
     "text": [
      "0.17832167832167833\n"
     ]
    },
    {
     "name": "stderr",
     "output_type": "stream",
     "text": [
      "100%|██████████| 248/248 [09:47<00:00,  2.37s/it]\n"
     ]
    },
    {
     "name": "stdout",
     "output_type": "stream",
     "text": [
      "0.20230263157894737\n"
     ]
    },
    {
     "name": "stderr",
     "output_type": "stream",
     "text": [
      "100%|██████████| 556/556 [21:16<00:00,  2.30s/it]\n"
     ]
    },
    {
     "name": "stdout",
     "output_type": "stream",
     "text": [
      "0.22486187845303868\n"
     ]
    },
    {
     "name": "stderr",
     "output_type": "stream",
     "text": [
      "100%|██████████| 1732/1732 [1:10:50<00:00,  2.45s/it]\n"
     ]
    },
    {
     "name": "stdout",
     "output_type": "stream",
     "text": [
      "0.12369791666666667\n"
     ]
    },
    {
     "name": "stderr",
     "output_type": "stream",
     "text": [
      "100%|██████████| 560/560 [17:19<00:00,  1.86s/it]\n"
     ]
    },
    {
     "name": "stdout",
     "output_type": "stream",
     "text": [
      "0.314453125\n"
     ]
    },
    {
     "name": "stderr",
     "output_type": "stream",
     "text": [
      "100%|██████████| 118/118 [03:51<00:00,  1.96s/it]\n"
     ]
    },
    {
     "name": "stdout",
     "output_type": "stream",
     "text": [
      "0.11627906976744186\n"
     ]
    },
    {
     "name": "stderr",
     "output_type": "stream",
     "text": [
      "100%|██████████| 2914/2914 [1:39:24<00:00,  2.05s/it]  \n",
      "  0%|          | 0/44 [00:00<?, ?it/s]"
     ]
    },
    {
     "name": "stdout",
     "output_type": "stream",
     "text": [
      "0.10250724884871226\n"
     ]
    },
    {
     "name": "stderr",
     "output_type": "stream",
     "text": [
      "100%|██████████| 44/44 [00:19<00:00,  2.22it/s]\n",
      "  0%|          | 0/116 [00:00<?, ?it/s]"
     ]
    },
    {
     "name": "stdout",
     "output_type": "stream",
     "text": [
      "0.37383177570093457\n"
     ]
    },
    {
     "name": "stderr",
     "output_type": "stream",
     "text": [
      "100%|██████████| 116/116 [03:38<00:00,  1.89s/it]\n"
     ]
    },
    {
     "name": "stdout",
     "output_type": "stream",
     "text": [
      "0.34679334916864607\n"
     ]
    },
    {
     "name": "stderr",
     "output_type": "stream",
     "text": [
      "100%|██████████| 1458/1458 [50:21<00:00,  2.07s/it]\n"
     ]
    },
    {
     "name": "stdout",
     "output_type": "stream",
     "text": [
      "0.12439613526570048\n"
     ]
    },
    {
     "name": "stderr",
     "output_type": "stream",
     "text": [
      "100%|██████████| 2102/2102 [1:09:45<00:00,  1.99s/it]\n"
     ]
    },
    {
     "name": "stdout",
     "output_type": "stream",
     "text": [
      "0.11916167664670659\n"
     ]
    },
    {
     "name": "stderr",
     "output_type": "stream",
     "text": [
      "100%|██████████| 508/508 [16:29<00:00,  1.95s/it]\n"
     ]
    },
    {
     "name": "stdout",
     "output_type": "stream",
     "text": [
      "0.28832951945080093\n"
     ]
    },
    {
     "name": "stderr",
     "output_type": "stream",
     "text": [
      "100%|██████████| 312/312 [10:04<00:00,  1.94s/it]\n"
     ]
    },
    {
     "name": "stdout",
     "output_type": "stream",
     "text": [
      "0.30743243243243246\n"
     ]
    },
    {
     "name": "stderr",
     "output_type": "stream",
     "text": [
      "100%|██████████| 226/226 [05:34<00:00,  1.48s/it]\n"
     ]
    },
    {
     "name": "stdout",
     "output_type": "stream",
     "text": [
      "0.3509933774834437\n"
     ]
    },
    {
     "name": "stderr",
     "output_type": "stream",
     "text": [
      "100%|██████████| 3216/3216 [1:57:34<00:00,  2.19s/it]  \n"
     ]
    },
    {
     "name": "stdout",
     "output_type": "stream",
     "text": [
      "0.16977302085255583\n"
     ]
    },
    {
     "name": "stderr",
     "output_type": "stream",
     "text": [
      "100%|██████████| 1858/1858 [59:02<00:00,  1.91s/it] \n",
      "  0%|          | 0/146 [00:00<?, ?it/s]"
     ]
    },
    {
     "name": "stdout",
     "output_type": "stream",
     "text": [
      "0.12001287001287002\n"
     ]
    },
    {
     "name": "stderr",
     "output_type": "stream",
     "text": [
      "100%|██████████| 146/146 [01:15<00:00,  1.94it/s]\n"
     ]
    },
    {
     "name": "stdout",
     "output_type": "stream",
     "text": [
      "0.1588235294117647\n"
     ]
    },
    {
     "name": "stderr",
     "output_type": "stream",
     "text": [
      "100%|██████████| 2656/2656 [1:28:40<00:00,  2.00s/it]\n"
     ]
    },
    {
     "name": "stdout",
     "output_type": "stream",
     "text": [
      "0.14877161055505003\n"
     ]
    },
    {
     "name": "stderr",
     "output_type": "stream",
     "text": [
      "100%|██████████| 248/248 [04:23<00:00,  1.06s/it]\n"
     ]
    },
    {
     "name": "stdout",
     "output_type": "stream",
     "text": [
      "0.2208067940552017\n"
     ]
    },
    {
     "name": "stderr",
     "output_type": "stream",
     "text": [
      "100%|██████████| 398/398 [12:25<00:00,  1.87s/it]\n"
     ]
    },
    {
     "name": "stdout",
     "output_type": "stream",
     "text": [
      "0.16594202898550725\n"
     ]
    },
    {
     "name": "stderr",
     "output_type": "stream",
     "text": [
      "100%|██████████| 1810/1810 [55:30<00:00,  1.84s/it] \n"
     ]
    },
    {
     "name": "stdout",
     "output_type": "stream",
     "text": [
      "0.15392038600723765\n"
     ]
    },
    {
     "name": "stderr",
     "output_type": "stream",
     "text": [
      "100%|██████████| 1330/1330 [43:57<00:00,  1.98s/it]\n"
     ]
    },
    {
     "name": "stdout",
     "output_type": "stream",
     "text": [
      "0.15290412876137158\n"
     ]
    },
    {
     "name": "stderr",
     "output_type": "stream",
     "text": [
      "100%|██████████| 902/902 [31:53<00:00,  2.12s/it]\n"
     ]
    },
    {
     "name": "stdout",
     "output_type": "stream",
     "text": [
      "0.19445843828715365\n"
     ]
    },
    {
     "name": "stderr",
     "output_type": "stream",
     "text": [
      "100%|██████████| 284/284 [08:47<00:00,  1.86s/it]\n"
     ]
    },
    {
     "name": "stdout",
     "output_type": "stream",
     "text": [
      "0.24629324546952225\n"
     ]
    },
    {
     "name": "stderr",
     "output_type": "stream",
     "text": [
      "100%|██████████| 502/502 [16:11<00:00,  1.93s/it]\n"
     ]
    },
    {
     "name": "stdout",
     "output_type": "stream",
     "text": [
      "0.23784261715296198\n"
     ]
    },
    {
     "name": "stderr",
     "output_type": "stream",
     "text": [
      "100%|██████████| 422/422 [13:40<00:00,  1.94s/it]\n"
     ]
    },
    {
     "name": "stdout",
     "output_type": "stream",
     "text": [
      "0.3391812865497076\n"
     ]
    },
    {
     "name": "stderr",
     "output_type": "stream",
     "text": [
      "100%|██████████| 1720/1720 [55:02<00:00,  1.92s/it]\n"
     ]
    },
    {
     "name": "stdout",
     "output_type": "stream",
     "text": [
      "0.1342281879194631\n"
     ]
    },
    {
     "name": "stderr",
     "output_type": "stream",
     "text": [
      "100%|██████████| 1676/1676 [54:15<00:00,  1.94s/it]\n"
     ]
    },
    {
     "name": "stdout",
     "output_type": "stream",
     "text": [
      "0.1196039603960396\n"
     ]
    },
    {
     "name": "stderr",
     "output_type": "stream",
     "text": [
      "100%|██████████| 1800/1800 [56:45<00:00,  1.89s/it]\n"
     ]
    },
    {
     "name": "stdout",
     "output_type": "stream",
     "text": [
      "0.20439292251372787\n"
     ]
    },
    {
     "name": "stderr",
     "output_type": "stream",
     "text": [
      " 68%|██████▊   | 1362/2010 [43:17<19:16,  1.78s/it] "
     ]
    }
   ],
   "source": [
    "for i in range(600,800):\n",
    "  document = df['Cleaned_Transcript'][i]\n",
    "  summary = df['Summary'][i]\n",
    "  val=blanc_help.eval_once(document,summary)\n",
    "  val=str(val)\n",
    "  print(val)\n",
    "  with open('evalFinal.txt', 'a') as writefile:\n",
    "    writefile.write(\",\")\n",
    "    writefile.write(val)"
   ]
  },
  {
   "cell_type": "code",
   "execution_count": 8,
   "id": "21d1e50b",
   "metadata": {},
   "outputs": [
    {
     "name": "stdout",
     "output_type": "stream",
     "text": [
      "31\n"
     ]
    },
    {
     "name": "stderr",
     "output_type": "stream",
     "text": [
      "<ipython-input-8-551a2685e2a0>:3: SettingWithCopyWarning: \n",
      "A value is trying to be set on a copy of a slice from a DataFrame\n",
      "\n",
      "See the caveats in the documentation: https://pandas.pydata.org/pandas-docs/stable/user_guide/indexing.html#returning-a-view-versus-a-copy\n",
      "  df['Evaluation_Summary'][i]=s[c]\n"
     ]
    }
   ],
   "source": [
    "c=0\n",
    "for i in range(600,600+len(s)):\n",
    "    df['Evaluation_Summary'][i]=s[c]\n",
    "    c=c+1\n",
    "print(c)\n",
    "    "
   ]
  },
  {
   "cell_type": "code",
   "execution_count": 9,
   "id": "4e682624",
   "metadata": {},
   "outputs": [],
   "source": [
    "df=df.dropna()"
   ]
  },
  {
   "cell_type": "code",
   "execution_count": 10,
   "id": "9d22aa1a",
   "metadata": {},
   "outputs": [
    {
     "data": {
      "text/html": [
       "<div>\n",
       "<style scoped>\n",
       "    .dataframe tbody tr th:only-of-type {\n",
       "        vertical-align: middle;\n",
       "    }\n",
       "\n",
       "    .dataframe tbody tr th {\n",
       "        vertical-align: top;\n",
       "    }\n",
       "\n",
       "    .dataframe thead th {\n",
       "        text-align: right;\n",
       "    }\n",
       "</style>\n",
       "<table border=\"1\" class=\"dataframe\">\n",
       "  <thead>\n",
       "    <tr style=\"text-align: right;\">\n",
       "      <th></th>\n",
       "      <th>Unnamed: 0</th>\n",
       "      <th>Cleaned_Transcript</th>\n",
       "      <th>Summary</th>\n",
       "      <th>Evaluation_Summary</th>\n",
       "    </tr>\n",
       "  </thead>\n",
       "  <tbody>\n",
       "    <tr>\n",
       "      <th>600</th>\n",
       "      <td>600</td>\n",
       "      <td>The following content is provided under a reat...</td>\n",
       "      <td>And then we multiply with this probability, th...</td>\n",
       "      <td>0.202582</td>\n",
       "    </tr>\n",
       "    <tr>\n",
       "      <th>601</th>\n",
       "      <td>601</td>\n",
       "      <td>Lets keep building our table of Laplace transf...</td>\n",
       "      <td>Lets make u prime is equal to well do our defi...</td>\n",
       "      <td>0.279133</td>\n",
       "    </tr>\n",
       "    <tr>\n",
       "      <th>602</th>\n",
       "      <td>602</td>\n",
       "      <td>Hello everyone. o far in the series on data st...</td>\n",
       "      <td>o with this directed edge represented as order...</td>\n",
       "      <td>0.178322</td>\n",
       "    </tr>\n",
       "    <tr>\n",
       "      <th>603</th>\n",
       "      <td>603</td>\n",
       "      <td>ay have some matrix a lets say a is n by n, so...</td>\n",
       "      <td>o if a has two rows that are equal so if row i...</td>\n",
       "      <td>0.202303</td>\n",
       "    </tr>\n",
       "    <tr>\n",
       "      <th>604</th>\n",
       "      <td>604</td>\n",
       "      <td>n this lesson, were going to write code to del...</td>\n",
       "      <td>f only the left child is null then what want t...</td>\n",
       "      <td>0.224862</td>\n",
       "    </tr>\n",
       "    <tr>\n",
       "      <th>605</th>\n",
       "      <td>605</td>\n",
       "      <td>All right. o lets get started. o were still ta...</td>\n",
       "      <td>Eaves Law says this is the expected value of t...</td>\n",
       "      <td>0.123698</td>\n",
       "    </tr>\n",
       "    <tr>\n",
       "      <th>606</th>\n",
       "      <td>606</td>\n",
       "      <td>n the last video we defined a transformation t...</td>\n",
       "      <td>o this vector right here is just going to be t...</td>\n",
       "      <td>0.314453</td>\n",
       "    </tr>\n",
       "    <tr>\n",
       "      <th>607</th>\n",
       "      <td>607</td>\n",
       "      <td>n our previous lesson, we talked about level o...</td>\n",
       "      <td>this will work fine in or ++ actually in make ...</td>\n",
       "      <td>0.116279</td>\n",
       "    </tr>\n",
       "    <tr>\n",
       "      <th>608</th>\n",
       "      <td>608</td>\n",
       "      <td>The following content is provided under a reat...</td>\n",
       "      <td>ts the probability that Y is in A. That means ...</td>\n",
       "      <td>0.102507</td>\n",
       "    </tr>\n",
       "    <tr>\n",
       "      <th>609</th>\n",
       "      <td>609</td>\n",
       "      <td>The following content is provided under a reat...</td>\n",
       "      <td>o to find a method to change the color of the ...</td>\n",
       "      <td>0.373832</td>\n",
       "    </tr>\n",
       "    <tr>\n",
       "      <th>610</th>\n",
       "      <td>610</td>\n",
       "      <td>n this problem, well be looking at an ambulanc...</td>\n",
       "      <td>Now, to start, well express T you as a functio...</td>\n",
       "      <td>0.346793</td>\n",
       "    </tr>\n",
       "    <tr>\n",
       "      <th>611</th>\n",
       "      <td>611</td>\n",
       "      <td>The following content is provided by T Openour...</td>\n",
       "      <td>o the stability condition on Euler is going to...</td>\n",
       "      <td>0.124396</td>\n",
       "    </tr>\n",
       "    <tr>\n",
       "      <th>612</th>\n",
       "      <td>612</td>\n",
       "      <td>PATRK WNTON: You know, its unfortunate that po...</td>\n",
       "      <td>o if rotate this vector by alpha sub a, then t...</td>\n",
       "      <td>0.119162</td>\n",
       "    </tr>\n",
       "    <tr>\n",
       "      <th>613</th>\n",
       "      <td>613</td>\n",
       "      <td>What want to do in this video is make sure tha...</td>\n",
       "      <td>And lets say that this is a normal vector to t...</td>\n",
       "      <td>0.288330</td>\n",
       "    </tr>\n",
       "    <tr>\n",
       "      <th>614</th>\n",
       "      <td>614</td>\n",
       "      <td>NKOLA KABROV: Hi, guys. Today were going to se...</td>\n",
       "      <td>o the magnitude squared of the column is the n...</td>\n",
       "      <td>0.307432</td>\n",
       "    </tr>\n",
       "    <tr>\n",
       "      <th>615</th>\n",
       "      <td>615</td>\n",
       "      <td>DAVD HROKOFF: Hi everyone. m Dave. Now today, ...</td>\n",
       "      <td>Well, if have a vector x, and perp, and x is i...</td>\n",
       "      <td>0.350993</td>\n",
       "    </tr>\n",
       "    <tr>\n",
       "      <th>616</th>\n",
       "      <td>616</td>\n",
       "      <td>The following content is provided under a reat...</td>\n",
       "      <td>And this is in the . And for our graph G, with...</td>\n",
       "      <td>0.169773</td>\n",
       "    </tr>\n",
       "    <tr>\n",
       "      <th>617</th>\n",
       "      <td>617</td>\n",
       "      <td>just want to remind you of the main facts. The...</td>\n",
       "      <td>And the first thing you have to do is find a c...</td>\n",
       "      <td>0.120013</td>\n",
       "    </tr>\n",
       "    <tr>\n",
       "      <th>618</th>\n",
       "      <td>618</td>\n",
       "      <td>We now come to our last major class of countin...</td>\n",
       "      <td>We can solve this for c. And we find the answe...</td>\n",
       "      <td>0.158824</td>\n",
       "    </tr>\n",
       "    <tr>\n",
       "      <th>619</th>\n",
       "      <td>619</td>\n",
       "      <td>The following content is provided under a reat...</td>\n",
       "      <td>And yeah, the path it would like to go is K. o...</td>\n",
       "      <td>0.148772</td>\n",
       "    </tr>\n",
       "    <tr>\n",
       "      <th>620</th>\n",
       "      <td>620</td>\n",
       "      <td>GLBERT TRANG: Hi, m Gilbert trang, and profess...</td>\n",
       "      <td>And then we also added in some problems, four ...</td>\n",
       "      <td>0.220807</td>\n",
       "    </tr>\n",
       "    <tr>\n",
       "      <th>621</th>\n",
       "      <td>621</td>\n",
       "      <td>n our previous lesson, we saw how we can imple...</td>\n",
       "      <td>m using a temporary variable that is pointed t...</td>\n",
       "      <td>0.165942</td>\n",
       "    </tr>\n",
       "    <tr>\n",
       "      <th>622</th>\n",
       "      <td>622</td>\n",
       "      <td>The following content is provided under a reat...</td>\n",
       "      <td>And then, the factor that have here, which is ...</td>\n",
       "      <td>0.153920</td>\n",
       "    </tr>\n",
       "    <tr>\n",
       "      <th>623</th>\n",
       "      <td>623</td>\n",
       "      <td>ANNONER: Open content is provided under a crea...</td>\n",
       "      <td>What we know is that the slope of the tangent ...</td>\n",
       "      <td>0.152904</td>\n",
       "    </tr>\n",
       "    <tr>\n",
       "      <th>624</th>\n",
       "      <td>624</td>\n",
       "      <td>Everything weve been doing in linear algebra s...</td>\n",
       "      <td>And just to get this in a form that you recogn...</td>\n",
       "      <td>0.194458</td>\n",
       "    </tr>\n",
       "    <tr>\n",
       "      <th>625</th>\n",
       "      <td>625</td>\n",
       "      <td>n our previous lesson, we wrote some code for ...</td>\n",
       "      <td>all to insert function will resume at this lin...</td>\n",
       "      <td>0.246293</td>\n",
       "    </tr>\n",
       "    <tr>\n",
       "      <th>626</th>\n",
       "      <td>626</td>\n",
       "      <td>Lets say that have some set V that is a subspa...</td>\n",
       "      <td>You could call this the image, because the tra...</td>\n",
       "      <td>0.237843</td>\n",
       "    </tr>\n",
       "    <tr>\n",
       "      <th>627</th>\n",
       "      <td>627</td>\n",
       "      <td>Lets do some more nonhomogeneous equations. o ...</td>\n",
       "      <td>Weve got the 1 e to the 4x plus 2e to the minu...</td>\n",
       "      <td>0.339181</td>\n",
       "    </tr>\n",
       "    <tr>\n",
       "      <th>628</th>\n",
       "      <td>628</td>\n",
       "      <td>The last time spent solving a system of equati...</td>\n",
       "      <td>The characteristic equation, then, is going to...</td>\n",
       "      <td>0.134228</td>\n",
       "    </tr>\n",
       "    <tr>\n",
       "      <th>629</th>\n",
       "      <td>629</td>\n",
       "      <td>The following content is provided under a reat...</td>\n",
       "      <td>And if we stop it at b, then the area were int...</td>\n",
       "      <td>0.119604</td>\n",
       "    </tr>\n",
       "    <tr>\n",
       "      <th>630</th>\n",
       "      <td>630</td>\n",
       "      <td>The following content is provided under a reat...</td>\n",
       "      <td>PROFEOR: o this thing in here is the answer to...</td>\n",
       "      <td>0.204393</td>\n",
       "    </tr>\n",
       "  </tbody>\n",
       "</table>\n",
       "</div>"
      ],
      "text/plain": [
       "     Unnamed: 0                                 Cleaned_Transcript  \\\n",
       "600         600  The following content is provided under a reat...   \n",
       "601         601  Lets keep building our table of Laplace transf...   \n",
       "602         602  Hello everyone. o far in the series on data st...   \n",
       "603         603  ay have some matrix a lets say a is n by n, so...   \n",
       "604         604  n this lesson, were going to write code to del...   \n",
       "605         605  All right. o lets get started. o were still ta...   \n",
       "606         606  n the last video we defined a transformation t...   \n",
       "607         607  n our previous lesson, we talked about level o...   \n",
       "608         608  The following content is provided under a reat...   \n",
       "609         609  The following content is provided under a reat...   \n",
       "610         610  n this problem, well be looking at an ambulanc...   \n",
       "611         611  The following content is provided by T Openour...   \n",
       "612         612  PATRK WNTON: You know, its unfortunate that po...   \n",
       "613         613  What want to do in this video is make sure tha...   \n",
       "614         614  NKOLA KABROV: Hi, guys. Today were going to se...   \n",
       "615         615  DAVD HROKOFF: Hi everyone. m Dave. Now today, ...   \n",
       "616         616  The following content is provided under a reat...   \n",
       "617         617  just want to remind you of the main facts. The...   \n",
       "618         618  We now come to our last major class of countin...   \n",
       "619         619  The following content is provided under a reat...   \n",
       "620         620  GLBERT TRANG: Hi, m Gilbert trang, and profess...   \n",
       "621         621  n our previous lesson, we saw how we can imple...   \n",
       "622         622  The following content is provided under a reat...   \n",
       "623         623  ANNONER: Open content is provided under a crea...   \n",
       "624         624  Everything weve been doing in linear algebra s...   \n",
       "625         625  n our previous lesson, we wrote some code for ...   \n",
       "626         626  Lets say that have some set V that is a subspa...   \n",
       "627         627  Lets do some more nonhomogeneous equations. o ...   \n",
       "628         628  The last time spent solving a system of equati...   \n",
       "629         629  The following content is provided under a reat...   \n",
       "630         630  The following content is provided under a reat...   \n",
       "\n",
       "                                               Summary  Evaluation_Summary  \n",
       "600  And then we multiply with this probability, th...            0.202582  \n",
       "601  Lets make u prime is equal to well do our defi...            0.279133  \n",
       "602  o with this directed edge represented as order...            0.178322  \n",
       "603  o if a has two rows that are equal so if row i...            0.202303  \n",
       "604  f only the left child is null then what want t...            0.224862  \n",
       "605  Eaves Law says this is the expected value of t...            0.123698  \n",
       "606  o this vector right here is just going to be t...            0.314453  \n",
       "607  this will work fine in or ++ actually in make ...            0.116279  \n",
       "608  ts the probability that Y is in A. That means ...            0.102507  \n",
       "609  o to find a method to change the color of the ...            0.373832  \n",
       "610  Now, to start, well express T you as a functio...            0.346793  \n",
       "611  o the stability condition on Euler is going to...            0.124396  \n",
       "612  o if rotate this vector by alpha sub a, then t...            0.119162  \n",
       "613  And lets say that this is a normal vector to t...            0.288330  \n",
       "614  o the magnitude squared of the column is the n...            0.307432  \n",
       "615  Well, if have a vector x, and perp, and x is i...            0.350993  \n",
       "616  And this is in the . And for our graph G, with...            0.169773  \n",
       "617  And the first thing you have to do is find a c...            0.120013  \n",
       "618  We can solve this for c. And we find the answe...            0.158824  \n",
       "619  And yeah, the path it would like to go is K. o...            0.148772  \n",
       "620  And then we also added in some problems, four ...            0.220807  \n",
       "621  m using a temporary variable that is pointed t...            0.165942  \n",
       "622  And then, the factor that have here, which is ...            0.153920  \n",
       "623  What we know is that the slope of the tangent ...            0.152904  \n",
       "624  And just to get this in a form that you recogn...            0.194458  \n",
       "625  all to insert function will resume at this lin...            0.246293  \n",
       "626  You could call this the image, because the tra...            0.237843  \n",
       "627  Weve got the 1 e to the 4x plus 2e to the minu...            0.339181  \n",
       "628  The characteristic equation, then, is going to...            0.134228  \n",
       "629  And if we stop it at b, then the area were int...            0.119604  \n",
       "630  PROFEOR: o this thing in here is the answer to...            0.204393  "
      ]
     },
     "execution_count": 10,
     "metadata": {},
     "output_type": "execute_result"
    }
   ],
   "source": [
    "df"
   ]
  },
  {
   "cell_type": "code",
   "execution_count": 20,
   "id": "6b9cf34c",
   "metadata": {},
   "outputs": [
    {
     "data": {
      "text/html": [
       "<div>\n",
       "<style scoped>\n",
       "    .dataframe tbody tr th:only-of-type {\n",
       "        vertical-align: middle;\n",
       "    }\n",
       "\n",
       "    .dataframe tbody tr th {\n",
       "        vertical-align: top;\n",
       "    }\n",
       "\n",
       "    .dataframe thead th {\n",
       "        text-align: right;\n",
       "    }\n",
       "</style>\n",
       "<table border=\"1\" class=\"dataframe\">\n",
       "  <thead>\n",
       "    <tr style=\"text-align: right;\">\n",
       "      <th></th>\n",
       "      <th>Unnamed: 0</th>\n",
       "      <th>Unnamed: 0.1</th>\n",
       "      <th>Cleaned_Transcript</th>\n",
       "      <th>Summary</th>\n",
       "      <th>Evaluation_Summary</th>\n",
       "    </tr>\n",
       "  </thead>\n",
       "  <tbody>\n",
       "    <tr>\n",
       "      <th>0</th>\n",
       "      <td>0</td>\n",
       "      <td>0</td>\n",
       "      <td>The following content is provided under a reat...</td>\n",
       "      <td>And for now, will just to tell you that the ra...</td>\n",
       "      <td>0.199151</td>\n",
       "    </tr>\n",
       "    <tr>\n",
       "      <th>1</th>\n",
       "      <td>1</td>\n",
       "      <td>1</td>\n",
       "      <td>n this sequence of segments, we review some ma...</td>\n",
       "      <td>What we will talk about is sets, various defin...</td>\n",
       "      <td>0.340426</td>\n",
       "    </tr>\n",
       "    <tr>\n",
       "      <th>2</th>\n",
       "      <td>2</td>\n",
       "      <td>2</td>\n",
       "      <td>The following content is provided under a reat...</td>\n",
       "      <td>o you, as the programmer of this class, are go...</td>\n",
       "      <td>0.174203</td>\n",
       "    </tr>\n",
       "    <tr>\n",
       "      <th>3</th>\n",
       "      <td>3</td>\n",
       "      <td>3</td>\n",
       "      <td>The following content is provided under a reat...</td>\n",
       "      <td>ADENE: ADENE: ts a thats an n. PROFEOR: o we w...</td>\n",
       "      <td>0.208239</td>\n",
       "    </tr>\n",
       "    <tr>\n",
       "      <th>4</th>\n",
       "      <td>4</td>\n",
       "      <td>4</td>\n",
       "      <td>The following content is provided under a reat...</td>\n",
       "      <td>ADENE: n to the 1/8. ADENE: n to the 1/4. ADEN...</td>\n",
       "      <td>0.189708</td>\n",
       "    </tr>\n",
       "    <tr>\n",
       "      <th>...</th>\n",
       "      <td>...</td>\n",
       "      <td>...</td>\n",
       "      <td>...</td>\n",
       "      <td>...</td>\n",
       "      <td>...</td>\n",
       "    </tr>\n",
       "    <tr>\n",
       "      <th>85</th>\n",
       "      <td>85</td>\n",
       "      <td>626</td>\n",
       "      <td>Lets say that have some set V that is a subspa...</td>\n",
       "      <td>You could call this the image, because the tra...</td>\n",
       "      <td>0.237843</td>\n",
       "    </tr>\n",
       "    <tr>\n",
       "      <th>86</th>\n",
       "      <td>86</td>\n",
       "      <td>627</td>\n",
       "      <td>Lets do some more nonhomogeneous equations. o ...</td>\n",
       "      <td>Weve got the 1 e to the 4x plus 2e to the minu...</td>\n",
       "      <td>0.339181</td>\n",
       "    </tr>\n",
       "    <tr>\n",
       "      <th>87</th>\n",
       "      <td>87</td>\n",
       "      <td>628</td>\n",
       "      <td>The last time spent solving a system of equati...</td>\n",
       "      <td>The characteristic equation, then, is going to...</td>\n",
       "      <td>0.134228</td>\n",
       "    </tr>\n",
       "    <tr>\n",
       "      <th>88</th>\n",
       "      <td>88</td>\n",
       "      <td>629</td>\n",
       "      <td>The following content is provided under a reat...</td>\n",
       "      <td>And if we stop it at b, then the area were int...</td>\n",
       "      <td>0.119604</td>\n",
       "    </tr>\n",
       "    <tr>\n",
       "      <th>89</th>\n",
       "      <td>89</td>\n",
       "      <td>630</td>\n",
       "      <td>The following content is provided under a reat...</td>\n",
       "      <td>PROFEOR: o this thing in here is the answer to...</td>\n",
       "      <td>0.204393</td>\n",
       "    </tr>\n",
       "  </tbody>\n",
       "</table>\n",
       "<p>90 rows × 5 columns</p>\n",
       "</div>"
      ],
      "text/plain": [
       "    Unnamed: 0  Unnamed: 0.1  \\\n",
       "0            0             0   \n",
       "1            1             1   \n",
       "2            2             2   \n",
       "3            3             3   \n",
       "4            4             4   \n",
       "..         ...           ...   \n",
       "85          85           626   \n",
       "86          86           627   \n",
       "87          87           628   \n",
       "88          88           629   \n",
       "89          89           630   \n",
       "\n",
       "                                   Cleaned_Transcript  \\\n",
       "0   The following content is provided under a reat...   \n",
       "1   n this sequence of segments, we review some ma...   \n",
       "2   The following content is provided under a reat...   \n",
       "3   The following content is provided under a reat...   \n",
       "4   The following content is provided under a reat...   \n",
       "..                                                ...   \n",
       "85  Lets say that have some set V that is a subspa...   \n",
       "86  Lets do some more nonhomogeneous equations. o ...   \n",
       "87  The last time spent solving a system of equati...   \n",
       "88  The following content is provided under a reat...   \n",
       "89  The following content is provided under a reat...   \n",
       "\n",
       "                                              Summary  Evaluation_Summary  \n",
       "0   And for now, will just to tell you that the ra...            0.199151  \n",
       "1   What we will talk about is sets, various defin...            0.340426  \n",
       "2   o you, as the programmer of this class, are go...            0.174203  \n",
       "3   ADENE: ADENE: ts a thats an n. PROFEOR: o we w...            0.208239  \n",
       "4   ADENE: n to the 1/8. ADENE: n to the 1/4. ADEN...            0.189708  \n",
       "..                                                ...                 ...  \n",
       "85  You could call this the image, because the tra...            0.237843  \n",
       "86  Weve got the 1 e to the 4x plus 2e to the minu...            0.339181  \n",
       "87  The characteristic equation, then, is going to...            0.134228  \n",
       "88  And if we stop it at b, then the area were int...            0.119604  \n",
       "89  PROFEOR: o this thing in here is the answer to...            0.204393  \n",
       "\n",
       "[90 rows x 5 columns]"
      ]
     },
     "execution_count": 20,
     "metadata": {},
     "output_type": "execute_result"
    }
   ],
   "source": [
    "df2=pd.read_csv(\"EvaluateSummaries.csv\")\n",
    "df2"
   ]
  },
  {
   "cell_type": "code",
   "execution_count": 17,
   "id": "579104ae",
   "metadata": {},
   "outputs": [],
   "source": [
    "df2 = df2.drop(df2.columns[[1, 2]], axis=1)"
   ]
  },
  {
   "cell_type": "code",
   "execution_count": 21,
   "id": "cc93d6d3",
   "metadata": {},
   "outputs": [
    {
     "data": {
      "text/plain": [
       "0.19781387168553854"
      ]
     },
     "execution_count": 21,
     "metadata": {},
     "output_type": "execute_result"
    }
   ],
   "source": [
    "df2['Evaluation_Summary'].mean()"
   ]
  },
  {
   "cell_type": "code",
   "execution_count": 29,
   "id": "a864a9bc",
   "metadata": {},
   "outputs": [
    {
     "data": {
      "text/plain": [
       "0.2"
      ]
     },
     "execution_count": 29,
     "metadata": {},
     "output_type": "execute_result"
    }
   ],
   "source": [
    "\n",
    "round(0.19781387168553854,2)"
   ]
  },
  {
   "cell_type": "code",
   "execution_count": 12,
   "id": "966ed633",
   "metadata": {},
   "outputs": [],
   "source": [
    "df2=df2.append(df)"
   ]
  },
  {
   "cell_type": "code",
   "execution_count": 13,
   "id": "4086a328",
   "metadata": {},
   "outputs": [
    {
     "data": {
      "text/plain": [
       "90"
      ]
     },
     "execution_count": 13,
     "metadata": {},
     "output_type": "execute_result"
    }
   ],
   "source": [
    "len(df2)"
   ]
  },
  {
   "cell_type": "code",
   "execution_count": 19,
   "id": "4260edfc",
   "metadata": {},
   "outputs": [],
   "source": [
    "df2.to_csv('EvaluateSummaries.csv')"
   ]
  },
  {
   "cell_type": "code",
   "execution_count": null,
   "id": "c0a87fb4",
   "metadata": {},
   "outputs": [],
   "source": []
  },
  {
   "cell_type": "code",
   "execution_count": null,
   "id": "0d0843d4",
   "metadata": {
    "scrolled": true
   },
   "outputs": [
    {
     "name": "stderr",
     "output_type": "stream",
     "text": [
      "100%|██████████| 348/348 [09:41<00:00,  1.67s/it]\n"
     ]
    },
    {
     "name": "stdout",
     "output_type": "stream",
     "text": [
      "0.35454545454545455\n"
     ]
    },
    {
     "name": "stderr",
     "output_type": "stream",
     "text": [
      "100%|██████████| 356/356 [11:57<00:00,  2.01s/it]\n"
     ]
    },
    {
     "name": "stdout",
     "output_type": "stream",
     "text": [
      "0.3622994652406417\n"
     ]
    },
    {
     "name": "stderr",
     "output_type": "stream",
     "text": [
      "100%|██████████| 2754/2754 [1:34:00<00:00,  2.05s/it]  \n"
     ]
    },
    {
     "name": "stdout",
     "output_type": "stream",
     "text": [
      "0.20605427974947807\n"
     ]
    },
    {
     "name": "stderr",
     "output_type": "stream",
     "text": [
      "100%|██████████| 2178/2178 [1:08:39<00:00,  1.89s/it]\n"
     ]
    },
    {
     "name": "stdout",
     "output_type": "stream",
     "text": [
      "0.10578803285099726\n"
     ]
    },
    {
     "name": "stderr",
     "output_type": "stream",
     "text": [
      "100%|██████████| 2964/2964 [1:48:22<00:00,  2.19s/it]  \n"
     ]
    },
    {
     "name": "stdout",
     "output_type": "stream",
     "text": [
      "0.13591105210753401\n"
     ]
    },
    {
     "name": "stderr",
     "output_type": "stream",
     "text": [
      "100%|██████████| 3926/3926 [2:23:49<00:00,  2.20s/it]  \n"
     ]
    },
    {
     "name": "stdout",
     "output_type": "stream",
     "text": [
      "0.1532488114104596\n"
     ]
    },
    {
     "name": "stderr",
     "output_type": "stream",
     "text": [
      "100%|██████████| 1664/1664 [59:10<00:00,  2.13s/it] \n"
     ]
    },
    {
     "name": "stdout",
     "output_type": "stream",
     "text": [
      "0.10807577268195413\n"
     ]
    },
    {
     "name": "stderr",
     "output_type": "stream",
     "text": [
      "100%|██████████| 1896/1896 [1:10:20<00:00,  2.23s/it]\n"
     ]
    },
    {
     "name": "stdout",
     "output_type": "stream",
     "text": [
      "0.15460642428521001\n"
     ]
    },
    {
     "name": "stderr",
     "output_type": "stream",
     "text": [
      "100%|██████████| 336/336 [10:09<00:00,  1.81s/it]\n",
      "  0%|          | 0/96 [00:00<?, ?it/s]"
     ]
    },
    {
     "name": "stdout",
     "output_type": "stream",
     "text": [
      "0.2748299319727891\n"
     ]
    },
    {
     "name": "stderr",
     "output_type": "stream",
     "text": [
      "100%|██████████| 96/96 [02:50<00:00,  1.78s/it]\n"
     ]
    },
    {
     "name": "stdout",
     "output_type": "stream",
     "text": [
      "0.29375\n"
     ]
    },
    {
     "name": "stderr",
     "output_type": "stream",
     "text": [
      "100%|██████████| 3246/3246 [1:59:14<00:00,  2.20s/it]  \n"
     ]
    },
    {
     "name": "stdout",
     "output_type": "stream",
     "text": [
      "0.1620732208967503\n"
     ]
    },
    {
     "name": "stderr",
     "output_type": "stream",
     "text": [
      "100%|██████████| 2094/2094 [1:36:49<00:00,  2.77s/it]\n"
     ]
    },
    {
     "name": "stdout",
     "output_type": "stream",
     "text": [
      "0.15763403263403264\n"
     ]
    },
    {
     "name": "stderr",
     "output_type": "stream",
     "text": [
      "100%|██████████| 50/50 [00:15<00:00,  3.29it/s]\n"
     ]
    },
    {
     "name": "stdout",
     "output_type": "stream",
     "text": [
      "0.256198347107438\n"
     ]
    },
    {
     "name": "stderr",
     "output_type": "stream",
     "text": [
      "100%|██████████| 722/722 [37:37<00:00,  3.13s/it]  \n"
     ]
    },
    {
     "name": "stdout",
     "output_type": "stream",
     "text": [
      "0.1997471554993679\n"
     ]
    },
    {
     "name": "stderr",
     "output_type": "stream",
     "text": [
      "100%|██████████| 1420/1420 [1:06:28<00:00,  2.81s/it]\n"
     ]
    },
    {
     "name": "stdout",
     "output_type": "stream",
     "text": [
      "0.1134202183867559\n"
     ]
    },
    {
     "name": "stderr",
     "output_type": "stream",
     "text": [
      "100%|██████████| 2590/2590 [1:51:44<00:00,  2.59s/it]  \n"
     ]
    },
    {
     "name": "stdout",
     "output_type": "stream",
     "text": [
      "0.1394478240524099\n"
     ]
    },
    {
     "name": "stderr",
     "output_type": "stream",
     "text": [
      "100%|██████████| 1842/1842 [1:09:28<00:00,  2.26s/it]\n"
     ]
    },
    {
     "name": "stdout",
     "output_type": "stream",
     "text": [
      "0.15803814713896458\n"
     ]
    },
    {
     "name": "stderr",
     "output_type": "stream",
     "text": [
      "100%|██████████| 1776/1776 [1:11:28<00:00,  2.41s/it]\n"
     ]
    },
    {
     "name": "stdout",
     "output_type": "stream",
     "text": [
      "0.1188118811881188\n"
     ]
    },
    {
     "name": "stderr",
     "output_type": "stream",
     "text": [
      "100%|██████████| 1534/1534 [1:02:23<00:00,  2.44s/it]\n"
     ]
    },
    {
     "name": "stdout",
     "output_type": "stream",
     "text": [
      "0.13363259668508287\n"
     ]
    },
    {
     "name": "stderr",
     "output_type": "stream",
     "text": [
      "100%|██████████| 3798/3798 [3:03:52<00:00,  2.90s/it]  \n"
     ]
    },
    {
     "name": "stdout",
     "output_type": "stream",
     "text": [
      "0.1229676185271212\n"
     ]
    },
    {
     "name": "stderr",
     "output_type": "stream",
     "text": [
      "100%|██████████| 2306/2306 [1:21:42<00:00,  2.13s/it]\n"
     ]
    },
    {
     "name": "stdout",
     "output_type": "stream",
     "text": [
      "0.10072794988996106\n"
     ]
    },
    {
     "name": "stderr",
     "output_type": "stream",
     "text": [
      "100%|██████████| 514/514 [21:26<00:00,  2.50s/it]\n"
     ]
    },
    {
     "name": "stdout",
     "output_type": "stream",
     "text": [
      "0.3248898678414097\n"
     ]
    },
    {
     "name": "stderr",
     "output_type": "stream",
     "text": [
      "100%|██████████| 1576/1576 [59:44<00:00,  2.27s/it] \n"
     ]
    },
    {
     "name": "stdout",
     "output_type": "stream",
     "text": [
      "0.1291087766858692\n"
     ]
    },
    {
     "name": "stderr",
     "output_type": "stream",
     "text": [
      "100%|██████████| 3130/3130 [2:18:31<00:00,  2.66s/it]  \n"
     ]
    },
    {
     "name": "stdout",
     "output_type": "stream",
     "text": [
      "0.07899010778089473\n"
     ]
    },
    {
     "name": "stderr",
     "output_type": "stream",
     "text": [
      "100%|██████████| 464/464 [20:07<00:00,  2.60s/it]\n"
     ]
    },
    {
     "name": "stdout",
     "output_type": "stream",
     "text": [
      "0.26582278481012656\n"
     ]
    },
    {
     "name": "stderr",
     "output_type": "stream",
     "text": [
      "100%|██████████| 3030/3030 [2:06:25<00:00,  2.50s/it]  \n",
      "  0%|          | 0/54 [00:00<?, ?it/s]"
     ]
    },
    {
     "name": "stdout",
     "output_type": "stream",
     "text": [
      "0.14717706694633806\n"
     ]
    },
    {
     "name": "stderr",
     "output_type": "stream",
     "text": [
      "100%|██████████| 54/54 [00:26<00:00,  2.02it/s]\n"
     ]
    },
    {
     "name": "stdout",
     "output_type": "stream",
     "text": [
      "0.3644859813084112\n"
     ]
    },
    {
     "name": "stderr",
     "output_type": "stream",
     "text": [
      "100%|██████████| 348/348 [09:22<00:00,  1.62s/it]\n"
     ]
    },
    {
     "name": "stdout",
     "output_type": "stream",
     "text": [
      "0.218707015130674\n"
     ]
    },
    {
     "name": "stderr",
     "output_type": "stream",
     "text": [
      "100%|██████████| 2116/2116 [1:32:28<00:00,  2.62s/it]\n"
     ]
    },
    {
     "name": "stdout",
     "output_type": "stream",
     "text": [
      "0.09527654420670166\n"
     ]
    },
    {
     "name": "stderr",
     "output_type": "stream",
     "text": [
      "100%|██████████| 3996/3996 [2:55:29<00:00,  2.64s/it]  \n"
     ]
    },
    {
     "name": "stdout",
     "output_type": "stream",
     "text": [
      "0.13789141051422005\n"
     ]
    },
    {
     "name": "stderr",
     "output_type": "stream",
     "text": [
      "100%|██████████| 1838/1838 [57:16<00:00,  1.87s/it]\n",
      "  0%|          | 0/60 [00:00<?, ?it/s]"
     ]
    },
    {
     "name": "stdout",
     "output_type": "stream",
     "text": [
      "0.12746421820145828\n"
     ]
    },
    {
     "name": "stderr",
     "output_type": "stream",
     "text": [
      "100%|██████████| 60/60 [00:33<00:00,  1.79it/s]\n"
     ]
    },
    {
     "name": "stdout",
     "output_type": "stream",
     "text": [
      "0.36507936507936506\n"
     ]
    },
    {
     "name": "stderr",
     "output_type": "stream",
     "text": [
      "100%|██████████| 2336/2336 [1:34:17<00:00,  2.42s/it]\n"
     ]
    },
    {
     "name": "stdout",
     "output_type": "stream",
     "text": [
      "0.158203125\n"
     ]
    },
    {
     "name": "stderr",
     "output_type": "stream",
     "text": [
      "100%|██████████| 1684/1684 [1:06:07<00:00,  2.36s/it]\n"
     ]
    },
    {
     "name": "stdout",
     "output_type": "stream",
     "text": [
      "0.15685529813900495\n"
     ]
    },
    {
     "name": "stderr",
     "output_type": "stream",
     "text": [
      "100%|██████████| 1834/1834 [1:17:47<00:00,  2.54s/it]\n"
     ]
    },
    {
     "name": "stdout",
     "output_type": "stream",
     "text": [
      "0.17368140649973363\n"
     ]
    },
    {
     "name": "stderr",
     "output_type": "stream",
     "text": [
      "100%|██████████| 1506/1506 [57:04<00:00,  2.27s/it] \n"
     ]
    },
    {
     "name": "stdout",
     "output_type": "stream",
     "text": [
      "0.10497614178595774\n"
     ]
    },
    {
     "name": "stderr",
     "output_type": "stream",
     "text": [
      "100%|██████████| 1348/1348 [58:07<00:00,  2.59s/it] \n"
     ]
    },
    {
     "name": "stdout",
     "output_type": "stream",
     "text": [
      "0.11118737131091283\n"
     ]
    },
    {
     "name": "stderr",
     "output_type": "stream",
     "text": [
      "100%|██████████| 3144/3144 [2:00:28<00:00,  2.30s/it]  \n"
     ]
    },
    {
     "name": "stdout",
     "output_type": "stream",
     "text": [
      "0.1396479463537301\n"
     ]
    },
    {
     "name": "stderr",
     "output_type": "stream",
     "text": [
      "100%|██████████| 3556/3556 [1:57:03<00:00,  1.98s/it]  \n"
     ]
    },
    {
     "name": "stdout",
     "output_type": "stream",
     "text": [
      "0.11465073834411814\n"
     ]
    },
    {
     "name": "stderr",
     "output_type": "stream",
     "text": [
      "100%|██████████| 510/510 [20:06<00:00,  2.36s/it]\n"
     ]
    },
    {
     "name": "stdout",
     "output_type": "stream",
     "text": [
      "0.23617021276595745\n"
     ]
    },
    {
     "name": "stderr",
     "output_type": "stream",
     "text": [
      " 65%|██████▍   | 1268/1954 [44:00<32:07,  2.81s/it] "
     ]
    }
   ],
   "source": [
    "for i in range(207,401):\n",
    "  document = df['Cleaned_Transcript'][i]\n",
    "  summary = df['Summary'][i]\n",
    "  val=blanc_help.eval_once(document,summary)\n",
    "  val=str(val)\n",
    "  print(val)\n",
    "  with open('evalFinal.txt', 'a') as writefile:\n",
    "    writefile.write(\",\")\n",
    "    writefile.write(val)"
   ]
  },
  {
   "cell_type": "code",
   "execution_count": 33,
   "id": "f5d84317",
   "metadata": {},
   "outputs": [
    {
     "data": {
      "text/plain": [
       "'The following content is provided under a reative ommons license. Your support will help T OpenourseWare continue to offer high quality educational resources for free. To make a donation, or to view additional materials from hundreds of T courses, visit T OpenourseWare at ocw.mit.edu. PROFEOR: o, Professor Jerison is relaxing in sunny London, Ontario today and sent me in as his substitute again. m glad to the here and see you all again. o our agenda today: he said that hed already talked about power series and Taylors formula, guess on last week right, on Friday? o m going to go a little further with that and show you some examples, show you some applications, and then have this course evaluation survey that ll hand out in the last 10 minutes or so of the class. also have this handout that he made that says 18.01 end of term 2007. f you didnt pick this up coming in, grab it going out. People tend not to pick it up when they walk in, see. o grab this when youre going out. Theres some things missing from it. He has not decided when his office hours will be at the end of term. He will have them, just hasnt decided when. o, check the website for that information. And were looking forward to the final exam, which is uh arent we? Any questions about this technical stuff? All right, lets talk about power series for a little bit. o thought should review for you what the story with power series is. OK, could have your attention please? o, power series is a way of writing a function as a sum of integral powers of x. These a_0, a_1, and so on, are numbers. An example of a power series is a polynomial. Not to be forgotten, one type of power series is one which goes on for a finite number of terms and then ends, so that all of the other, all the higher a_is are all 0. This is a perfectly good example of a power series; its a very special kind of power series. And part of what want to tell you today is that power series behave, almost exactly like, polynomials. Theres just one thing that you have to be careful about when youre using power series that isnt a concern for polynomials, and ll show you what that is in a minute. o, you should think of them as generalized polynomials. The one thing that you have to be careful about is that there is a number o one caution. Theres a number which ll call R, where R can be between 0 and it can also be infinity. ts a number between 0 and infinity, inclusive, so that when the absolute value of x is less than R. o when x is smaller than R in size, the sum converges. This sum that sum converges to a finite value. And when x is bigger than R in absolute value, the sum diverges. This R is called the radius of convergence. o well see some examples of what the radius of convergence is in various powers series as well, and how you find it also. But, let me go on and give you a few more of the properties about power series which think that professor Jerison talked about earlier. o one of them is theres a radius of convergence. Heres another one. f youre inside of the radius convergence, then the function has all its derivatives, has all its derivatives, just like a polynomial does. You can differentiate it over and over again. And in terms of those derivatives, the number a_n in the power series can be expressed in terms of the value of the derivative at 0. And this is called Taylors formula. o m saying that inside of this radius of convergence, the function that were looking at, this f(x), can be written as the value of the function at 0, thats a_0, plus the value of the derivative. This bracket n means you take the derivative n times. o when n is 1, you take the derivative once at 0, divided by 1!, which is !, and multiply it by x. Thats the linear term in the power series. And then the quadratic term is you take the second derivative. Remember to divide by 2!, which is 2. ultiply that by x^2 and so on out. o, in terms o the coefficients in the power series just record the values of the derivatives of the function at x = 0. They can be computed that way also. Lets see. think thats the end of my summary of things that he talked about. think he did one example, and ll repeat that example of a power series. This example wasnt due to David Jerison; it was due to Leonard Euler. ts the example of where the function is the exponential function e^x. o, lets see. Lets compute what will just repeat for you the computation of the power series for e^x, just because its such an important thing to do. o, in order to do that, have to know what the derivative of e^x is, and what the second derivative of e^x is, and so on, because that comes into the Taylor formula for the coefficients. But we know what the derivative of e^x is, its just e^x again, and its that way all the way down. All the derivatives are e^x over and over again. o when evaluate this at x = 0, well, the value of e^x is 1, the value of e^x is 1 at x = 0. You get a value of 1 all the way down. o all these derivatives at 0 have the value 1. And now, when plug into this formula, find e^x is 1 plus 1*x plus 1/2! x^2 plus 1/3! x^3, plus and so on. o all of these numbers are 1, and all you wind up with is the factorials in the denominators. Thats the power series for e^x. This was a discovery of Leonhard Euler in 1740 or something. Yes, aam. ADENE: When youre writing out the power series, how far do you have to write it out? PROFEOR: How far do you have to write the power series before it becomes well defined? Before its a satisfactory solution to an exam problem, suppose, is another way to phrase the question. ntil you can see what the pattern is. can see what the pattern is. s there anyone whos in doubt about what the next term might be? ome people would tell you that you have to write the summation convention thing. Dont believe them. f you right out enough terms to make it clear, thats good enough. OK? s that an answer for you? ADENE: Yes, Thank you. PROFEOR: OK, so thats a basic example. Lets do another basic example of a power series. Oh yes, and by the way, whenever you write out a power series, you should say what the radius of convergence is. And for now, will just to tell you that the radius of convergence of this power series is infinity; that is, this sum always converges for any value of x. ll say a little more about that in a few minutes. Yeah? ADENE: o which functions can be written as power series? PROFEOR: Which functions can be written as power series? Thats an excellent question. Any function that has a reasonable expression can be written as a power series. m not giving you a very good answer because the true answer is a little bit complicated. But any of the functions that occur in calculus like sines, cosines, tangents, they all have power series expansions, OK? Well see more examples. Lets do another example. Heres another example. guess this was example one. o, this example, think, was due to Newton, not Euler. Lets find the power series expansion of this function: 1/(1+x). Well, think that somewhere along the line, you learned about the geometric series which tells you that which tells you what the answer to this is, and ll just write it out. The geometric series tells you that this function can be written as an alternating sum of powers of x. You may wonder where these minuses came from. Well, if you really think about the geometric series, as you probably remembered, there was a minus sign here, and that gets replaced by these minus signs. think maybe Jerison talked about this also. Anyway, heres another basic example. Remember what the graph of this function looks like when x = 1. Then theres a little problem here because the denominator becomes 0, so the graph has a pole there. t goes up to infinity at x = 1, and thats an indication that the radius of convergence is not infinity. Because if you try to converge to this infinite number by putting in x = 1, here, youll have a big problem. n fact, you see when you put in x = 1, you keep getting 1 in every term, and it gets bigger and bigger and does not converge. n this example, the radius of convergence is 1. OK, so, lets do a new example now. Oh, and by the way, should say you can calculate these numbers using Taylors formula. f you havent seen it, check it out. alculate the iterated derivatives of this function and plug in x = 0 and see that you get +1, 1, +1, 1, and so on. Yes sir. ADENE: For the radius of convergence see that if you do 1 itll blow out. f you put in 1 though, it seems like it would be fine. PROFEOR: The questions is can see that theres a problem at x = 1, why is there also a problem at x = 1 where the graph is perfectly smooth and innocuous and finite. Thats another excellent question. The problem is that if you go off to a radius of 1 in any direction and theres a problem, thats it. Thats what the radius of convergence is. Here, what does happen if put an x = +1? o, lets look at the partial sums. Do x = +1 in your mind here. o ll get a partial sum 1, then 0, and then 1, and then 0, and then 1. o even though it doesnt go up to infinity, it still does not converge. ADENE: And anything in between? PROFEOR: Any of these other things will also fail to converge in this example. Well, thats the only two real numbers at the edge. Right? OK, lets do a different example now. How about a trig function? The sine of x. m going to compute the power series expansion for sin(x). and m going to do it using Taylors formula. o Taylors formula says that have to start computing derivatives of sin(x). ounds like its going to be a lot of work. Lets see, the derivative of the sine is the cosine. And the derivative of the cosine, thats the second derivative of the sine, is what? Remember the minus, its sin(x). OK, now want to take the third derivative of the sine, which is the derivative of sine prime prime, so its the derivative of this. And we just decided the derivative of sine is cosine, so get cosine, but have this minus sign in front. And now want to differentiate again, so the cosine becomes a minus sine, and that sign cancels with this minus sign to give me sin(x). You follow that? ts a lot of 1s canceling out there. o, all of a sudden, m right back where started; these two are the same and the pattern will now repeat forever and ever. Higher and higher derivatives of sines are just plus or minus sines and cosines. Now Taylors formula says should now substitute x = 0 into this and see what happens, so lets do that. When x is equals to 0, the sine is 0 and the cosine is 1. The sine is 0, so minus 0 is also 0. The cosine is 1, but now theres a minus one, and now m back where started, and so the pattern will repeat. OK, so the values of the derivatives are all zeros and plus and minus ones and they go through that pattern, fourfold periodicity, over and over again. And so we can write out what sin(x) is using Taylors formula, using this formula. o put in the value at 0 which is 0, then put in the derivative which is 1, multiplied by x. Then, have the second derivative divided by 2!, but the second derivative at 0 is 0. o m going to drop that term out. Now have the third derivative which is 1. And remember the 3! in the denominator. Thats the coefficient of x^3. Whats the fourth derivative? Well, here we are, its on the board, its 0. o drop that term out go up to the fifth term, the fifth power of x. ts derivative is now 1. Weve gone through the pattern, were back at +1 as the value of the iterated derivative, so now get 1/5! x^5. Now, you tell me, have we done enough terms to see what the pattern is? guess the next term will be a 1/7! x^7, and so on. Let me write this out again just so we have it. x^3 / 3! o its x minus x^3 / 3! plus x^5 / 5!. You guessed it, and so on. Thats the power series expansion for the sine of x, OK? And so, the sign alternate, and these denominators get very big, dont they? Exponentials grow very fast. Let me make a remark. R is infinity here. The radius of convergence of this power series again is infinity, and let me just say why. The reason is that the general term is going to be like x^(2n+1) / (2n+1)!. An odd number can write as 2n + 1. And what want to say is that the size of this, what happens to the size of this as n goes to infinity? o lets just think about this. For a fixed x, lets fix the number x. Look at powers of x and think about the size of this expression when n gets to be large. o lets just do that for a second. o, x^(2n+1) / (2n+1)!, can write out like this. ts x / 1 times x / 2 sorry times x / 3, times x / (2n+1). ve multiplied x by itself 2n+1 times in the numerator, and ve multiplied the numbers 1, 2, 3, 4, and so on, by each other in the denominator, and that gives me the factorial. o ve just written this out like this. Now x is fixed, so maybe its a million, OK? ts big, but fixed. What happens to these numbers? Well at first, theyre pretty big. This is 1,000,000 / 2, this is 1,000,000 / 3. But when n gets to be aybe if n is 1,000,000, then this is about 1/2. f n is a billion, then this is about 1/2,000, right? The denominators keep getting bigger and bigger, but the numerators stay the same; theyre always x. o when take the product, if go far enough out, m going to be multiplying, by very, very small numbers and more and more of them. And so no matter what x is, these numbers will converge to 0. Theyll get smaller and smaller as x gets to be bigger. Thats the sign that x is inside of the radius of convergence. This is the sign for you that this series converges for that value of x. And because could do this for any x, this works. This convergence to 0 for any fixed x. Thats what tells you that you can take that the radius of convergence is infinity. Because in the formula, in the fact, in this property that the radius of convergence talks about, if R is equal to infinity, this is no condition on x. Every number is less than infinity in absolute value. o if this convergence to 0 of the general term works for every x, then radius of convergence is infinity. Well that was kind of fast, but think that youve heard something about that earlier as well. Anyway, so weve got the sine function, a new function with its own power series. ts a way of computing sin(x). f you take enough terms youll get a good evaluation of sin(x). for any x. This tells you a lot about the function sin(x) but not everything at all. For example, from this formula, its very hard to see that the sine of x is periodic. ts not obvious at all. omewhere hidden away in this expression is the number pi, the half of the period. But thats not clear from the power series at all. o the power series are very good for some things, but they hide other properties of functions. Well, so want to spend a few minutes telling you about what you can do with a power series, once you have one, to get new power series, so new power series from old. And this is also called operations on power series. o what are the things that we can do to a power series? Well one of the things you can do is multiply. o, for example, what if want to compute a power series for x sin(x)? Well have a power series for sin(x), just did it. How about a power series for x? Actually, did that here too. The function x is a very simple polynomial. ts a polynomial where thats 0, a_1 is 1, and all the other coefficients are 0. o x itself is a power series, a very simple one. sin(x) is a powers series. And what want to encourage you to do is treat power series just like polynomials and multiply them together. Well see other operations too. o, to compute the power series for x sin(x), of just take this one and multiply it by x. o lets see if can do that right. t distributes through: x^2 minus x^4 / 3! plus x^6 / 5!, and so on. And again, the radius of convergence is going to be the smaller of the two radii of convergence here. o its R equals infinity in this case. OK, you can multiply power series together. t can be a pain if the power series are very long, but if one of them is x, its pretty simple. OK, thats one thing can do. Notice something by the way. You know that even and odd functions? o, sine is an odd function, x is an odd function, the product of two odd functions is an even function. And thats reflected in the fact that all the powers that occur in the power series are even. For an odd function, like the sine, all the powers that occur are odd powers of x. Thats always true. OK, we can multiply. can also differentiate. o lets just do a case of that, and use the process of differentiation to find out what the power series for cos(x) is by writing the cos(x) as the derivative of the sine and differentiating term by term. o, ll take this expression for the power series of the sine and differentiate it term by term, and ll get the power series for cosine. o, lets see. The derivative of x is one. Now, the derivative of x^3 is 3x^2, and then theres a 3! in the denominator. And the derivative of x^5 5x^4, and theres a 5! in the denominator, and so on and so on. And now some cancellation happens. o this is 1 minus, well, the 3 cancels with the last factor in this 3 factorial and leaves you with 2!. And the 5 cancels with the last factor in the 5 factorial and leaves you with a 4! in the denominator. And so there you go, theres the power series expansion for the cosine. ts got all even powers of x. They alternate, and you have factorials in the denominator. And of course, you could derive that expression by using Taylors formula, by the same kind of calculation you did here, taking higher and higher derivatives of the cosine. You get the same periodic pattern of derivatives and values of derivatives at x = 0. But heres a cleaner way to do it, simpler way to do it, because we already knew the derivative of the sine. When you differentiate, you keep the same radius of convergence. OK, so we can multiply, can add too and multiply by a constant, things like that. How about integrating? Thats what half of this course was about isnt it? o, lets integrate something. o, the integration m going to do is this one: the integral from 0 to x of dt / (1+x). What is that integral as a function? o, when find the antiderivative of this, get ln(1+t), and then when evaluate that at t = x, get ln(1+x). And when evaluate the natural log at 0, get the ln 1, which is 0, so this is what you get, OK? This is really valid, by the way, for x bigger than 1. But you dont want to think about this quite like this when x is smaller than that. Now, m going to try to apply power series methods here and find use this integral to find a power series for the natural log, and ll do it by plugging into this expression what the power series for 1/(1+t) was. And know what that is because wrote it down on the board up here. hange the variable from x to t there, and so 1/(1+t) is 1 minus t plus t^2 minus t^3, and so on. o thats the thing in the inside of the integral, and now its legal to integrate that term by term, so lets do that. m going to get something which will then evaluate at x and at 0. o, when integrate 1 get x, and when integrate t, get t. m sorry. When integrate t, get t^2 / 2, and t^2 gives me t^3 / 3, and so on and so on. And then, when put in t = x, well, just replace all the ts by xs, and when put in t = 0, get 0. o this equals x. o, ve discovered that ln(1+x) is x minus x^2 / 2 plus x^3 / 3 minus x^4 / 4, and so on and so on. Theres the power series expansion for ln(1+x). And because began with a power series whose radius of convergence was just 1, began with this power series, the radius of convergence of this is also going to be 1. Also, because this function, as just pointed out, this function goes bad when x becomes less than 1, so some problem happens, and thats reflected in the radius of convergence. ool. o, you can integrate. That is the correct power series expansion for the ln(1+x), and another victory of Eulers was to use this kind of power series expansion to calculate natural logarithms in a much more efficient way than people had done before. OK, one more property, think. What are we at here, 3? 4. ubstitute. Very appropriate for me as a substitute teacher to tell you about substitution. o m going to try to find the power series expansion of e^(t^2). OK? And the way ll do that is by taking the power series expansion for e^x, which we have up there, and make the substitution x = t^2 in the expansion for e^x. Did you have a question? ADENE: Well, its just concerning the radius of convergence. You cant define x so that is always positive, and if so, it wouldnt have a radius of convergence, right? PROFEOR: Like say, again the worry is this ln(1+x) function is perfectly well behaved for large x. Why does the power series fail to converge for large x? Well suppose that x is bigger than 1, then here you get bigger and bigger powers of x, which will grow to infinity, and they grow large faster than the numbers 2, 3, 4, 5, 6. They grow exponentially, and these just grow linearly. o, again, the general term, when x is bigger than one, the general term will go off to infinity, even though the function that youre talking about, log of net of 1 plus x is perfectly good. o the power series is not good outside of the radius of convergence. ts just a fact of life. Yes? ADENE: PROFEOR: d rather talk to me after class. The question is why is it the smaller of the two radii of convergence? The basic answer is, well, you cant expect it to be bigger than that smaller one, because the power series only gives you information inside of that range about the function, so. ADENE: PROFEOR: Well, in this case, both of the radii of convergence are infinity. x has radius of convergence infinity for sure, and sin(x) does too. o you get infinity in that case, OK? OK, lets just do this, and then m going to integrate this and thatll be the end of what have time for today. o whats the power series expansion for this? The power series expansion of this is going to be a function of t, right, because the variable here is t. get it by taking my expansion for e^x and putting in what x is in terms of t. Whoops! And so on and so on. just put in t^2 in place of x there in the series expansion for e^x. can work this out a little bit better. t^2 is what it is. This is going to give me a t^4 and the minus squared is going to give me a plus, so get t^4 / 2!. Then get (t)^3, so therell be a minus sign and a t^6 and the denominator 3!. o the signs are going to alternate, the powers are all even, and the denominators are these factorials. everal times as this course has gone on, the error function has made an appearance. The error function was, guess it gets normalized by putting a 2 over the square root of pi in front, and its the integral of e^(t^2) dt from 0 to x. And this normalization is here because as x gets to be large the value becomes 1. o this error function is very important in the theory of probability. And think you calculated this fact at some point in the course. o the standard definition of the error function, you put a 2 over the square root of pi in front. Lets calculate its power series expansion. o theres a 2 over the square root of pi that hurts nobody here in the front. And now want to integrate e^(t^2), and m going to use this power series expansion for that to see what you get. o m just going to write this out think. did it out carefully in another example over there, so ll do it a little quicker now. ntegrate this term by term, youre just integrating powers of t so its pretty simple, so get and then m evaluating at x and then at 0. o get x minus x^3 / 3, plus x^5 / (5*2!), 5 from integrating the t^4, and the 2! from this denominator that we already had. And then theres a x^7 / (7*3!), and plus, and so on, and you can imagine how they go on from there. guess to get this exactly in the form that we began talking about, should multiply through. o the coefficient of x is 2 over the square root of pi, and the coefficient of x^3 is 2 over 3 times the square root of pi, and so on. But this is a perfectly good way to write this power series expansion as well. And, this is a very good way to compute the value of the error function. ts a new function in our experience. Your calculator probably calculates it, and your calculator probably does it by this method. OK, so thats my sermon on examples of things you can do with power series. o, were going to do the EG thing in just a minute. Professor Jerison wanted me to make an ad for 18.02. Just in case you were thinking of not taking it next term, you really should take it. t will put a lot of things in this course into context, for one thing. ts about vector calculus and so on. o youll learn about vectors and things like that. But it comes back and explains some things in this course that might have been a little bit strange, like these strange formulas for the product rule and the quotient rule and the sort of random formulas. Well, one of the things you learn in 18.02 is that theyre all special cases of the chain rule. And just to drive that point home, he wanted me to show you this poem of his that really drives the points home forcefully, think.'"
      ]
     },
     "execution_count": 33,
     "metadata": {},
     "output_type": "execute_result"
    }
   ],
   "source": [
    "df['Cleaned_Transcript'][0]"
   ]
  },
  {
   "cell_type": "code",
   "execution_count": 32,
   "id": "bf1ac544",
   "metadata": {},
   "outputs": [
    {
     "data": {
      "text/plain": [
       "'And for now, will just to tell you that the radius of convergence of this power series is infinity; that is, this sum always converges for any value of x. ll say a little more about that in a few minutes. o, in order to do that, have to know what the derivative of e^x is, and what the second derivative of e^x is, and so on, because that comes into the Taylor formula for the coefficients. The power series expansion of this is going to be a function of t, right, because the variable here is t. get it by taking my expansion for e^x and putting in what x is in terms of t. Whoops! o, to compute the power series for x sin(x), of just take this one and multiply it by x. o lets see if can do that right. o m saying that inside of this radius of convergence, the function that were looking at, this f(x), can be written as the value of the function at 0, thats a_0, plus the value of the derivative. And the way ll do that is by taking the power series expansion for e^x, which we have up there, and make the substitution x = t^2 in the expansion for e^x. o lets just do a case of that, and use the process of differentiation to find out what the power series for cos(x) is by writing the cos(x) as the derivative of the sine and differentiating term by term. This convergence to 0 for any fixed x. Thats what tells you that you can take that the radius of convergence is infinity. And now want to integrate e^(t^2), and m going to use this power series expansion for that to see what you get. And the derivative of the cosine, thats the second derivative of the sine, is what? Oh yes, and by the way, whenever you write out a power series, you should say what the radius of convergence is. Thats the power series expansion for the sine of x, OK? o, ll take this expression for the power series of the sine and differentiate it term by term, and ll get the power series for cosine. o when n is 1, you take the derivative once at 0, divided by 1!, which is !, and multiply it by x. Thats the linear term in the power series. o thats the thing in the inside of the integral, and now its legal to integrate that term by term, so lets do that. And again, the radius of convergence is going to be the smaller of the two radii of convergence here. The error function was, guess it gets normalized by putting a 2 over the square root of pi in front, and its the integral of e^(t^2) dt from 0 to x. And this normalization is here because as x gets to be large the value becomes 1. o this error function is very important in the theory of probability. o, in terms o the coefficients in the power series just record the values of the derivatives of the function at x = 0. alculate the iterated derivatives of this function and plug in x = 0 and see that you get +1, 1, +1, 1, and so on. Lets see, the derivative of the sine is the cosine. n this example, the radius of convergence is 1. This is the sign for you that this series converges for that value of x. And because could do this for any x, this works. And in terms of those derivatives, the number a_n in the power series can be expressed in terms of the value of the derivative at 0. o well see some examples of what the radius of convergence is in various powers series as well, and how you find it also. And so there you go, theres the power series expansion for the cosine. OK, lets just do this, and then m going to integrate this and thatll be the end of what have time for today. The basic answer is, well, you cant expect it to be bigger than that smaller one, because the power series only gives you information inside of that range about the function, so. The radius of convergence of this power series again is infinity, and let me just say why. And then, when put in t = x, well, just replace all the ts by xs, and when put in t = 0, get 0. o this equals x. o, ve discovered that ln(1+x) is x minus x^2 / 2 plus x^3 / 3 minus x^4 / 4, and so on and so on. Now, m going to try to apply power series methods here and find use this integral to find a power series for the natural log, and ll do it by plugging into this expression what the power series for 1/(1+t) was. Thats the sign that x is inside of the radius of convergence. And when evaluate the natural log at 0, get the ln 1, which is 0, so this is what you get, OK? Because in the formula, in the fact, in this property that the radius of convergence talks about, if R is equal to infinity, this is no condition on x. Every number is less than infinity in absolute value. The sine of x. m going to compute the power series expansion for sin(x). Well, think that somewhere along the line, you learned about the geometric series which tells you that which tells you what the answer to this is, and ll just write it out. And what want to say is that the size of this, what happens to the size of this as n goes to infinity? And because began with a power series whose radius of convergence was just 1, began with this power series, the radius of convergence of this is also going to be 1. And, this is a very good way to compute the value of the error function. Not to be forgotten, one type of power series is one which goes on for a finite number of terms and then ends, so that all of the other, all the higher a_is are all 0. And thats reflected in the fact that all the powers that occur in the power series are even. Thats what the radius of convergence is. o what are the things that we can do to a power series? o the power series is not good outside of the radius of convergence. Theres just one thing that you have to be careful about when youre using power series that isnt a concern for polynomials, and ll show you what that is in a minute. When x is equals to 0, the sine is 0 and the cosine is 1. Lets find the power series expansion of this function: 1/(1+x). Well one of the things you can do is multiply. o when evaluate this at x = 0, well, the value of e^x is 1, the value of e^x is 1 at x = 0. o put in the value at 0 which is 0, then put in the derivative which is 1, multiplied by x. Then, have the second derivative divided by 2!, but the second derivative at 0 is 0. o m going to drop that term out. OK, now want to take the third derivative of the sine, which is the derivative of sine prime prime, so its the derivative of this. Lets compute what will just repeat for you the computation of the power series for e^x, just because its such an important thing to do. But we know what the derivative of e^x is, its just e^x again, and its that way all the way down. The derivative of x is one. Thats the power series for e^x. For example, from this formula, its very hard to see that the sine of x is periodic. For a fixed x, lets fix the number x. Look at powers of x and think about the size of this expression when n gets to be large. The question is why is it the smaller of the two radii of convergence? And we just decided the derivative of sine is cosine, so get cosine, but have this minus sign in front. That is the correct power series expansion for the ln(1+x), and another victory of Eulers was to use this kind of power series expansion to calculate natural logarithms in a much more efficient way than people had done before. o, the integration m going to do is this one: the integral from 0 to x of dt / (1+x). in the denominator, and so on and so on.'"
      ]
     },
     "execution_count": 32,
     "metadata": {},
     "output_type": "execute_result"
    }
   ],
   "source": [
    "df['Summary'][0]"
   ]
  },
  {
   "cell_type": "code",
   "execution_count": 34,
   "id": "50cb8605",
   "metadata": {},
   "outputs": [
    {
     "data": {
      "application/vnd.jupyter.widget-view+json": {
       "model_id": "6c3c2ce0048b462185cd06e652957d03",
       "version_major": 2,
       "version_minor": 0
      },
      "text/plain": [
       "Downloading:   0%|          | 0.00/232k [00:00<?, ?B/s]"
      ]
     },
     "metadata": {},
     "output_type": "display_data"
    },
    {
     "data": {
      "application/vnd.jupyter.widget-view+json": {
       "model_id": "ceb4f975ba524a719efb02860f104e63",
       "version_major": 2,
       "version_minor": 0
      },
      "text/plain": [
       "Downloading:   0%|          | 0.00/28.0 [00:00<?, ?B/s]"
      ]
     },
     "metadata": {},
     "output_type": "display_data"
    },
    {
     "data": {
      "application/vnd.jupyter.widget-view+json": {
       "model_id": "02179b1f6fca4b4db157038065484ead",
       "version_major": 2,
       "version_minor": 0
      },
      "text/plain": [
       "Downloading:   0%|          | 0.00/466k [00:00<?, ?B/s]"
      ]
     },
     "metadata": {},
     "output_type": "display_data"
    },
    {
     "data": {
      "application/vnd.jupyter.widget-view+json": {
       "model_id": "e5632531cab34e2b8afa47f2e5213d58",
       "version_major": 2,
       "version_minor": 0
      },
      "text/plain": [
       "Downloading:   0%|          | 0.00/570 [00:00<?, ?B/s]"
      ]
     },
     "metadata": {},
     "output_type": "display_data"
    },
    {
     "data": {
      "application/vnd.jupyter.widget-view+json": {
       "model_id": "211d2d0921474086a1df2a7a9b184ef8",
       "version_major": 2,
       "version_minor": 0
      },
      "text/plain": [
       "Downloading:   0%|          | 0.00/440M [00:00<?, ?B/s]"
      ]
     },
     "metadata": {},
     "output_type": "display_data"
    },
    {
     "name": "stderr",
     "output_type": "stream",
     "text": [
      "Some weights of the model checkpoint at bert-base-uncased were not used when initializing BertForMaskedLM: ['cls.seq_relationship.weight', 'cls.seq_relationship.bias']\n",
      "- This IS expected if you are initializing BertForMaskedLM from the checkpoint of a model trained on another task or with another architecture (e.g. initializing a BertForSequenceClassification model from a BertForPreTraining model).\n",
      "- This IS NOT expected if you are initializing BertForMaskedLM from the checkpoint of a model that you expect to be exactly identical (initializing a BertForSequenceClassification model from a BertForSequenceClassification model).\n",
      "Some weights of the model checkpoint at bert-base-uncased were not used when initializing BertForMaskedLM: ['cls.seq_relationship.weight', 'cls.seq_relationship.bias']\n",
      "- This IS expected if you are initializing BertForMaskedLM from the checkpoint of a model trained on another task or with another architecture (e.g. initializing a BertForSequenceClassification model from a BertForPreTraining model).\n",
      "- This IS NOT expected if you are initializing BertForMaskedLM from the checkpoint of a model that you expect to be exactly identical (initializing a BertForSequenceClassification model from a BertForSequenceClassification model).\n",
      "100%|██████████| 1262/1262 [56:46<00:00,  2.70s/it] \n"
     ]
    },
    {
     "name": "stdout",
     "output_type": "stream",
     "text": [
      "0.1991507430997877\n"
     ]
    },
    {
     "name": "stderr",
     "output_type": "stream",
     "text": [
      "Some weights of the model checkpoint at bert-base-uncased were not used when initializing BertForMaskedLM: ['cls.seq_relationship.weight', 'cls.seq_relationship.bias']\n",
      "- This IS expected if you are initializing BertForMaskedLM from the checkpoint of a model trained on another task or with another architecture (e.g. initializing a BertForSequenceClassification model from a BertForPreTraining model).\n",
      "- This IS NOT expected if you are initializing BertForMaskedLM from the checkpoint of a model that you expect to be exactly identical (initializing a BertForSequenceClassification model from a BertForSequenceClassification model).\n",
      "ERROR:root:Internal Python error in the inspect module.\n",
      "Below is the traceback from this internal error.\n",
      "\n"
     ]
    },
    {
     "name": "stdout",
     "output_type": "stream",
     "text": [
      "Traceback (most recent call last):\n",
      "  File \"C:\\Users\\farhe\\anaconda3\\envs\\CapClone\\lib\\site-packages\\IPython\\core\\interactiveshell.py\", line 3441, in run_code\n",
      "    exec(code_obj, self.user_global_ns, self.user_ns)\n",
      "  File \"<ipython-input-34-b3c493f94ab9>\", line 7, in <module>\n",
      "    print(blanc_tune.eval_once(document, summary))\n",
      "  File \"C:\\Users\\farhe\\anaconda3\\envs\\CapClone\\lib\\site-packages\\blanc\\blanc.py\", line 102, in eval_once\n",
      "    (doc_score,) = self.eval_summaries_for_docs([doc], [[summary]])\n",
      "  File \"C:\\Users\\farhe\\anaconda3\\envs\\CapClone\\lib\\site-packages\\blanc\\blanc.py\", line 655, in eval_summaries_for_docs\n",
      "    self.finetune(finetuned_model, summary)\n",
      "  File \"C:\\Users\\farhe\\anaconda3\\envs\\CapClone\\lib\\site-packages\\blanc\\blanc.py\", line 780, in finetune\n",
      "    loss.backward()\n",
      "  File \"C:\\Users\\farhe\\anaconda3\\envs\\CapClone\\lib\\site-packages\\torch\\tensor.py\", line 185, in backward\n",
      "    torch.autograd.backward(self, gradient, retain_graph, create_graph)\n",
      "  File \"C:\\Users\\farhe\\anaconda3\\envs\\CapClone\\lib\\site-packages\\torch\\autograd\\__init__.py\", line 125, in backward\n",
      "    Variable._execution_engine.run_backward(\n",
      "KeyboardInterrupt\n",
      "\n",
      "During handling of the above exception, another exception occurred:\n",
      "\n",
      "Traceback (most recent call last):\n",
      "  File \"C:\\Users\\farhe\\anaconda3\\envs\\CapClone\\lib\\site-packages\\IPython\\core\\interactiveshell.py\", line 2061, in showtraceback\n",
      "    stb = value._render_traceback_()\n",
      "AttributeError: 'KeyboardInterrupt' object has no attribute '_render_traceback_'\n",
      "\n",
      "During handling of the above exception, another exception occurred:\n",
      "\n",
      "Traceback (most recent call last):\n",
      "  File \"C:\\Users\\farhe\\anaconda3\\envs\\CapClone\\lib\\site-packages\\IPython\\core\\ultratb.py\", line 1101, in get_records\n",
      "    return _fixed_getinnerframes(etb, number_of_lines_of_context, tb_offset)\n",
      "  File \"C:\\Users\\farhe\\anaconda3\\envs\\CapClone\\lib\\site-packages\\IPython\\core\\ultratb.py\", line 248, in wrapped\n",
      "    return f(*args, **kwargs)\n",
      "  File \"C:\\Users\\farhe\\anaconda3\\envs\\CapClone\\lib\\site-packages\\IPython\\core\\ultratb.py\", line 281, in _fixed_getinnerframes\n",
      "    records = fix_frame_records_filenames(inspect.getinnerframes(etb, context))\n",
      "  File \"C:\\Users\\farhe\\anaconda3\\envs\\CapClone\\lib\\inspect.py\", line 1515, in getinnerframes\n",
      "    frameinfo = (tb.tb_frame,) + getframeinfo(tb, context)\n",
      "  File \"C:\\Users\\farhe\\anaconda3\\envs\\CapClone\\lib\\inspect.py\", line 1473, in getframeinfo\n",
      "    filename = getsourcefile(frame) or getfile(frame)\n",
      "  File \"C:\\Users\\farhe\\anaconda3\\envs\\CapClone\\lib\\inspect.py\", line 708, in getsourcefile\n",
      "    if getattr(getmodule(object, filename), '__loader__', None) is not None:\n",
      "  File \"C:\\Users\\farhe\\anaconda3\\envs\\CapClone\\lib\\inspect.py\", line 751, in getmodule\n",
      "    f = getabsfile(module)\n",
      "  File \"C:\\Users\\farhe\\anaconda3\\envs\\CapClone\\lib\\inspect.py\", line 720, in getabsfile\n",
      "    _filename = getsourcefile(object) or getfile(object)\n",
      "  File \"C:\\Users\\farhe\\anaconda3\\envs\\CapClone\\lib\\inspect.py\", line 705, in getsourcefile\n",
      "    if os.path.exists(filename):\n",
      "  File \"C:\\Users\\farhe\\anaconda3\\envs\\CapClone\\lib\\genericpath.py\", line 19, in exists\n",
      "    os.stat(path)\n",
      "KeyboardInterrupt\n"
     ]
    },
    {
     "ename": "TypeError",
     "evalue": "object of type 'NoneType' has no len()",
     "output_type": "error",
     "traceback": [
      "\u001b[1;31m---------------------------------------------------------------------------\u001b[0m",
      "\u001b[1;31mKeyboardInterrupt\u001b[0m                         Traceback (most recent call last)",
      "    \u001b[1;31m[... skipping hidden 1 frame]\u001b[0m\n",
      "\u001b[1;32m<ipython-input-34-b3c493f94ab9>\u001b[0m in \u001b[0;36m<module>\u001b[1;34m\u001b[0m\n\u001b[0;32m      6\u001b[0m \u001b[0mprint\u001b[0m\u001b[1;33m(\u001b[0m\u001b[0mblanc_help\u001b[0m\u001b[1;33m.\u001b[0m\u001b[0meval_once\u001b[0m\u001b[1;33m(\u001b[0m\u001b[0mdocument\u001b[0m\u001b[1;33m,\u001b[0m \u001b[0msummary\u001b[0m\u001b[1;33m)\u001b[0m\u001b[1;33m)\u001b[0m\u001b[1;33m\u001b[0m\u001b[1;33m\u001b[0m\u001b[0m\n\u001b[1;32m----> 7\u001b[1;33m \u001b[0mprint\u001b[0m\u001b[1;33m(\u001b[0m\u001b[0mblanc_tune\u001b[0m\u001b[1;33m.\u001b[0m\u001b[0meval_once\u001b[0m\u001b[1;33m(\u001b[0m\u001b[0mdocument\u001b[0m\u001b[1;33m,\u001b[0m \u001b[0msummary\u001b[0m\u001b[1;33m)\u001b[0m\u001b[1;33m)\u001b[0m\u001b[1;33m\u001b[0m\u001b[1;33m\u001b[0m\u001b[0m\n\u001b[0m\u001b[0;32m      8\u001b[0m \u001b[1;33m\u001b[0m\u001b[0m\n",
      "\u001b[1;32m~\\anaconda3\\envs\\CapClone\\lib\\site-packages\\blanc\\blanc.py\u001b[0m in \u001b[0;36meval_once\u001b[1;34m(self, doc, summary)\u001b[0m\n\u001b[0;32m    101\u001b[0m         \"\"\"\n\u001b[1;32m--> 102\u001b[1;33m         \u001b[1;33m(\u001b[0m\u001b[0mdoc_score\u001b[0m\u001b[1;33m,\u001b[0m\u001b[1;33m)\u001b[0m \u001b[1;33m=\u001b[0m \u001b[0mself\u001b[0m\u001b[1;33m.\u001b[0m\u001b[0meval_summaries_for_docs\u001b[0m\u001b[1;33m(\u001b[0m\u001b[1;33m[\u001b[0m\u001b[0mdoc\u001b[0m\u001b[1;33m]\u001b[0m\u001b[1;33m,\u001b[0m \u001b[1;33m[\u001b[0m\u001b[1;33m[\u001b[0m\u001b[0msummary\u001b[0m\u001b[1;33m]\u001b[0m\u001b[1;33m]\u001b[0m\u001b[1;33m)\u001b[0m\u001b[1;33m\u001b[0m\u001b[1;33m\u001b[0m\u001b[0m\n\u001b[0m\u001b[0;32m    103\u001b[0m         \u001b[1;33m(\u001b[0m\u001b[0mscore\u001b[0m\u001b[1;33m,\u001b[0m\u001b[1;33m)\u001b[0m \u001b[1;33m=\u001b[0m \u001b[0mdoc_score\u001b[0m\u001b[1;33m\u001b[0m\u001b[1;33m\u001b[0m\u001b[0m\n",
      "\u001b[1;32m~\\anaconda3\\envs\\CapClone\\lib\\site-packages\\blanc\\blanc.py\u001b[0m in \u001b[0;36meval_summaries_for_docs\u001b[1;34m(self, docs, doc_summaries)\u001b[0m\n\u001b[0;32m    654\u001b[0m                 \u001b[0mfinetuned_model\u001b[0m \u001b[1;33m=\u001b[0m \u001b[0mmodel_copy\u001b[0m\u001b[1;33m.\u001b[0m\u001b[0mto\u001b[0m\u001b[1;33m(\u001b[0m\u001b[0mself\u001b[0m\u001b[1;33m.\u001b[0m\u001b[0mdevice\u001b[0m\u001b[1;33m)\u001b[0m\u001b[1;33m\u001b[0m\u001b[1;33m\u001b[0m\u001b[0m\n\u001b[1;32m--> 655\u001b[1;33m                 \u001b[0mself\u001b[0m\u001b[1;33m.\u001b[0m\u001b[0mfinetune\u001b[0m\u001b[1;33m(\u001b[0m\u001b[0mfinetuned_model\u001b[0m\u001b[1;33m,\u001b[0m \u001b[0msummary\u001b[0m\u001b[1;33m)\u001b[0m\u001b[1;33m\u001b[0m\u001b[1;33m\u001b[0m\u001b[0m\n\u001b[0m\u001b[0;32m    656\u001b[0m \u001b[1;33m\u001b[0m\u001b[0m\n",
      "\u001b[1;32m~\\anaconda3\\envs\\CapClone\\lib\\site-packages\\blanc\\blanc.py\u001b[0m in \u001b[0;36mfinetune\u001b[1;34m(self, model, summary)\u001b[0m\n\u001b[0;32m    779\u001b[0m                     )\n\u001b[1;32m--> 780\u001b[1;33m                 \u001b[0mloss\u001b[0m\u001b[1;33m.\u001b[0m\u001b[0mbackward\u001b[0m\u001b[1;33m(\u001b[0m\u001b[1;33m)\u001b[0m\u001b[1;33m\u001b[0m\u001b[1;33m\u001b[0m\u001b[0m\n\u001b[0m\u001b[0;32m    781\u001b[0m                 \u001b[0moptimizer\u001b[0m\u001b[1;33m.\u001b[0m\u001b[0mstep\u001b[0m\u001b[1;33m(\u001b[0m\u001b[1;33m)\u001b[0m\u001b[1;33m\u001b[0m\u001b[1;33m\u001b[0m\u001b[0m\n",
      "\u001b[1;32m~\\anaconda3\\envs\\CapClone\\lib\\site-packages\\torch\\tensor.py\u001b[0m in \u001b[0;36mbackward\u001b[1;34m(self, gradient, retain_graph, create_graph)\u001b[0m\n\u001b[0;32m    184\u001b[0m         \"\"\"\n\u001b[1;32m--> 185\u001b[1;33m         \u001b[0mtorch\u001b[0m\u001b[1;33m.\u001b[0m\u001b[0mautograd\u001b[0m\u001b[1;33m.\u001b[0m\u001b[0mbackward\u001b[0m\u001b[1;33m(\u001b[0m\u001b[0mself\u001b[0m\u001b[1;33m,\u001b[0m \u001b[0mgradient\u001b[0m\u001b[1;33m,\u001b[0m \u001b[0mretain_graph\u001b[0m\u001b[1;33m,\u001b[0m \u001b[0mcreate_graph\u001b[0m\u001b[1;33m)\u001b[0m\u001b[1;33m\u001b[0m\u001b[1;33m\u001b[0m\u001b[0m\n\u001b[0m\u001b[0;32m    186\u001b[0m \u001b[1;33m\u001b[0m\u001b[0m\n",
      "\u001b[1;32m~\\anaconda3\\envs\\CapClone\\lib\\site-packages\\torch\\autograd\\__init__.py\u001b[0m in \u001b[0;36mbackward\u001b[1;34m(tensors, grad_tensors, retain_graph, create_graph, grad_variables)\u001b[0m\n\u001b[0;32m    124\u001b[0m \u001b[1;33m\u001b[0m\u001b[0m\n\u001b[1;32m--> 125\u001b[1;33m     Variable._execution_engine.run_backward(\n\u001b[0m\u001b[0;32m    126\u001b[0m         \u001b[0mtensors\u001b[0m\u001b[1;33m,\u001b[0m \u001b[0mgrad_tensors\u001b[0m\u001b[1;33m,\u001b[0m \u001b[0mretain_graph\u001b[0m\u001b[1;33m,\u001b[0m \u001b[0mcreate_graph\u001b[0m\u001b[1;33m,\u001b[0m\u001b[1;33m\u001b[0m\u001b[1;33m\u001b[0m\u001b[0m\n",
      "\u001b[1;31mKeyboardInterrupt\u001b[0m: ",
      "\nDuring handling of the above exception, another exception occurred:\n",
      "\u001b[1;31mAttributeError\u001b[0m                            Traceback (most recent call last)",
      "\u001b[1;32m~\\anaconda3\\envs\\CapClone\\lib\\site-packages\\IPython\\core\\interactiveshell.py\u001b[0m in \u001b[0;36mshowtraceback\u001b[1;34m(self, exc_tuple, filename, tb_offset, exception_only, running_compiled_code)\u001b[0m\n\u001b[0;32m   2060\u001b[0m                         \u001b[1;31m# in the engines. This should return a list of strings.\u001b[0m\u001b[1;33m\u001b[0m\u001b[1;33m\u001b[0m\u001b[1;33m\u001b[0m\u001b[0m\n\u001b[1;32m-> 2061\u001b[1;33m                         \u001b[0mstb\u001b[0m \u001b[1;33m=\u001b[0m \u001b[0mvalue\u001b[0m\u001b[1;33m.\u001b[0m\u001b[0m_render_traceback_\u001b[0m\u001b[1;33m(\u001b[0m\u001b[1;33m)\u001b[0m\u001b[1;33m\u001b[0m\u001b[1;33m\u001b[0m\u001b[0m\n\u001b[0m\u001b[0;32m   2062\u001b[0m                     \u001b[1;32mexcept\u001b[0m \u001b[0mException\u001b[0m\u001b[1;33m:\u001b[0m\u001b[1;33m\u001b[0m\u001b[1;33m\u001b[0m\u001b[0m\n",
      "\u001b[1;31mAttributeError\u001b[0m: 'KeyboardInterrupt' object has no attribute '_render_traceback_'",
      "\nDuring handling of the above exception, another exception occurred:\n",
      "\u001b[1;31mTypeError\u001b[0m                                 Traceback (most recent call last)",
      "    \u001b[1;31m[... skipping hidden 1 frame]\u001b[0m\n",
      "\u001b[1;32m~\\anaconda3\\envs\\CapClone\\lib\\site-packages\\IPython\\core\\interactiveshell.py\u001b[0m in \u001b[0;36mshowtraceback\u001b[1;34m(self, exc_tuple, filename, tb_offset, exception_only, running_compiled_code)\u001b[0m\n\u001b[0;32m   2061\u001b[0m                         \u001b[0mstb\u001b[0m \u001b[1;33m=\u001b[0m \u001b[0mvalue\u001b[0m\u001b[1;33m.\u001b[0m\u001b[0m_render_traceback_\u001b[0m\u001b[1;33m(\u001b[0m\u001b[1;33m)\u001b[0m\u001b[1;33m\u001b[0m\u001b[1;33m\u001b[0m\u001b[0m\n\u001b[0;32m   2062\u001b[0m                     \u001b[1;32mexcept\u001b[0m \u001b[0mException\u001b[0m\u001b[1;33m:\u001b[0m\u001b[1;33m\u001b[0m\u001b[1;33m\u001b[0m\u001b[0m\n\u001b[1;32m-> 2063\u001b[1;33m                         stb = self.InteractiveTB.structured_traceback(etype,\n\u001b[0m\u001b[0;32m   2064\u001b[0m                                             value, tb, tb_offset=tb_offset)\n\u001b[0;32m   2065\u001b[0m \u001b[1;33m\u001b[0m\u001b[0m\n",
      "\u001b[1;32m~\\anaconda3\\envs\\CapClone\\lib\\site-packages\\IPython\\core\\ultratb.py\u001b[0m in \u001b[0;36mstructured_traceback\u001b[1;34m(self, etype, value, tb, tb_offset, number_of_lines_of_context)\u001b[0m\n\u001b[0;32m   1365\u001b[0m         \u001b[1;32melse\u001b[0m\u001b[1;33m:\u001b[0m\u001b[1;33m\u001b[0m\u001b[1;33m\u001b[0m\u001b[0m\n\u001b[0;32m   1366\u001b[0m             \u001b[0mself\u001b[0m\u001b[1;33m.\u001b[0m\u001b[0mtb\u001b[0m \u001b[1;33m=\u001b[0m \u001b[0mtb\u001b[0m\u001b[1;33m\u001b[0m\u001b[1;33m\u001b[0m\u001b[0m\n\u001b[1;32m-> 1367\u001b[1;33m         return FormattedTB.structured_traceback(\n\u001b[0m\u001b[0;32m   1368\u001b[0m             self, etype, value, tb, tb_offset, number_of_lines_of_context)\n\u001b[0;32m   1369\u001b[0m \u001b[1;33m\u001b[0m\u001b[0m\n",
      "\u001b[1;32m~\\anaconda3\\envs\\CapClone\\lib\\site-packages\\IPython\\core\\ultratb.py\u001b[0m in \u001b[0;36mstructured_traceback\u001b[1;34m(self, etype, value, tb, tb_offset, number_of_lines_of_context)\u001b[0m\n\u001b[0;32m   1265\u001b[0m         \u001b[1;32mif\u001b[0m \u001b[0mmode\u001b[0m \u001b[1;32min\u001b[0m \u001b[0mself\u001b[0m\u001b[1;33m.\u001b[0m\u001b[0mverbose_modes\u001b[0m\u001b[1;33m:\u001b[0m\u001b[1;33m\u001b[0m\u001b[1;33m\u001b[0m\u001b[0m\n\u001b[0;32m   1266\u001b[0m             \u001b[1;31m# Verbose modes need a full traceback\u001b[0m\u001b[1;33m\u001b[0m\u001b[1;33m\u001b[0m\u001b[1;33m\u001b[0m\u001b[0m\n\u001b[1;32m-> 1267\u001b[1;33m             return VerboseTB.structured_traceback(\n\u001b[0m\u001b[0;32m   1268\u001b[0m                 \u001b[0mself\u001b[0m\u001b[1;33m,\u001b[0m \u001b[0metype\u001b[0m\u001b[1;33m,\u001b[0m \u001b[0mvalue\u001b[0m\u001b[1;33m,\u001b[0m \u001b[0mtb\u001b[0m\u001b[1;33m,\u001b[0m \u001b[0mtb_offset\u001b[0m\u001b[1;33m,\u001b[0m \u001b[0mnumber_of_lines_of_context\u001b[0m\u001b[1;33m\u001b[0m\u001b[1;33m\u001b[0m\u001b[0m\n\u001b[0;32m   1269\u001b[0m             )\n",
      "\u001b[1;32m~\\anaconda3\\envs\\CapClone\\lib\\site-packages\\IPython\\core\\ultratb.py\u001b[0m in \u001b[0;36mstructured_traceback\u001b[1;34m(self, etype, evalue, etb, tb_offset, number_of_lines_of_context)\u001b[0m\n\u001b[0;32m   1122\u001b[0m         \u001b[1;34m\"\"\"Return a nice text document describing the traceback.\"\"\"\u001b[0m\u001b[1;33m\u001b[0m\u001b[1;33m\u001b[0m\u001b[0m\n\u001b[0;32m   1123\u001b[0m \u001b[1;33m\u001b[0m\u001b[0m\n\u001b[1;32m-> 1124\u001b[1;33m         formatted_exception = self.format_exception_as_a_whole(etype, evalue, etb, number_of_lines_of_context,\n\u001b[0m\u001b[0;32m   1125\u001b[0m                                                                tb_offset)\n\u001b[0;32m   1126\u001b[0m \u001b[1;33m\u001b[0m\u001b[0m\n",
      "\u001b[1;32m~\\anaconda3\\envs\\CapClone\\lib\\site-packages\\IPython\\core\\ultratb.py\u001b[0m in \u001b[0;36mformat_exception_as_a_whole\u001b[1;34m(self, etype, evalue, etb, number_of_lines_of_context, tb_offset)\u001b[0m\n\u001b[0;32m   1080\u001b[0m \u001b[1;33m\u001b[0m\u001b[0m\n\u001b[0;32m   1081\u001b[0m \u001b[1;33m\u001b[0m\u001b[0m\n\u001b[1;32m-> 1082\u001b[1;33m         \u001b[0mlast_unique\u001b[0m\u001b[1;33m,\u001b[0m \u001b[0mrecursion_repeat\u001b[0m \u001b[1;33m=\u001b[0m \u001b[0mfind_recursion\u001b[0m\u001b[1;33m(\u001b[0m\u001b[0morig_etype\u001b[0m\u001b[1;33m,\u001b[0m \u001b[0mevalue\u001b[0m\u001b[1;33m,\u001b[0m \u001b[0mrecords\u001b[0m\u001b[1;33m)\u001b[0m\u001b[1;33m\u001b[0m\u001b[1;33m\u001b[0m\u001b[0m\n\u001b[0m\u001b[0;32m   1083\u001b[0m \u001b[1;33m\u001b[0m\u001b[0m\n\u001b[0;32m   1084\u001b[0m         \u001b[0mframes\u001b[0m \u001b[1;33m=\u001b[0m \u001b[0mself\u001b[0m\u001b[1;33m.\u001b[0m\u001b[0mformat_records\u001b[0m\u001b[1;33m(\u001b[0m\u001b[0mrecords\u001b[0m\u001b[1;33m,\u001b[0m \u001b[0mlast_unique\u001b[0m\u001b[1;33m,\u001b[0m \u001b[0mrecursion_repeat\u001b[0m\u001b[1;33m)\u001b[0m\u001b[1;33m\u001b[0m\u001b[1;33m\u001b[0m\u001b[0m\n",
      "\u001b[1;32m~\\anaconda3\\envs\\CapClone\\lib\\site-packages\\IPython\\core\\ultratb.py\u001b[0m in \u001b[0;36mfind_recursion\u001b[1;34m(etype, value, records)\u001b[0m\n\u001b[0;32m    380\u001b[0m     \u001b[1;31m# first frame (from in to out) that looks different.\u001b[0m\u001b[1;33m\u001b[0m\u001b[1;33m\u001b[0m\u001b[1;33m\u001b[0m\u001b[0m\n\u001b[0;32m    381\u001b[0m     \u001b[1;32mif\u001b[0m \u001b[1;32mnot\u001b[0m \u001b[0mis_recursion_error\u001b[0m\u001b[1;33m(\u001b[0m\u001b[0metype\u001b[0m\u001b[1;33m,\u001b[0m \u001b[0mvalue\u001b[0m\u001b[1;33m,\u001b[0m \u001b[0mrecords\u001b[0m\u001b[1;33m)\u001b[0m\u001b[1;33m:\u001b[0m\u001b[1;33m\u001b[0m\u001b[1;33m\u001b[0m\u001b[0m\n\u001b[1;32m--> 382\u001b[1;33m         \u001b[1;32mreturn\u001b[0m \u001b[0mlen\u001b[0m\u001b[1;33m(\u001b[0m\u001b[0mrecords\u001b[0m\u001b[1;33m)\u001b[0m\u001b[1;33m,\u001b[0m \u001b[1;36m0\u001b[0m\u001b[1;33m\u001b[0m\u001b[1;33m\u001b[0m\u001b[0m\n\u001b[0m\u001b[0;32m    383\u001b[0m \u001b[1;33m\u001b[0m\u001b[0m\n\u001b[0;32m    384\u001b[0m     \u001b[1;31m# Select filename, lineno, func_name to track frames with\u001b[0m\u001b[1;33m\u001b[0m\u001b[1;33m\u001b[0m\u001b[1;33m\u001b[0m\u001b[0m\n",
      "\u001b[1;31mTypeError\u001b[0m: object of type 'NoneType' has no len()"
     ]
    }
   ],
   "source": [
    "\n",
    "document = df['Cleaned_Transcript'][0]\n",
    "summary = df['Summary'][0]\n",
    "blanc_help = BlancHelp()\n",
    "blanc_tune = BlancTune(finetune_mask_evenly=False, show_progress_bar=False)\n",
    "print(blanc_help.eval_once(document, summary))\n",
    "print(blanc_tune.eval_once(document, summary))\n"
   ]
  },
  {
   "cell_type": "code",
   "execution_count": 12,
   "id": "22771ae4",
   "metadata": {},
   "outputs": [],
   "source": [
    "documents=[]\n",
    "summaries=[]\n",
    "for i in range(200,400):\n",
    "    documents.append(df['Cleaned_Transcript'][i])\n",
    "    summaries.append(df['Summary'][i])\n"
   ]
  },
  {
   "cell_type": "code",
   "execution_count": null,
   "id": "89f28b40",
   "metadata": {},
   "outputs": [
    {
     "name": "stderr",
     "output_type": "stream",
     "text": [
      "Some weights of the model checkpoint at bert-base-uncased were not used when initializing BertForMaskedLM: ['cls.seq_relationship.weight', 'cls.seq_relationship.bias']\n",
      "- This IS expected if you are initializing BertForMaskedLM from the checkpoint of a model trained on another task or with another architecture (e.g. initializing a BertForSequenceClassification model from a BertForPreTraining model).\n",
      "- This IS NOT expected if you are initializing BertForMaskedLM from the checkpoint of a model that you expect to be exactly identical (initializing a BertForSequenceClassification model from a BertForSequenceClassification model).\n",
      "  5%|▌         | 16191/320928 [8:58:18<194:51:27,  2.30s/it]"
     ]
    }
   ],
   "source": [
    "blanc_help = BlancHelp()\n",
    "results=blanc_help.eval_pairs(documents, summaries)\n"
   ]
  },
  {
   "cell_type": "code",
   "execution_count": null,
   "id": "56281af1",
   "metadata": {},
   "outputs": [],
   "source": [
    "results"
   ]
  },
  {
   "cell_type": "code",
   "execution_count": null,
   "id": "78b2425c",
   "metadata": {},
   "outputs": [],
   "source": []
  },
  {
   "cell_type": "code",
   "execution_count": null,
   "id": "6f0f08bb",
   "metadata": {},
   "outputs": [],
   "source": []
  },
  {
   "cell_type": "code",
   "execution_count": 5,
   "id": "004c2501",
   "metadata": {},
   "outputs": [
    {
     "data": {
      "text/plain": [
       "'The following content is provided under a reative ommons license. Your support will help T OpenourseWare continue to offer high quality educational resources for free. To make a donation, or to view additional materials from hundreds of T courses, visit T OpenourseWare at ocw.mit.edu. PROFEOR: o, Professor Jerison is relaxing in sunny London, Ontario today and sent me in as his substitute again. m glad to the here and see you all again. o our agenda today: he said that hed already talked about power series and Taylors formula, guess on last week right, on Friday? o m going to go a little further with that and show you some examples, show you some applications, and then have this course evaluation survey that ll hand out in the last 10 minutes or so of the class. also have this handout that he made that says 18.01 end of term 2007. f you didnt pick this up coming in, grab it going out. People tend not to pick it up when they walk in, see. o grab this when youre going out. Theres some things missing from it. He has not decided when his office hours will be at the end of term. He will have them, just hasnt decided when. o, check the website for that information. And were looking forward to the final exam, which is uh arent we? Any questions about this technical stuff? All right, lets talk about power series for a little bit. o thought should review for you what the story with power series is. OK, could have your attention please? o, power series is a way of writing a function as a sum of integral powers of x. These a_0, a_1, and so on, are numbers. An example of a power series is a polynomial. Not to be forgotten, one type of power series is one which goes on for a finite number of terms and then ends, so that all of the other, all the higher a_is are all 0. This is a perfectly good example of a power series; its a very special kind of power series. And part of what want to tell you today is that power series behave, almost exactly like, polynomials. Theres just one thing that you have to be careful about when youre using power series that isnt a concern for polynomials, and ll show you what that is in a minute. o, you should think of them as generalized polynomials. The one thing that you have to be careful about is that there is a number o one caution. Theres a number which ll call R, where R can be between 0 and it can also be infinity. ts a number between 0 and infinity, inclusive, so that when the absolute value of x is less than R. o when x is smaller than R in size, the sum converges. This sum that sum converges to a finite value. And when x is bigger than R in absolute value, the sum diverges. This R is called the radius of convergence. o well see some examples of what the radius of convergence is in various powers series as well, and how you find it also. But, let me go on and give you a few more of the properties about power series which think that professor Jerison talked about earlier. o one of them is theres a radius of convergence. Heres another one. f youre inside of the radius convergence, then the function has all its derivatives, has all its derivatives, just like a polynomial does. You can differentiate it over and over again. And in terms of those derivatives, the number a_n in the power series can be expressed in terms of the value of the derivative at 0. And this is called Taylors formula. o m saying that inside of this radius of convergence, the function that were looking at, this f(x), can be written as the value of the function at 0, thats a_0, plus the value of the derivative. This bracket n means you take the derivative n times. o when n is 1, you take the derivative once at 0, divided by 1!, which is !, and multiply it by x. Thats the linear term in the power series. And then the quadratic term is you take the second derivative. Remember to divide by 2!, which is 2. ultiply that by x^2 and so on out. o, in terms o the coefficients in the power series just record the values of the derivatives of the function at x = 0. They can be computed that way also. Lets see. think thats the end of my summary of things that he talked about. think he did one example, and ll repeat that example of a power series. This example wasnt due to David Jerison; it was due to Leonard Euler. ts the example of where the function is the exponential function e^x. o, lets see. Lets compute what will just repeat for you the computation of the power series for e^x, just because its such an important thing to do. o, in order to do that, have to know what the derivative of e^x is, and what the second derivative of e^x is, and so on, because that comes into the Taylor formula for the coefficients. But we know what the derivative of e^x is, its just e^x again, and its that way all the way down. All the derivatives are e^x over and over again. o when evaluate this at x = 0, well, the value of e^x is 1, the value of e^x is 1 at x = 0. You get a value of 1 all the way down. o all these derivatives at 0 have the value 1. And now, when plug into this formula, find e^x is 1 plus 1*x plus 1/2! x^2 plus 1/3! x^3, plus and so on. o all of these numbers are 1, and all you wind up with is the factorials in the denominators. Thats the power series for e^x. This was a discovery of Leonhard Euler in 1740 or something. Yes, aam. ADENE: When youre writing out the power series, how far do you have to write it out? PROFEOR: How far do you have to write the power series before it becomes well defined? Before its a satisfactory solution to an exam problem, suppose, is another way to phrase the question. ntil you can see what the pattern is. can see what the pattern is. s there anyone whos in doubt about what the next term might be? ome people would tell you that you have to write the summation convention thing. Dont believe them. f you right out enough terms to make it clear, thats good enough. OK? s that an answer for you? ADENE: Yes, Thank you. PROFEOR: OK, so thats a basic example. Lets do another basic example of a power series. Oh yes, and by the way, whenever you write out a power series, you should say what the radius of convergence is. And for now, will just to tell you that the radius of convergence of this power series is infinity; that is, this sum always converges for any value of x. ll say a little more about that in a few minutes. Yeah? ADENE: o which functions can be written as power series? PROFEOR: Which functions can be written as power series? Thats an excellent question. Any function that has a reasonable expression can be written as a power series. m not giving you a very good answer because the true answer is a little bit complicated. But any of the functions that occur in calculus like sines, cosines, tangents, they all have power series expansions, OK? Well see more examples. Lets do another example. Heres another example. guess this was example one. o, this example, think, was due to Newton, not Euler. Lets find the power series expansion of this function: 1/(1+x). Well, think that somewhere along the line, you learned about the geometric series which tells you that which tells you what the answer to this is, and ll just write it out. The geometric series tells you that this function can be written as an alternating sum of powers of x. You may wonder where these minuses came from. Well, if you really think about the geometric series, as you probably remembered, there was a minus sign here, and that gets replaced by these minus signs. think maybe Jerison talked about this also. Anyway, heres another basic example. Remember what the graph of this function looks like when x = 1. Then theres a little problem here because the denominator becomes 0, so the graph has a pole there. t goes up to infinity at x = 1, and thats an indication that the radius of convergence is not infinity. Because if you try to converge to this infinite number by putting in x = 1, here, youll have a big problem. n fact, you see when you put in x = 1, you keep getting 1 in every term, and it gets bigger and bigger and does not converge. n this example, the radius of convergence is 1. OK, so, lets do a new example now. Oh, and by the way, should say you can calculate these numbers using Taylors formula. f you havent seen it, check it out. alculate the iterated derivatives of this function and plug in x = 0 and see that you get +1, 1, +1, 1, and so on. Yes sir. ADENE: For the radius of convergence see that if you do 1 itll blow out. f you put in 1 though, it seems like it would be fine. PROFEOR: The questions is can see that theres a problem at x = 1, why is there also a problem at x = 1 where the graph is perfectly smooth and innocuous and finite. Thats another excellent question. The problem is that if you go off to a radius of 1 in any direction and theres a problem, thats it. Thats what the radius of convergence is. Here, what does happen if put an x = +1? o, lets look at the partial sums. Do x = +1 in your mind here. o ll get a partial sum 1, then 0, and then 1, and then 0, and then 1. o even though it doesnt go up to infinity, it still does not converge. ADENE: And anything in between? PROFEOR: Any of these other things will also fail to converge in this example. Well, thats the only two real numbers at the edge. Right? OK, lets do a different example now. How about a trig function? The sine of x. m going to compute the power series expansion for sin(x). and m going to do it using Taylors formula. o Taylors formula says that have to start computing derivatives of sin(x). ounds like its going to be a lot of work. Lets see, the derivative of the sine is the cosine. And the derivative of the cosine, thats the second derivative of the sine, is what? Remember the minus, its sin(x). OK, now want to take the third derivative of the sine, which is the derivative of sine prime prime, so its the derivative of this. And we just decided the derivative of sine is cosine, so get cosine, but have this minus sign in front. And now want to differentiate again, so the cosine becomes a minus sine, and that sign cancels with this minus sign to give me sin(x). You follow that? ts a lot of 1s canceling out there. o, all of a sudden, m right back where started; these two are the same and the pattern will now repeat forever and ever. Higher and higher derivatives of sines are just plus or minus sines and cosines. Now Taylors formula says should now substitute x = 0 into this and see what happens, so lets do that. When x is equals to 0, the sine is 0 and the cosine is 1. The sine is 0, so minus 0 is also 0. The cosine is 1, but now theres a minus one, and now m back where started, and so the pattern will repeat. OK, so the values of the derivatives are all zeros and plus and minus ones and they go through that pattern, fourfold periodicity, over and over again. And so we can write out what sin(x) is using Taylors formula, using this formula. o put in the value at 0 which is 0, then put in the derivative which is 1, multiplied by x. Then, have the second derivative divided by 2!, but the second derivative at 0 is 0. o m going to drop that term out. Now have the third derivative which is 1. And remember the 3! in the denominator. Thats the coefficient of x^3. Whats the fourth derivative? Well, here we are, its on the board, its 0. o drop that term out go up to the fifth term, the fifth power of x. ts derivative is now 1. Weve gone through the pattern, were back at +1 as the value of the iterated derivative, so now get 1/5! x^5. Now, you tell me, have we done enough terms to see what the pattern is? guess the next term will be a 1/7! x^7, and so on. Let me write this out again just so we have it. x^3 / 3! o its x minus x^3 / 3! plus x^5 / 5!. You guessed it, and so on. Thats the power series expansion for the sine of x, OK? And so, the sign alternate, and these denominators get very big, dont they? Exponentials grow very fast. Let me make a remark. R is infinity here. The radius of convergence of this power series again is infinity, and let me just say why. The reason is that the general term is going to be like x^(2n+1) / (2n+1)!. An odd number can write as 2n + 1. And what want to say is that the size of this, what happens to the size of this as n goes to infinity? o lets just think about this. For a fixed x, lets fix the number x. Look at powers of x and think about the size of this expression when n gets to be large. o lets just do that for a second. o, x^(2n+1) / (2n+1)!, can write out like this. ts x / 1 times x / 2 sorry times x / 3, times x / (2n+1). ve multiplied x by itself 2n+1 times in the numerator, and ve multiplied the numbers 1, 2, 3, 4, and so on, by each other in the denominator, and that gives me the factorial. o ve just written this out like this. Now x is fixed, so maybe its a million, OK? ts big, but fixed. What happens to these numbers? Well at first, theyre pretty big. This is 1,000,000 / 2, this is 1,000,000 / 3. But when n gets to be aybe if n is 1,000,000, then this is about 1/2. f n is a billion, then this is about 1/2,000, right? The denominators keep getting bigger and bigger, but the numerators stay the same; theyre always x. o when take the product, if go far enough out, m going to be multiplying, by very, very small numbers and more and more of them. And so no matter what x is, these numbers will converge to 0. Theyll get smaller and smaller as x gets to be bigger. Thats the sign that x is inside of the radius of convergence. This is the sign for you that this series converges for that value of x. And because could do this for any x, this works. This convergence to 0 for any fixed x. Thats what tells you that you can take that the radius of convergence is infinity. Because in the formula, in the fact, in this property that the radius of convergence talks about, if R is equal to infinity, this is no condition on x. Every number is less than infinity in absolute value. o if this convergence to 0 of the general term works for every x, then radius of convergence is infinity. Well that was kind of fast, but think that youve heard something about that earlier as well. Anyway, so weve got the sine function, a new function with its own power series. ts a way of computing sin(x). f you take enough terms youll get a good evaluation of sin(x). for any x. This tells you a lot about the function sin(x) but not everything at all. For example, from this formula, its very hard to see that the sine of x is periodic. ts not obvious at all. omewhere hidden away in this expression is the number pi, the half of the period. But thats not clear from the power series at all. o the power series are very good for some things, but they hide other properties of functions. Well, so want to spend a few minutes telling you about what you can do with a power series, once you have one, to get new power series, so new power series from old. And this is also called operations on power series. o what are the things that we can do to a power series? Well one of the things you can do is multiply. o, for example, what if want to compute a power series for x sin(x)? Well have a power series for sin(x), just did it. How about a power series for x? Actually, did that here too. The function x is a very simple polynomial. ts a polynomial where thats 0, a_1 is 1, and all the other coefficients are 0. o x itself is a power series, a very simple one. sin(x) is a powers series. And what want to encourage you to do is treat power series just like polynomials and multiply them together. Well see other operations too. o, to compute the power series for x sin(x), of just take this one and multiply it by x. o lets see if can do that right. t distributes through: x^2 minus x^4 / 3! plus x^6 / 5!, and so on. And again, the radius of convergence is going to be the smaller of the two radii of convergence here. o its R equals infinity in this case. OK, you can multiply power series together. t can be a pain if the power series are very long, but if one of them is x, its pretty simple. OK, thats one thing can do. Notice something by the way. You know that even and odd functions? o, sine is an odd function, x is an odd function, the product of two odd functions is an even function. And thats reflected in the fact that all the powers that occur in the power series are even. For an odd function, like the sine, all the powers that occur are odd powers of x. Thats always true. OK, we can multiply. can also differentiate. o lets just do a case of that, and use the process of differentiation to find out what the power series for cos(x) is by writing the cos(x) as the derivative of the sine and differentiating term by term. o, ll take this expression for the power series of the sine and differentiate it term by term, and ll get the power series for cosine. o, lets see. The derivative of x is one. Now, the derivative of x^3 is 3x^2, and then theres a 3! in the denominator. And the derivative of x^5 5x^4, and theres a 5! in the denominator, and so on and so on. And now some cancellation happens. o this is 1 minus, well, the 3 cancels with the last factor in this 3 factorial and leaves you with 2!. And the 5 cancels with the last factor in the 5 factorial and leaves you with a 4! in the denominator. And so there you go, theres the power series expansion for the cosine. ts got all even powers of x. They alternate, and you have factorials in the denominator. And of course, you could derive that expression by using Taylors formula, by the same kind of calculation you did here, taking higher and higher derivatives of the cosine. You get the same periodic pattern of derivatives and values of derivatives at x = 0. But heres a cleaner way to do it, simpler way to do it, because we already knew the derivative of the sine. When you differentiate, you keep the same radius of convergence. OK, so we can multiply, can add too and multiply by a constant, things like that. How about integrating? Thats what half of this course was about isnt it? o, lets integrate something. o, the integration m going to do is this one: the integral from 0 to x of dt / (1+x). What is that integral as a function? o, when find the antiderivative of this, get ln(1+t), and then when evaluate that at t = x, get ln(1+x). And when evaluate the natural log at 0, get the ln 1, which is 0, so this is what you get, OK? This is really valid, by the way, for x bigger than 1. But you dont want to think about this quite like this when x is smaller than that. Now, m going to try to apply power series methods here and find use this integral to find a power series for the natural log, and ll do it by plugging into this expression what the power series for 1/(1+t) was. And know what that is because wrote it down on the board up here. hange the variable from x to t there, and so 1/(1+t) is 1 minus t plus t^2 minus t^3, and so on. o thats the thing in the inside of the integral, and now its legal to integrate that term by term, so lets do that. m going to get something which will then evaluate at x and at 0. o, when integrate 1 get x, and when integrate t, get t. m sorry. When integrate t, get t^2 / 2, and t^2 gives me t^3 / 3, and so on and so on. And then, when put in t = x, well, just replace all the ts by xs, and when put in t = 0, get 0. o this equals x. o, ve discovered that ln(1+x) is x minus x^2 / 2 plus x^3 / 3 minus x^4 / 4, and so on and so on. Theres the power series expansion for ln(1+x). And because began with a power series whose radius of convergence was just 1, began with this power series, the radius of convergence of this is also going to be 1. Also, because this function, as just pointed out, this function goes bad when x becomes less than 1, so some problem happens, and thats reflected in the radius of convergence. ool. o, you can integrate. That is the correct power series expansion for the ln(1+x), and another victory of Eulers was to use this kind of power series expansion to calculate natural logarithms in a much more efficient way than people had done before. OK, one more property, think. What are we at here, 3? 4. ubstitute. Very appropriate for me as a substitute teacher to tell you about substitution. o m going to try to find the power series expansion of e^(t^2). OK? And the way ll do that is by taking the power series expansion for e^x, which we have up there, and make the substitution x = t^2 in the expansion for e^x. Did you have a question? ADENE: Well, its just concerning the radius of convergence. You cant define x so that is always positive, and if so, it wouldnt have a radius of convergence, right? PROFEOR: Like say, again the worry is this ln(1+x) function is perfectly well behaved for large x. Why does the power series fail to converge for large x? Well suppose that x is bigger than 1, then here you get bigger and bigger powers of x, which will grow to infinity, and they grow large faster than the numbers 2, 3, 4, 5, 6. They grow exponentially, and these just grow linearly. o, again, the general term, when x is bigger than one, the general term will go off to infinity, even though the function that youre talking about, log of net of 1 plus x is perfectly good. o the power series is not good outside of the radius of convergence. ts just a fact of life. Yes? ADENE: PROFEOR: d rather talk to me after class. The question is why is it the smaller of the two radii of convergence? The basic answer is, well, you cant expect it to be bigger than that smaller one, because the power series only gives you information inside of that range about the function, so. ADENE: PROFEOR: Well, in this case, both of the radii of convergence are infinity. x has radius of convergence infinity for sure, and sin(x) does too. o you get infinity in that case, OK? OK, lets just do this, and then m going to integrate this and thatll be the end of what have time for today. o whats the power series expansion for this? The power series expansion of this is going to be a function of t, right, because the variable here is t. get it by taking my expansion for e^x and putting in what x is in terms of t. Whoops! And so on and so on. just put in t^2 in place of x there in the series expansion for e^x. can work this out a little bit better. t^2 is what it is. This is going to give me a t^4 and the minus squared is going to give me a plus, so get t^4 / 2!. Then get (t)^3, so therell be a minus sign and a t^6 and the denominator 3!. o the signs are going to alternate, the powers are all even, and the denominators are these factorials. everal times as this course has gone on, the error function has made an appearance. The error function was, guess it gets normalized by putting a 2 over the square root of pi in front, and its the integral of e^(t^2) dt from 0 to x. And this normalization is here because as x gets to be large the value becomes 1. o this error function is very important in the theory of probability. And think you calculated this fact at some point in the course. o the standard definition of the error function, you put a 2 over the square root of pi in front. Lets calculate its power series expansion. o theres a 2 over the square root of pi that hurts nobody here in the front. And now want to integrate e^(t^2), and m going to use this power series expansion for that to see what you get. o m just going to write this out think. did it out carefully in another example over there, so ll do it a little quicker now. ntegrate this term by term, youre just integrating powers of t so its pretty simple, so get and then m evaluating at x and then at 0. o get x minus x^3 / 3, plus x^5 / (5*2!), 5 from integrating the t^4, and the 2! from this denominator that we already had. And then theres a x^7 / (7*3!), and plus, and so on, and you can imagine how they go on from there. guess to get this exactly in the form that we began talking about, should multiply through. o the coefficient of x is 2 over the square root of pi, and the coefficient of x^3 is 2 over 3 times the square root of pi, and so on. But this is a perfectly good way to write this power series expansion as well. And, this is a very good way to compute the value of the error function. ts a new function in our experience. Your calculator probably calculates it, and your calculator probably does it by this method. OK, so thats my sermon on examples of things you can do with power series. o, were going to do the EG thing in just a minute. Professor Jerison wanted me to make an ad for 18.02. Just in case you were thinking of not taking it next term, you really should take it. t will put a lot of things in this course into context, for one thing. ts about vector calculus and so on. o youll learn about vectors and things like that. But it comes back and explains some things in this course that might have been a little bit strange, like these strange formulas for the product rule and the quotient rule and the sort of random formulas. Well, one of the things you learn in 18.02 is that theyre all special cases of the chain rule. And just to drive that point home, he wanted me to show you this poem of his that really drives the points home forcefully, think.'"
      ]
     },
     "execution_count": 5,
     "metadata": {},
     "output_type": "execute_result"
    }
   ],
   "source": [
    "df['Cleaned_Transcript'][0]"
   ]
  },
  {
   "cell_type": "code",
   "execution_count": null,
   "id": "af3885de",
   "metadata": {},
   "outputs": [],
   "source": [
    "df['Golden_Truth_Summary'][0]='''o, power series is a way of writing a function as a sum of integral powers of x.Theres a number which ll call R, where R can be between 0 and it can also be infinity. ts a number between 0 and infinity, inclusive, so that when the absolute value of x is less than R. o when x is smaller than R in size, the sum converges. This sum that sum converges to a finite value. And when x is bigger than R in absolute value, the sum diverges. This R is called the radius of convergence.Lets compute what will just repeat for you the computation of the power series for e^x, just because its such an important thing to do. o, in order to do that, have to know what the derivative of e^x is, and what the second derivative of e^x is, and so on, because that comes into the Taylor formula for the coefficients. Oh yes, and by the way, whenever you write out a power series, you should say what the radius of convergence is. '''"
   ]
  },
  {
   "cell_type": "code",
   "execution_count": 30,
   "id": "2db314dc",
   "metadata": {},
   "outputs": [],
   "source": [
    "df.to_csv('cleanedLatest.csv')"
   ]
  },
  {
   "cell_type": "code",
   "execution_count": 86,
   "id": "c8bbe58d",
   "metadata": {},
   "outputs": [
    {
     "data": {
      "text/html": [
       "<div>\n",
       "<style scoped>\n",
       "    .dataframe tbody tr th:only-of-type {\n",
       "        vertical-align: middle;\n",
       "    }\n",
       "\n",
       "    .dataframe tbody tr th {\n",
       "        vertical-align: top;\n",
       "    }\n",
       "\n",
       "    .dataframe thead th {\n",
       "        text-align: right;\n",
       "    }\n",
       "</style>\n",
       "<table border=\"1\" class=\"dataframe\">\n",
       "  <thead>\n",
       "    <tr style=\"text-align: right;\">\n",
       "      <th></th>\n",
       "      <th>Cleaned_Transcript</th>\n",
       "    </tr>\n",
       "  </thead>\n",
       "  <tbody>\n",
       "    <tr>\n",
       "      <th>430</th>\n",
       "      <td>The following content is provided under a reat...</td>\n",
       "    </tr>\n",
       "    <tr>\n",
       "      <th>431</th>\n",
       "      <td>OPERATOR: The following content is provided un...</td>\n",
       "    </tr>\n",
       "    <tr>\n",
       "      <th>432</th>\n",
       "      <td>The following content is provided under a reat...</td>\n",
       "    </tr>\n",
       "    <tr>\n",
       "      <th>433</th>\n",
       "      <td>tanford niversity. All right, hello everybody ...</td>\n",
       "    </tr>\n",
       "    <tr>\n",
       "      <th>434</th>\n",
       "      <td>We have already seen an example in which we ha...</td>\n",
       "    </tr>\n",
       "    <tr>\n",
       "      <th>...</th>\n",
       "      <td>...</td>\n",
       "    </tr>\n",
       "    <tr>\n",
       "      <th>855</th>\n",
       "      <td>The following content is provided under a reat...</td>\n",
       "    </tr>\n",
       "    <tr>\n",
       "      <th>856</th>\n",
       "      <td>DAVD J. ALAN: All right. o this is 50 and this...</td>\n",
       "    </tr>\n",
       "    <tr>\n",
       "      <th>857</th>\n",
       "      <td>The following content is provided by T Openour...</td>\n",
       "    </tr>\n",
       "    <tr>\n",
       "      <th>858</th>\n",
       "      <td>The following content is provided under a reat...</td>\n",
       "    </tr>\n",
       "    <tr>\n",
       "      <th>859</th>\n",
       "      <td>The following content is provided under a reat...</td>\n",
       "    </tr>\n",
       "  </tbody>\n",
       "</table>\n",
       "<p>430 rows × 1 columns</p>\n",
       "</div>"
      ],
      "text/plain": [
       "                                    Cleaned_Transcript\n",
       "430  The following content is provided under a reat...\n",
       "431  OPERATOR: The following content is provided un...\n",
       "432  The following content is provided under a reat...\n",
       "433  tanford niversity. All right, hello everybody ...\n",
       "434  We have already seen an example in which we ha...\n",
       "..                                                 ...\n",
       "855  The following content is provided under a reat...\n",
       "856  DAVD J. ALAN: All right. o this is 50 and this...\n",
       "857  The following content is provided by T Openour...\n",
       "858  The following content is provided under a reat...\n",
       "859  The following content is provided under a reat...\n",
       "\n",
       "[430 rows x 1 columns]"
      ]
     },
     "execution_count": 86,
     "metadata": {},
     "output_type": "execute_result"
    }
   ],
   "source": [
    "df=df[430:860]\n",
    "df"
   ]
  },
  {
   "cell_type": "code",
   "execution_count": null,
   "id": "18461587",
   "metadata": {},
   "outputs": [],
   "source": []
  },
  {
   "cell_type": "code",
   "execution_count": 87,
   "id": "c73dda18",
   "metadata": {},
   "outputs": [],
   "source": [
    "df.to_csv(\"cleanedHalfSecond.csv\")"
   ]
  },
  {
   "cell_type": "code",
   "execution_count": 4,
   "id": "5a405405",
   "metadata": {},
   "outputs": [],
   "source": [
    "#C:/Users/farhe/Downloads/file-result.csv\n",
    "dfFinalPart1=pd.read_csv(\"C:/Users/farhe/Downloads/part1.csv\")\n",
    "dfFinalPart2=pd.read_csv(\"C:/Users/farhe/Downloads/part2.csv\")"
   ]
  },
  {
   "cell_type": "code",
   "execution_count": 13,
   "id": "4bb1291a",
   "metadata": {},
   "outputs": [
    {
     "data": {
      "text/html": [
       "<div>\n",
       "<style scoped>\n",
       "    .dataframe tbody tr th:only-of-type {\n",
       "        vertical-align: middle;\n",
       "    }\n",
       "\n",
       "    .dataframe tbody tr th {\n",
       "        vertical-align: top;\n",
       "    }\n",
       "\n",
       "    .dataframe thead th {\n",
       "        text-align: right;\n",
       "    }\n",
       "</style>\n",
       "<table border=\"1\" class=\"dataframe\">\n",
       "  <thead>\n",
       "    <tr style=\"text-align: right;\">\n",
       "      <th></th>\n",
       "      <th>Cluster Level 1</th>\n",
       "      <th>undefined</th>\n",
       "      <th>Cleaned_Transcript</th>\n",
       "    </tr>\n",
       "  </thead>\n",
       "  <tbody>\n",
       "    <tr>\n",
       "      <th>0</th>\n",
       "      <td>Derivative of Y with Respect to X</td>\n",
       "      <td>436</td>\n",
       "      <td>The following content is provided under a reat...</td>\n",
       "    </tr>\n",
       "    <tr>\n",
       "      <th>1</th>\n",
       "      <td>Derivative of Y with Respect to X</td>\n",
       "      <td>447</td>\n",
       "      <td>The following content is provided under a reat...</td>\n",
       "    </tr>\n",
       "    <tr>\n",
       "      <th>2</th>\n",
       "      <td>Derivative of Y with Respect to X</td>\n",
       "      <td>449</td>\n",
       "      <td>The following content is provided under a reat...</td>\n",
       "    </tr>\n",
       "    <tr>\n",
       "      <th>3</th>\n",
       "      <td>Derivative of Y with Respect to X</td>\n",
       "      <td>450</td>\n",
       "      <td>OK, this is the lecture on linear transformati...</td>\n",
       "    </tr>\n",
       "    <tr>\n",
       "      <th>4</th>\n",
       "      <td>Derivative of Y with Respect to X</td>\n",
       "      <td>454</td>\n",
       "      <td>Well now move from the world of first order di...</td>\n",
       "    </tr>\n",
       "    <tr>\n",
       "      <th>...</th>\n",
       "      <td>...</td>\n",
       "      <td>...</td>\n",
       "      <td>...</td>\n",
       "    </tr>\n",
       "    <tr>\n",
       "      <th>1497</th>\n",
       "      <td>Other topics</td>\n",
       "      <td>797</td>\n",
       "      <td>We end this lecture sequence by stepping back ...</td>\n",
       "    </tr>\n",
       "    <tr>\n",
       "      <th>1498</th>\n",
       "      <td>Other topics</td>\n",
       "      <td>817</td>\n",
       "      <td>n our previous lessons, we described linked li...</td>\n",
       "    </tr>\n",
       "    <tr>\n",
       "      <th>1499</th>\n",
       "      <td>Other topics</td>\n",
       "      <td>818</td>\n",
       "      <td>We will now define the notion of a random vari...</td>\n",
       "    </tr>\n",
       "    <tr>\n",
       "      <th>1500</th>\n",
       "      <td>Other topics</td>\n",
       "      <td>821</td>\n",
       "      <td>The following content is provided under a reat...</td>\n",
       "    </tr>\n",
       "    <tr>\n",
       "      <th>1501</th>\n",
       "      <td>Other topics</td>\n",
       "      <td>823</td>\n",
       "      <td>The following content is provided under a reat...</td>\n",
       "    </tr>\n",
       "  </tbody>\n",
       "</table>\n",
       "<p>1502 rows × 3 columns</p>\n",
       "</div>"
      ],
      "text/plain": [
       "                        Cluster Level 1  undefined  \\\n",
       "0     Derivative of Y with Respect to X        436   \n",
       "1     Derivative of Y with Respect to X        447   \n",
       "2     Derivative of Y with Respect to X        449   \n",
       "3     Derivative of Y with Respect to X        450   \n",
       "4     Derivative of Y with Respect to X        454   \n",
       "...                                 ...        ...   \n",
       "1497                      Other topics         797   \n",
       "1498                      Other topics         817   \n",
       "1499                      Other topics         818   \n",
       "1500                      Other topics         821   \n",
       "1501                      Other topics         823   \n",
       "\n",
       "                                     Cleaned_Transcript  \n",
       "0     The following content is provided under a reat...  \n",
       "1     The following content is provided under a reat...  \n",
       "2     The following content is provided under a reat...  \n",
       "3     OK, this is the lecture on linear transformati...  \n",
       "4     Well now move from the world of first order di...  \n",
       "...                                                 ...  \n",
       "1497  We end this lecture sequence by stepping back ...  \n",
       "1498  n our previous lessons, we described linked li...  \n",
       "1499  We will now define the notion of a random vari...  \n",
       "1500  The following content is provided under a reat...  \n",
       "1501  The following content is provided under a reat...  \n",
       "\n",
       "[1502 rows x 3 columns]"
      ]
     },
     "execution_count": 13,
     "metadata": {},
     "output_type": "execute_result"
    }
   ],
   "source": [
    "dfFinalPart2"
   ]
  },
  {
   "cell_type": "code",
   "execution_count": 10,
   "id": "75ae2ed3",
   "metadata": {},
   "outputs": [],
   "source": [
    "df=dfFinalPart1.append(dfFinalPart2, ignore_index = True)"
   ]
  },
  {
   "cell_type": "code",
   "execution_count": 19,
   "id": "3079c576",
   "metadata": {},
   "outputs": [],
   "source": [
    "df=df.rename(columns={\"Cluster Level 1\": \"Cluster Level\", \"undefined\": \"Transcript Number\"})"
   ]
  },
  {
   "cell_type": "code",
   "execution_count": 23,
   "id": "a1125ec8",
   "metadata": {},
   "outputs": [
    {
     "data": {
      "text/html": [
       "<div>\n",
       "<style scoped>\n",
       "    .dataframe tbody tr th:only-of-type {\n",
       "        vertical-align: middle;\n",
       "    }\n",
       "\n",
       "    .dataframe tbody tr th {\n",
       "        vertical-align: top;\n",
       "    }\n",
       "\n",
       "    .dataframe thead th {\n",
       "        text-align: right;\n",
       "    }\n",
       "</style>\n",
       "<table border=\"1\" class=\"dataframe\">\n",
       "  <thead>\n",
       "    <tr style=\"text-align: right;\">\n",
       "      <th></th>\n",
       "      <th>Cluster Level</th>\n",
       "      <th>Transcript Number</th>\n",
       "      <th>Cleaned_Transcript</th>\n",
       "    </tr>\n",
       "  </thead>\n",
       "  <tbody>\n",
       "    <tr>\n",
       "      <th>0</th>\n",
       "      <td>Question is Okay</td>\n",
       "      <td>29</td>\n",
       "      <td>The following content is provided under a reat...</td>\n",
       "    </tr>\n",
       "    <tr>\n",
       "      <th>1</th>\n",
       "      <td>Question is Okay</td>\n",
       "      <td>45</td>\n",
       "      <td>tanford niversity Hi, everyone. Welcome to the...</td>\n",
       "    </tr>\n",
       "    <tr>\n",
       "      <th>2</th>\n",
       "      <td>Question is Okay</td>\n",
       "      <td>48</td>\n",
       "      <td>o we were talking about the beta distribution ...</td>\n",
       "    </tr>\n",
       "    <tr>\n",
       "      <th>3</th>\n",
       "      <td>Question is Okay</td>\n",
       "      <td>50</td>\n",
       "      <td>The real topic is how to solve inhomogeneous s...</td>\n",
       "    </tr>\n",
       "    <tr>\n",
       "      <th>4</th>\n",
       "      <td>Question is Okay</td>\n",
       "      <td>62</td>\n",
       "      <td>tanford niversity. am very excited to introduc...</td>\n",
       "    </tr>\n",
       "    <tr>\n",
       "      <th>...</th>\n",
       "      <td>...</td>\n",
       "      <td>...</td>\n",
       "      <td>...</td>\n",
       "    </tr>\n",
       "    <tr>\n",
       "      <th>2964</th>\n",
       "      <td>Other topics</td>\n",
       "      <td>797</td>\n",
       "      <td>We end this lecture sequence by stepping back ...</td>\n",
       "    </tr>\n",
       "    <tr>\n",
       "      <th>2965</th>\n",
       "      <td>Other topics</td>\n",
       "      <td>817</td>\n",
       "      <td>n our previous lessons, we described linked li...</td>\n",
       "    </tr>\n",
       "    <tr>\n",
       "      <th>2966</th>\n",
       "      <td>Other topics</td>\n",
       "      <td>818</td>\n",
       "      <td>We will now define the notion of a random vari...</td>\n",
       "    </tr>\n",
       "    <tr>\n",
       "      <th>2967</th>\n",
       "      <td>Other topics</td>\n",
       "      <td>821</td>\n",
       "      <td>The following content is provided under a reat...</td>\n",
       "    </tr>\n",
       "    <tr>\n",
       "      <th>2968</th>\n",
       "      <td>Other topics</td>\n",
       "      <td>823</td>\n",
       "      <td>The following content is provided under a reat...</td>\n",
       "    </tr>\n",
       "  </tbody>\n",
       "</table>\n",
       "<p>2969 rows × 3 columns</p>\n",
       "</div>"
      ],
      "text/plain": [
       "         Cluster Level  Transcript Number  \\\n",
       "0     Question is Okay                 29   \n",
       "1     Question is Okay                 45   \n",
       "2     Question is Okay                 48   \n",
       "3     Question is Okay                 50   \n",
       "4     Question is Okay                 62   \n",
       "...                ...                ...   \n",
       "2964     Other topics                 797   \n",
       "2965     Other topics                 817   \n",
       "2966     Other topics                 818   \n",
       "2967     Other topics                 821   \n",
       "2968     Other topics                 823   \n",
       "\n",
       "                                     Cleaned_Transcript  \n",
       "0     The following content is provided under a reat...  \n",
       "1     tanford niversity Hi, everyone. Welcome to the...  \n",
       "2     o we were talking about the beta distribution ...  \n",
       "3     The real topic is how to solve inhomogeneous s...  \n",
       "4     tanford niversity. am very excited to introduc...  \n",
       "...                                                 ...  \n",
       "2964  We end this lecture sequence by stepping back ...  \n",
       "2965  n our previous lessons, we described linked li...  \n",
       "2966  We will now define the notion of a random vari...  \n",
       "2967  The following content is provided under a reat...  \n",
       "2968  The following content is provided under a reat...  \n",
       "\n",
       "[2969 rows x 3 columns]"
      ]
     },
     "execution_count": 23,
     "metadata": {},
     "output_type": "execute_result"
    }
   ],
   "source": [
    "df"
   ]
  },
  {
   "cell_type": "code",
   "execution_count": 22,
   "id": "ca2e5f8f",
   "metadata": {},
   "outputs": [],
   "source": [
    "df.to_csv(\"TopicsLingo.csv\")"
   ]
  },
  {
   "cell_type": "code",
   "execution_count": null,
   "id": "641bf5b9",
   "metadata": {},
   "outputs": [],
   "source": [
    "dfFinal=pd.read_csv(\"C:/Users/farhe/Downloads/part1.csv\")"
   ]
  },
  {
   "cell_type": "markdown",
   "id": "e6a9a10f",
   "metadata": {},
   "source": [
    "# Test codes"
   ]
  },
  {
   "cell_type": "code",
   "execution_count": 69,
   "id": "e4a8fb09",
   "metadata": {},
   "outputs": [
    {
     "name": "stdout",
     "output_type": "stream",
     "text": [
      "Collecting xlsxwriter\n",
      "  Downloading XlsxWriter-3.0.1-py3-none-any.whl (148 kB)\n",
      "Installing collected packages: xlsxwriter\n",
      "Successfully installed xlsxwriter-3.0.1\n"
     ]
    }
   ],
   "source": [
    "!pip install xlsxwriter"
   ]
  },
  {
   "cell_type": "code",
   "execution_count": 88,
   "id": "71cdc4a6",
   "metadata": {},
   "outputs": [],
   "source": [
    "import xlsxwriter\n",
    "import csv\n",
    "\n",
    "wb = xlsxwriter.Workbook('cleanedHalfSecond.xlsx')\n",
    "sh = wb.add_worksheet('gkz')\n",
    "\n",
    "with open('cleanedHalfSecond.csv', 'r') as f:\n",
    "    reader = csv.reader(f)\n",
    "    for r, row in enumerate(reader):\n",
    "        for c, val in enumerate(row):\n",
    "            sh.write(r, c, val)\n",
    "\n",
    "wb.close()"
   ]
  },
  {
   "cell_type": "code",
   "execution_count": 17,
   "id": "fa98c87b",
   "metadata": {},
   "outputs": [],
   "source": [
    "import nltk\n",
    "from sumy.parsers.plaintext import PlaintextParser\n",
    "from sumy.nlp.tokenizers import Tokenizer\n",
    "from sumy.summarizers.luhn import LuhnSummarizer as Summarizer\n",
    "from sumy.nlp.stemmers import Stemmer\n",
    "from sumy.utils import get_stop_words\n",
    "from sumy.summarizers.lex_rank import LexRankSummarizer"
   ]
  },
  {
   "cell_type": "code",
   "execution_count": 25,
   "id": "227f7d6c",
   "metadata": {},
   "outputs": [
    {
     "name": "stdout",
     "output_type": "stream",
     "text": [
      "\"it just reminding us of where we started this course we're and what we've been reinforcing throughout the five questions the five filters that you use to figure out whether an opportunity is a good opportunity burning need big enough opportunity scalable business model sustainable differentiated positioning and then why now and why us you really want to find a small segment of the market whose hair is on fire and really needs your product whether it's consumer or business it's very hard to sell something into a market when your start up company it's it's really hard if the people don't have their hair on fire right the old if it's a vitamin versus a pain killer the second point is a big enough market and you want to make sure that well you understand is a total addressable market there is some smaller part of the market that you are going to dominate that base camp whose hair is on fire right we're your product meets that market need hand in glove and these are the things that need to come across to the present in your presentations later this week and hopefully tonight if they don't tonight will be yelling at you enough so that they'll come come cross later this week so again right many of you will have a slide that shows some total market but then the service market but smaller and then initial base camp where everyone's head is going to be nodding in the audience and yeah from what you just described that you do I can understand why that group of people who really needs that product and will buy it my going quickly enough Mike through this thank you scalable business model we've been through this a lot I think you've you've all learned a bit about understanding unit economics the of of one transaction what is a schematic look like of one transaction and then one of the teams in my office hours we talked about amber once you have the unit economics of one sale then you try to get the unit economics of bigger units so for this particular cut for this particular business once they understood that the unit economics of one sale what's going to be pop was gonna be good then they decided Hey let's I decided for them let's look at one market what are the unit economics of one market to you and what are the unit economics of one market to your partner is there enough profit in it for everybody if there is this is a very good business take a look if it's not rethink something because if you're going to enter into a new market you want back to look good to you and you wanted to look into your partner this is an example of one of those business model schematics of where the market we're the product flows in where the the the the dollars flow you should try to have dollars the actual dollars on slides like this this is an example of a slide that it just keep trying to figure out how to get the the servicing the printed out but sustainable differentiated positioning if in your final presentation people are asking a lot about sustainability Hey how can you keep your market once you get there you should feel good because at least they're believing that you can get there right that's a good problem to have right but it is important that you have an answer to that question right what is so novel about what you're doing or how you're doing it that will lead you to be the lasting successful player in that market right questions like what if Google decides to do this are typical of staying ability questions okay so you have to show that differentiation this was the way that consider show their differentiation compared to some of their other products right it can be a crime it can be a list of the most important things about the product and then the different players and and pluses and minuses in numbers for it can be one of those two by two matrices are two by two graphs we're the axes are the most important thing right it's very important that you figure out what those two differentiators are and why you of course wind up in the upper right you also in and showing your business model and how you're going to stay in and be successful we want to show a graph of your financials and you want to show how the what the drivers of those financials are what is going on but make those financial successful in each of your business is good is going to be different this is in terms of differentiation we talked about this earlier as well which is for some of you the differentiator is going to be the technology for some of you the differentiator is going to be how you're approaching the market which includes the special purpose vehicles you may be setting up for the I mean those of you who already have the beginnings of relationships with the hotels that you're serving that will also potential B. the fund be the funding vehicles and you do you'll be developing expertise and how to set up those special purpose vehicles that are going to make this successful that's a differentiator right for some of you it's a technology for some of you which the market for some of you which the financial aspects of things and you want to be up in the right hand side with high market in technology differentiation if you can be and the last question is why you and why now what is going on about your team call if you have this I believe there's something about the people on your team that make you well suited to pursue this opportunity let people understand that and if you've already gotten some advisors and there's some other people on your team that aren't in the class include them on your team slide also and then wind now what is something that's going on with the market with technology some thing going on that surrounds your idea it's going on in the market place in some way that we're we're we're an investor realize Hey you know something that's why this isn't a good time to start this business questions you often hear from investors are why hasn't someone done this already and in answer of well I guess I just didn't think of it is it may be V. it may be the right answer but it's not a very thoughtful one right right off in a special okay yeah I understood I thought mine was an understatement but yeah that that is to for many of your businesses there are regulatory changes that are that are reason for why now right for some of you three seven years behavioral changes wearable devices are becoming something that is is commonplace some product innovation it doesn't have to be your product it's even better if it's not your product somebody else is just innovated something else that's now out there I know somebody who started a company that was using Google glass is the basis for what they were doing now you should probably ride on the coattails of innovation that makes sense but you know but somebody else has an innovation and no no no it's a judgmental one but I don't know that it's political I'm sorry and also even market discontinuities is another good thing that's happening right is the the cost of power under not to an island right or you know some change in the nature of micro grid technology or something that allows you to the the market to change all right and then lastly we don't we haven't pushed us too much in this course but you've all lived this you're doing this very well which is it's not just those generic filters that we've spent most of our time on because that's how you can teach a class but it's that you should each have your own personal filter and when you think there are a lot of when you think of like your own center of gravity people talk about words like authenticity distinctiveness you can consider your strengths that are broadly defined not strange meaning I'm good at accounting or I'm good at marketing I'm good at building things good with people I'm good at leading people I'm good at managing complex projects I'm good it I'm good at keeping cool when everything is going crazy I I really like working with consumer types of businesses I really like working I don't like working with consumer types of businesses I like business to business I like businesses that are manageable market risk where I can grow with fifty percent here forever worth or ventrally little slower you know why don't I like businesses that are platform businesses where I'm developing developing dropping and sometimes it just goes like that all of you were different and you should get a sense of what you enjoy what you like to do and that will drive the type of business across many factors of what makes sense for you different from what makes sense for everybody which is a five filters\"\n"
     ]
    }
   ],
   "source": [
    "document='''\"it just reminding us of where we started this course we're and what we've been reinforcing throughout the five questions the five filters that you use to figure out whether an opportunity is a good opportunity burning need big enough opportunity scalable business model sustainable differentiated positioning and then why now and why us you really want to find a small segment of the market whose hair is on fire and really needs your product whether it's consumer or business it's very hard to sell something into a market when your start up company it's it's really hard if the people don't have their hair on fire right the old if it's a vitamin versus a pain killer the second point is a big enough market and you want to make sure that well you understand is a total addressable market there is some smaller part of the market that you are going to dominate that base camp whose hair is on fire right we're your product meets that market need hand in glove and these are the things that need to come across to the present in your presentations later this week and hopefully tonight if they don't tonight will be yelling at you enough so that they'll come come cross later this week so again right many of you will have a slide that shows some total market but then the service market but smaller and then initial base camp where everyone's head is going to be nodding in the audience and yeah from what you just described that you do I can understand why that group of people who really needs that product and will buy it my going quickly enough Mike through this thank you scalable business model we've been through this a lot I think you've you've all learned a bit about understanding unit economics the of of one transaction what is a schematic look like of one transaction and then one of the teams in my office hours we talked about amber once you have the unit economics of one sale then you try to get the unit economics of bigger units so for this particular cut for this particular business once they understood that the unit economics of one sale what's going to be pop was gonna be good then they decided Hey let's I decided for them let's look at one market what are the unit economics of one market to you and what are the unit economics of one market to your partner is there enough profit in it for everybody if there is this is a very good business take a look if it's not rethink something because if you're going to enter into a new market you want back to look good to you and you wanted to look into your partner this is an example of one of those business model schematics of where the market we're the product flows in where the the the the dollars flow you should try to have dollars the actual dollars on slides like this this is an example of a slide that it just keep trying to figure out how to get the the servicing the printed out but sustainable differentiated positioning if in your final presentation people are asking a lot about sustainability Hey how can you keep your market once you get there you should feel good because at least they're believing that you can get there right that's a good problem to have right but it is important that you have an answer to that question right what is so novel about what you're doing or how you're doing it that will lead you to be the lasting successful player in that market right questions like what if Google decides to do this are typical of staying ability questions okay so you have to show that differentiation this was the way that consider show their differentiation compared to some of their other products right it can be a crime it can be a list of the most important things about the product and then the different players and and pluses and minuses in numbers for it can be one of those two by two matrices are two by two graphs we're the axes are the most important thing right it's very important that you figure out what those two differentiators are and why you of course wind up in the upper right you also in and showing your business model and how you're going to stay in and be successful we want to show a graph of your financials and you want to show how the what the drivers of those financials are what is going on but make those financial successful in each of your business is good is going to be different this is in terms of differentiation we talked about this earlier as well which is for some of you the differentiator is going to be the technology for some of you the differentiator is going to be how you're approaching the market which includes the special purpose vehicles you may be setting up for the I mean those of you who already have the beginnings of relationships with the hotels that you're serving that will also potential B. the fund be the funding vehicles and you do you'll be developing expertise and how to set up those special purpose vehicles that are going to make this successful that's a differentiator right for some of you it's a technology for some of you which the market for some of you which the financial aspects of things and you want to be up in the right hand side with high market in technology differentiation if you can be and the last question is why you and why now what is going on about your team call if you have this I believe there's something about the people on your team that make you well suited to pursue this opportunity let people understand that and if you've already gotten some advisors and there's some other people on your team that aren't in the class include them on your team slide also and then wind now what is something that's going on with the market with technology some thing going on that surrounds your idea it's going on in the market place in some way that we're we're we're an investor realize Hey you know something that's why this isn't a good time to start this business questions you often hear from investors are why hasn't someone done this already and in answer of well I guess I just didn't think of it is it may be V. it may be the right answer but it's not a very thoughtful one right right off in a special okay yeah I understood I thought mine was an understatement but yeah that that is to for many of your businesses there are regulatory changes that are that are reason for why now right for some of you three seven years behavioral changes wearable devices are becoming something that is is commonplace some product innovation it doesn't have to be your product it's even better if it's not your product somebody else is just innovated something else that's now out there I know somebody who started a company that was using Google glass is the basis for what they were doing now you should probably ride on the coattails of innovation that makes sense but you know but somebody else has an innovation and no no no it's a judgmental one but I don't know that it's political I'm sorry and also even market discontinuities is another good thing that's happening right is the the cost of power under not to an island right or you know some change in the nature of micro grid technology or something that allows you to the the market to change all right and then lastly we don't we haven't pushed us too much in this course but you've all lived this you're doing this very well which is it's not just those generic filters that we've spent most of our time on because that's how you can teach a class but it's that you should each have your own personal filter and when you think there are a lot of when you think of like your own center of gravity people talk about words like authenticity distinctiveness you can consider your strengths that are broadly defined not strange meaning I'm good at accounting or I'm good at marketing I'm good at building things good with people I'm good at leading people I'm good at managing complex projects I'm good it I'm good at keeping cool when everything is going crazy I I really like working with consumer types of businesses I really like working I don't like working with consumer types of businesses I like business to business I like businesses that are manageable market risk where I can grow with fifty percent here forever worth or ventrally little slower you know why don't I like businesses that are platform businesses where I'm developing developing dropping and sometimes it just goes like that all of you were different and you should get a sense of what you enjoy what you like to do and that will drive the type of business across many factors of what makes sense for you different from what makes sense for everybody which is a five filters\"\n",
    "'''\n",
    "parser = PlaintextParser.from_string(document, Tokenizer(\"english\"))\n",
    "summarizer = LexRankSummarizer()\n",
    "\n",
    "summary = summarizer(parser.document, 1) #Summarize the document with 5 sentences\n",
    "\n",
    "for sentence in summary:\n",
    "    print(sentence)"
   ]
  },
  {
   "cell_type": "code",
   "execution_count": null,
   "id": "ea995f15",
   "metadata": {},
   "outputs": [
    {
     "data": {
      "application/vnd.jupyter.widget-view+json": {
       "model_id": "3c17f5d4f5624fe2921090fe24df50c1",
       "version_major": 2,
       "version_minor": 0
      },
      "text/plain": [
       "Downloading:   0%|          | 0.00/1.80k [00:00<?, ?B/s]"
      ]
     },
     "metadata": {},
     "output_type": "display_data"
    },
    {
     "data": {
      "application/vnd.jupyter.widget-view+json": {
       "model_id": "dd9d7db8c9794a4caaabddd2719499d2",
       "version_major": 2,
       "version_minor": 0
      },
      "text/plain": [
       "Downloading:   0%|          | 0.00/1.22G [00:00<?, ?B/s]"
      ]
     },
     "metadata": {},
     "output_type": "display_data"
    }
   ],
   "source": [
    "from transformers import pipeline\n",
    "\n",
    "# using pipeline API for summarization task\n",
    "summarization = pipeline(\"summarization\")"
   ]
  },
  {
   "cell_type": "code",
   "execution_count": null,
   "id": "a92820f6",
   "metadata": {},
   "outputs": [],
   "source": [
    "original_text = \"\"\"okay semantic analysis so %HESITATION once a certain structures understood %HESITATION we can try to understand the meaning okay what this thing actually means and as I started to say before %HESITATION psychologists and other people say the brain of a very good idea lexical analysis works they have a very good idea how pricing works and they basically have no idea how the rest of it works okay so what happens after that it's kind of it's a big mystery events and that's one of the pride of the outstanding mysteries actually it %HESITATION that remains %HESITATION and compilers would certainly love it was really great of compilers correctly understand what your program is supposed to do but that's way too hard we still want to be able to write compiler so we do something much more limited %HESITATION in compilers K. so compilers can't understand the full meaning of your program this has many profound implications actually for how programmers in compilers interact Mrs compiler don't actually know what you're trying what program you're trying to write they can only give you limited help and if you make mistakes they typically can't catch them all all right so you'll you'll do exactly what you tell us to do and if you tell to do the wrong thing that's your problem all right but there are some things are some areas where compilers can kind of get it meaning a little bit and help %HESITATION you too bye and catch problems with your program all right and and basically what compilers do they don't know what your program is supposed to do %HESITATION but they can look for inconsistencies so if your program says do X. and then someplace else you say do not X. K. the compiler can say %HESITATION you know you you told me to do acts and not acts and they can't both be right and so that's some kind of an error in your program all right and so those aspect that's the level of understanding that compilers can do let's do some %HESITATION examples based on English first okay so so Jack's a Jerry left his assignment at home right so how many people think that his refers to Jack how many people think it refers to Jerry how many people think it refers to some third person that we don't see could be right to give you some context here that we don't we don't see that there's actually so it could be it could be two or three people involved here in his could refer to %HESITATION any you know any one of three different people now if I say Jack said Jack left to the same at home well there could be we don't know how many jacks there are all right well we don't know which one left the assignment and again his doesn't even have to refer to one of the two possible jacks I could refer to some some third party that we don't see all right so so is that kind of %HESITATION ambiguity or uncertainty about what names buying two K. %HESITATION is that's that's a big no no in programming language design we design a programming language that is that hard to figure out what it's supposed to what what you know if you're able supposed to mean %HESITATION it's the it would not be a probably be very popular language with most programmers so let me just have programming languages suppose as opposed to natural language have %HESITATION is very strict rules to avoid such problems okay so here's kind of the analogy %HESITATION you know here we have you know two different jacks and then we're printing out we use the name here and so we need a rule that tells us which one we mean okay so it's the meaning of the program is is well the fine and most languages %HESITATION %HESITATION use lexical scope as it's called I'm sure you've seen this in earlier classes and the rule be that this reference here would bind to the inner definition so we would when I say Jack here I get this one and the outer definition is hidden or what's called shadowed meeting that within that in the in the scope of that internet nation I can't even refer to the other one at all all right because they have the same name if I use that name I always get the inner one and the other one is inaccessible at least within that scope all right any questions about that they should be they should be stuffy %HESITATION probably mostly seen before now compilers perform lots of semantic checks besides very able bindings so let's do another simple example so Jack left her homework at home all right so assuming that Jack is mail which is maybe not a hundred percent safe assumption but assuming that we can infer that Jack is is male %HESITATION then there's a type mismatch between Jack and her so you know hers prison which email and so we know there differently you know they're different people okay so in this case you know very likely from reading the sentence we know they're two people involved %HESITATION it and that Jack and her distinct all right ands %HESITATION and type checking %HESITATION is basically the same kind of thing in in programming languages so in addition to just names of variables you very Abel's have types and if two things have different types and we know they can't be the same thing and the compilers were actually rely on that all the time to know that you know I'm definitely referring to different things here that means I need to register is or you know there's no chance if I re order these things I'm changing the order references to them because they were distinct things to begin with and so I know I'm talking bout different memory location right that level of reasoning is actually really really common and used a lot in %HESITATION reading about types %HESITATION in in compilers all right when we do our section on type checking we'll see this in in full detail all right so that's a little bit about semantic analysis \"\"\"\n"
   ]
  },
  {
   "cell_type": "code",
   "execution_count": null,
   "id": "31866608",
   "metadata": {},
   "outputs": [],
   "source": [
    "summary_text = summarization(original_text)[0]['summary_text']\n",
    "print(\"Summary:\", summary_text)"
   ]
  },
  {
   "cell_type": "code",
   "execution_count": 1,
   "id": "2bd4a490",
   "metadata": {},
   "outputs": [],
   "source": [
    "import requests\n",
    "import base64\n",
    "\n"
   ]
  },
  {
   "cell_type": "code",
   "execution_count": null,
   "id": "6c4053ac",
   "metadata": {},
   "outputs": [],
   "source": [
    "from google.cloud import speech\n",
    "\n",
    "client = speech.SpeechClient()\n",
    "\n",
    "# path = 'resources/commercial_mono.wav'\n",
    "with io.open(path, \"rb\") as audio_file:\n",
    "    content = audio_file.read()\n",
    "\n",
    "audio = speech.RecognitionAudio(content=content)\n",
    "config = speech.RecognitionConfig(\n",
    "    encoding=speech.RecognitionConfig.AudioEncoding.LINEAR16,\n",
    "    sample_rate_hertz=8000,\n",
    "    language_code=\"en-US\",\n",
    "    # Enable automatic punctuation\n",
    "    enable_automatic_punctuation=True,\n",
    ")\n",
    "\n",
    "response = client.recognize(config=config, audio=audio)\n",
    "\n",
    "for i, result in enumerate(response.results):\n",
    "    alternative = result.alternatives[0]\n",
    "    print(\"-\" * 20)\n",
    "    print(\"First alternative of result {}\".format(i))\n",
    "    print(\"Transcript: {}\".format(alternative.transcript))"
   ]
  },
  {
   "cell_type": "code",
   "execution_count": 6,
   "id": "f9af16c5",
   "metadata": {},
   "outputs": [
    {
     "name": "stdout",
     "output_type": "stream",
     "text": [
      "{\"api\":\"/text/generic/api/v1/async/punctuate\",\"request_id\":\"b46b7e66-8637-4512-a642-63dc08feefe2\"}\n"
     ]
    }
   ],
   "source": [
    "url = \"https://proxy.api.deepaffects.com/text/generic/api/v1/async/punctuate\"\n",
    "\n",
    "querystring = {\"apikey\":\"mPt8BQpoVh1EB9i5Diri9hswdFiyXTrv\", \"webhook\":\"https://proxy.api.deepaffects.com/text/generic/api/v1/async/punctuate\"}\n",
    "\n",
    "payload = {\"texts\": [\"so its more fluid than it is and you know its not the best kind of feedback right\"]}\n",
    "\n",
    "headers = {\n",
    "    'Content-Type': \"application/json\",\n",
    "}\n",
    "\n",
    "response = requests.post(url, json=payload, headers=headers, params=querystring)\n",
    "\n",
    "print(response.text)"
   ]
  },
  {
   "cell_type": "code",
   "execution_count": 15,
   "id": "6cb3355e",
   "metadata": {},
   "outputs": [
    {
     "name": "stdout",
     "output_type": "stream",
     "text": [
      "['__attrs__', '__bool__', '__class__', '__delattr__', '__dict__', '__dir__', '__doc__', '__enter__', '__eq__', '__exit__', '__format__', '__ge__', '__getattribute__', '__getstate__', '__gt__', '__hash__', '__init__', '__init_subclass__', '__iter__', '__le__', '__lt__', '__module__', '__ne__', '__new__', '__nonzero__', '__reduce__', '__reduce_ex__', '__repr__', '__setattr__', '__setstate__', '__sizeof__', '__str__', '__subclasshook__', '__weakref__', '_content', '_content_consumed', '_next', 'apparent_encoding', 'close', 'connection', 'content', 'cookies', 'elapsed', 'encoding', 'headers', 'history', 'is_permanent_redirect', 'is_redirect', 'iter_content', 'iter_lines', 'json', 'links', 'next', 'ok', 'raise_for_status', 'raw', 'reason', 'request', 'status_code', 'text', 'url']\n"
     ]
    }
   ],
   "source": [
    "print(dir(response))"
   ]
  },
  {
   "cell_type": "code",
   "execution_count": 28,
   "id": "46ddbaa2",
   "metadata": {},
   "outputs": [
    {
     "name": "stdout",
     "output_type": "stream",
     "text": [
      "{\"api\":\"/text/generic/api/v1/async/punctuate\",\"request_id\":\"b46b7e66-8637-4512-a642-63dc08feefe2\"}\n"
     ]
    }
   ],
   "source": [
    "print(response.text)"
   ]
  },
  {
   "cell_type": "code",
   "execution_count": 29,
   "id": "7971c908",
   "metadata": {},
   "outputs": [],
   "source": [
    "\n",
    "# importing the requests library\n",
    "import requests\n",
    "  \n",
    "url = \"http://bark.phon.ioc.ee/punctuator\"\n"
   ]
  },
  {
   "cell_type": "code",
   "execution_count": 41,
   "id": "0192c04a",
   "metadata": {},
   "outputs": [
    {
     "name": "stdout",
     "output_type": "stream",
     "text": [
      "['__attrs__', '__bool__', '__class__', '__delattr__', '__dict__', '__dir__', '__doc__', '__enter__', '__eq__', '__exit__', '__format__', '__ge__', '__getattribute__', '__getstate__', '__gt__', '__hash__', '__init__', '__init_subclass__', '__iter__', '__le__', '__lt__', '__module__', '__ne__', '__new__', '__nonzero__', '__reduce__', '__reduce_ex__', '__repr__', '__setattr__', '__setstate__', '__sizeof__', '__str__', '__subclasshook__', '__weakref__', '_content', '_content_consumed', '_next', 'apparent_encoding', 'close', 'connection', 'content', 'cookies', 'elapsed', 'encoding', 'headers', 'history', 'is_permanent_redirect', 'is_redirect', 'iter_content', 'iter_lines', 'json', 'links', 'next', 'ok', 'raise_for_status', 'raw', 'reason', 'request', 'status_code', 'text', 'url']\n"
     ]
    }
   ],
   "source": [
    "headers = {\"content-type\": \"application/json\", \"Accept-Charset\": \"UTF-8\"}\n",
    "  \n",
    "r = requests.post(url, data={\"sample\":'''I'M hoping it okay, no all right, so I want to develop a certain number of naturally a certain number of properties of the F. T., and I would say well and and our goal actually despite the fact that, but but you don't see visibly anymore a connection To the continuous case, I still want to follow the path of trying to make the D. F. T. look as much as possible, like the continuous for a transfer. My said that a beginning, when it first or talk about this because we buy now, we built up a lot of intuition what a hard won experience operating with a continuous time for a transfer, and I want to leverage that all right. So I want to make the D. F. T. look as much as possible and when I, when I say make it look as much as possible, I mean the properties different different properties that might have general properties formulas. One of my good do you have T. look like the continuous time for a transfer. You don't have to do this, but I really think you're handicapping yourself. If you don't all right now, this is based mostly on the two things. That'Ll help that'll help through this two things that help one is to introduce the so called discrete complex exponential, and the second is to increase the discrete delta's. Okay, those two things: singling out those two things for special attention, special notation, if you want, is, will actually help us write formulas. In the discrete case, it looks very much like the formulas in the continuous case, all right by the way. I have good news here for the discrete delta is no more tests functions, no distributions, it's all, really pretty simple. Okay you'll like that, so let me do each one of the separately. Let me first introduce the discrete complex exponential, explain what I mean by that. It'S just a matter of introducing different Tatian for what's already in front of us. Okay, let me write down the formula for the DFT not affect. Let me write down the form like this once right. The right to do. You have T., as the four entrance run, I'll put even a little under line into the script up, although, like I say, I'm not gon na make a fetish out of this, so it was pretty for a transform of F. if I waited an index and is Of a discrete function, F. is, by definition, the song from an eagle zero up to N. minus one F. from, and when I do, I'm I'm using tax. K. I want for my notes here, because I want to screw myself up in my my notation. Some from cable zero - I ten minus one F. K. either the minus to pile I. N. K. over an all right. That'S the definition of this before I transfer my gon na make it I'm going to to to make it look like a freight transfer. I might as well use the same. Notation is a for a transfer, or at least a slightly modified version of it. Okay, now it's helpful. So what what comes in this morning, of course, to be complex, exponentials so what's helpful, is regard the complex exponential to come into this formula as themselves coming from eight discrete function. So in regard V. either the minus two pie, all right Kay and what about and as themselves coming from discrete function now this is very common, but what's not completely common is a notation for this, so I'm gon na I'm, I'm just I'm, I'm just I'm winters Location for what I mean here, so I'm going to consider the discrete function so let omega and and equals zero up to and minus one B. the discrete function thanks omega and the install you is just either the minus two hi I and over capital, and so I could use a cat, substring capital and here to distinguish the the capital and it's coming up. I I generally won't do that the capital and is understood site all right, so, in other words, if I right I'll make it just in terms of its in terms of its entries, make, it would look like omega. Zero is make a at zero if indexes either zeros one. So but it's it's one, either the minus to pile I over, and you know the minus two pie all by times too, over and all the way up to either the minus to pile I times and minus one divided by an that's the list of values. Okay and then further more, what's not what's what's involved in the definition of the day, if he is not just make about make it to a power all right so also, then, and also make it a minus K. discrete function. Is this either the minus to pile? I and K., via my end, it's just raising rates just raising each one of the entries to the cave. Part of mine is K. power all right, so omega minus K. if I just as just as just a list of values, is one either the minus two pie. All I K. over and either the minus to pile I. two K. over an you know. I got ta, be careful here hold on a second here. I'M sorry. Let me change this. I went I I it's it's it's a question. We put your mind to find my apologies, because I want to put a minus sign there. I want. I want this to be the complex exponential minute. One take negative powers, I'm sorry so Megan is either to pie and over, and so this is a list of powers. It'Ll make it that'll make it a minus. K. is just the powers that occur in the in the D. F. T.. My apologies for for for saying that wrong. First, so then it goes all the way up to either the minus two pie, all bye, two pie, all right and minus one K. divided by Capital, One all right hands the D. F. T. in terms of this complex, exponential, discreet, complex exponential looks like that. So in terms of omega minus, K. you can write the discrete for a transform at and is this from K. going from zero to and minus one of F. K. times may I got to the minus K. evaluated at an if I drop the very able on Both sides drop the very able N. to rights before I transfer of after just before I transfer of F. is the sum from K. going from zero up to N. minus one, F. of K. all may got to the minus K. that's as close as I can Come to making the formula for the disk before I transfer looks like a formula for the continuous for a transformer. It'S a some instead of an integral and it's a discreet, complex, exponential server instead of the continuous complex exponential, but there it is okay. So that's it's! It is you, will, you will see we'll see when we start driving formals, it's useful to be able to write the formula this way to be able to get you seen this before you know. Sometimes you want to be able to write very Abel's right formals without the very Abel's, because sometimes we put very Abel's in the formula as it gets a little dicey. What role the variables are playing. So I'm introducing this extra terminology not to make your life partner. Not to give you more things to think about. But because there are occasions where it's more useful to write the formulas with as few variables as possible and as clean away as possible, and the way to do that is to introduce these complex exponentials as themselves coming from a discrete function, all right. That is great. I have no idea. No, I love answering questions that one happens all too often, no asking network. Okay. No, I don't think it's a Z. transform, but I have no idea, but I don't think so all right now. We will see you next time actually not today, but next time we will see that the interesting properties of the D. F. T. arise from V. or **** allergy of the discrete complex exponentials. That is one of things. We'Re going to see is that the discrete complex expand and we wouldn't it would. It would be more difficult to formulate that those properties - if I didn't introduce this, if I didn't - introduce a couple of exponential as sort of discrete version of this function, all right this discrete function. So we will see that next time that the this is one of the key properties of the D. F. T. its use and and driving all the interesting problem must be interesting. Properties of it is that they just need a discreet, complex, exponentials, R. or fog and then almost or so normal, but not quite or someone'''}, headers=headers)\n",
    "\n",
    "\n",
    "\n",
    "\n",
    "  \n",
    "# extracting latitude, longitude and formatted address \n",
    "# of the first matching location\n",
    "print(dir(r))"
   ]
  },
  {
   "cell_type": "code",
   "execution_count": 42,
   "id": "2cb5ec8f",
   "metadata": {},
   "outputs": [
    {
     "data": {
      "text/plain": [
       "''"
      ]
     },
     "execution_count": 42,
     "metadata": {},
     "output_type": "execute_result"
    }
   ],
   "source": [
    "r.text"
   ]
  },
  {
   "cell_type": "code",
   "execution_count": 1,
   "id": "0990086e",
   "metadata": {},
   "outputs": [],
   "source": [
    "import requests\n",
    "\n",
    "data = {\n",
    "    'text': ''' The following content is provided under a reative ommons license Your support will help T OpenourseWare continue to offer high quality educational resources for free To make a donation, or to view additional materials from hundreds of T courses, visit T OpenourseWare at ocwmitedu PROFEOR: o, Professor Jerison is relaxing in sunny London, Ontario today and sent me in as his substitute again m glad to the here and see you all again o our agenda today: he said that hed already talked about power series and Taylors formula, guess on last week right, on Friday? o m going to go a little further with that and show you some examples, show you some applications, and then have this course evaluation survey that ll hand out in the last 10 minutes or so of the class also have this handout that he made that says 1801 end of term 2007 f you didnt pick this up coming in, grab it going out People tend not to pick it up when they walk in, see o grab this when youre going out Theres some things missing from it He has not decided when his office hours will be at the end of term He will have them, just hasnt decided when o, check the website for that information And were looking forward to the final exam, which is uh arent we? Any questions about this technical stuff? All right, lets talk about power series for a little bit o thought should review for you what the story with power series is OK, could have your attention please? o, power series is a way of writing a function as a sum of integral powers of x These a_0, a_1, and so on, are numbers An example of a power series is a polynomial Not to be forgotten, one type of power series is one which goes on for a finite number of terms and then ends, so that all of the other, all the higher a_is are all 0 This is a perfectly good example of a power series; its a very special kind of power series And part of what want to tell you today is that power series behave, almost exactly like, polynomials Theres just one thing that you have to be careful about when youre using power series that isnt a concern for polynomials, and ll show you what that is in a minute o, you should think of them as generalized polynomials The one thing that you have to be careful about is that there is a number o one caution Theres a number which ll call R, where R can be between 0 and it can also be infinity ts a number between 0 and infinity, inclusive, so that when the absolute value of x is less than R o when x is smaller than R in size, the sum converges This sum that sum converges to a finite value And when x is bigger than R in absolute value, the sum diverges This R is called the radius of convergence o well see some examples of what the radius of convergence is in various powers series as well, and how you find it also But, let me go on and give you a few more of the properties about power series which think that professor Jerison talked about earlier o one of them is theres a radius of convergence Heres another one f youre inside of the radius convergence, then the function has all its derivatives, has all its derivatives, just like a polynomial does You can differentiate it over and over again And in terms of those derivatives, the number a_n in the power series can be expressed in terms of the value of the derivative at 0 And this is called Taylors formula o m saying that inside of this radius of convergence, the function that were looking at, this f(x), can be written as the value of the function at 0, thats a_0, plus the value of the derivative This bracket n means you take the derivative n times o when n is 1, you take the derivative once at 0, divided by 1!, which is !, and multiply it by x Thats the linear term in the power series And then the quadratic term is you take the second derivative Remember to divide by 2!, which is 2 ultiply that by x^2 and so on out o, in terms o the coefficients in the power series just record the values of the derivatives of the function at x = 0 They can be computed that way also Lets see think thats the end of my summary of things that he talked about think he did one example, and ll repeat that example of a power series This example wasnt due to David Jerison; it was due to Leonard Euler ts the example of where the function is the exponential function e^x o, lets see Lets compute what will just repeat for you the computation of the power series for e^x, just because its such an important thing to do o, in order to do that, have to know what the derivative of e^x is, and what the second derivative of e^x is, and so on, because that comes into the Taylor formula for the coefficients But we know what the derivative of e^x is, its just e^x again, and its that way all the way down All the derivatives are e^x over and over again o when evaluate this at x = 0, well, the value of e^x is 1, the value of e^x is 1 at x = 0 You get a value of 1 all the way down o all these derivatives at 0 have the value 1 And now, when plug into this formula, find e^x is 1 plus 1*x plus 1/2! x^2 plus 1/3! x^3, plus and so on o all of these numbers are 1, and all you wind up with is the factorials in the denominators Thats the power series for e^x This was a discovery of Leonhard Euler in 1740 or something Yes, aam ADENE: When youre writing out the power series, how far do you have to write it out? PROFEOR: How far do you have to write the power series before it becomes well defined? Before its a satisfactory solution to an exam problem, suppose, is another way to phrase the question ntil you can see what the pattern is can see what the pattern is s there anyone whos in doubt about what the next term might be? ome people would tell you that you have to write the summation convention thing Dont believe them f you right out enough terms to make it clear, thats good enough OK? s that an answer for you? ADENE: Yes, Thank you PROFEOR: OK, so thats a basic example Lets do another basic example of a power series Oh yes, and by the way, whenever you write out a power series, you should say what the radius of convergence is And for now, will just to tell you that the radius of convergence of this power series is infinity; that is, this sum always converges for any value of x ll say a little more about that in a few minutes Yeah? ADENE: o which functions can be written as power series? PROFEOR: Which functions can be written as power series? Thats an excellent question Any function that has a reasonable expression can be written as a power series m not giving you a very good answer because the true answer is a little bit complicated But any of the functions that occur in calculus like sines, cosines, tangents, they all have power series expansions, OK? Well see more examples Lets do another example Heres another example guess this was example one o, this example, think, was due to Newton, not Euler Lets find the power series expansion of this function: 1/(1x) Well, think that somewhere along the line, you learned about the geometric series which tells you that which tells you what the answer to this is, and ll just write it out The geometric series tells you that this function can be written as an alternating sum of powers of x You may wonder where these minuses came from Well, if you really think about the geometric series, as you probably remembered, there was a minus sign here, and that gets replaced by these minus signs think maybe Jerison talked about this also Anyway, heres another basic example Remember what the graph of this function looks like when x = 1 Then theres a little problem here because the denominator becomes 0, so the graph has a pole there t goes up to infinity at x = 1, and thats an indication that the radius of convergence is not infinity Because if you try to converge to this infinite number by putting in x = 1, here, youll have a big problem n fact, you see when you put in x = 1, you keep getting 1 in every term, and it gets bigger and bigger and does not converge n this example, the radius of convergence is 1 OK, so, lets do a new example now Oh, and by the way, should say you can calculate these numbers using Taylors formula f you havent seen it, check it out alculate the iterated derivatives of this function and plug in x = 0 and see that you get 1, 1, 1, 1, and'''\n",
    "}\n",
    "\n",
    "response = requests.post('http://bark.phon.ioc.ee/punctuator', data=data)\n"
   ]
  },
  {
   "cell_type": "code",
   "execution_count": 2,
   "id": "887560a0",
   "metadata": {},
   "outputs": [
    {
     "data": {
      "text/plain": [
       "'The following content is provided under a reative ommons license. Your support will help T OpenourseWare continue to offer high quality educational resources for free To make a donation or to view additional materials. From hundreds of T courses visit, T OpenourseWare at ocwmitedu, PROFEOR o Professor Jerison, is relaxing in sunny London Ontario today and sent me in as his substitute again m glad to the here and see you all again o our agenda today. He said that hed already talked about power series and Taylors formula, guess on last week, right on Friday, o m going to go a little further with that and show you some examples, show you some applications and then have this course. Evaluation survey that ll hand out in the last 10 minutes or so of the class also have this handout that he made. That says, 1801 end of term 2007. F, you didnt pick this up coming in grab it going out. People tend not to pick it up when they walk in see o grab this. When youre going out Theres some things missing from it. He has not decided when his office hours will be at the end of term. He will have them just hasnt decided when o check the website for that information And were looking forward to the final exam which is uh arent. We Any questions about this technical stuff. All right lets talk about power series for a little bit. O thought should review for you. What the story with power series is. Ok could have your attention. Please, o power series is a way of writing a function as a sum of integral powers of x. These a_0, a_1 and so on are numbers An example of a power series is a polynomial Not to be forgotten. One type of power series is one which goes on for a finite number of terms and then ends so that all of the other, all the higher a_is are all 0. This is a perfectly good example of a power series. Its a very special kind of power series And part of what want to tell you today is that power series behave almost exactly like polynomials Theres. Just one thing that you have to be careful about when youre using power series that isnt a concern for polynomials and ll, show you what that is in a minute o. You should think of them as generalized polynomials. The one thing that you have to be careful about is that there is a number o one caution: Theres, a number which ll call R where R can be between 0, and it can also be infinity ts a number between 0 and infinity inclusive, so that when The absolute value of x is less than R o when x is smaller than R in size. The sum converges This sum that sum converges to a finite value And when x is bigger than R in absolute value. The sum diverges, This R is called the radius of convergence o well see some examples of what the radius of convergence is in various powers series as well and how you find it also. But let me go on and give you a few more of the properties about power series which think that professor Jerison talked about earlier o. One of them is theres a radius of convergence Heres another one f youre inside of the radius convergence. Then the function has all its derivatives has all its derivatives. Just like a polynomial does You can differentiate it over and over again And in terms of those derivatives. The number a_n in the power series can be expressed in terms of the value of the derivative at 0, And this is called Taylors formula, o m saying that inside of this radius of convergence, the function that were looking at this f ( x ) can be Written as the value of the function at 0, thats a_0, plus the value of the derivative, This bracket n means you take the derivative n times o. When n is 1, you take the derivative once at 0, divided by 1, which is and multiply it by x. Thats, the linear term, in the power series And then the quadratic term, is you take the second derivative Remember to divide by 2, which is 2 ultiply, that by x^2 and so on out o in terms o the coefficients in the power series just record the values Of the derivatives of the function at x, = 0, They can be computed. That way also Lets see think thats the end of my summary of things that he talked about think he did one example and ll repeat that example of a power series. This example wasnt due to David Jerison, it was due to Leonard Euler ts, the example of where the function is the exponential function. E^X o lets see Lets compute. What will just repeat for you, the computation of the power series for e^x, just because its such an important thing to do o in order to do that have to know what the derivative of e^x is and what the second derivative of e^x is and so on, Because that comes into the Taylor formula for the coefficients, But we know what the derivative of e^x is its just e^x again and its that way all the way down. All the derivatives are e^x over and over again o when evaluate this at x, = 0. Well, the value of e^x is 1. The value of e^x is 1 at x, = 0. You get a value of 1 all the way down o all these derivatives at 0 have the value 1 And now, when plug into this formula, find e^x is 1 plus 1*x, plus 1/2 x^2, plus 1/3, x^3, plus and so on. O all of these numbers are 1, and all you wind up with is the factorials in the denominators Thats the power series for e^x. This was a discovery of Leonhard Euler in 1740, or something Yes, aam ADENE. When youre writing out the power series. How far do you have to write it out PROFEOR? How far do you have to write the power series before it becomes well defined Before its a satisfactory solution to an exam problem? Suppose is another way to phrase the question: ntil, you can see what the pattern is can see. What the pattern is s there. Anyone whos in doubt about what the next term might be. Ome people would tell you that you have to write the summation convention thing. Dont believe them f. You right out enough terms to make it clear, thats, good enough. Ok s, that an answer for you ADENE! Yes, Thank you, PROFEOR, OK, so thats. A basic example Lets do another basic example of a power series. Oh, yes, and by the way, whenever you write out a power series, you should say what the radius of convergence is And for now will just to tell you that the radius of convergence of this power series is infinity. That is this sum always converges for any value of x. Ll say a little more about that. In a few minutes, Yeah ADENE o, which functions can be written as power series PROFEOR, Which functions can be written as power series Thats an excellent question. Any function that has a reasonable expression can be written as a power series m, not giving you a very good answer, because the true answer is a little bit complicated, But any of the functions that occur in calculus like sines cosines tangents. They all have power series. Expansions, OK, Well, see more examples. Lets do another example Heres another example guess this was example. One o this example think was due to Newton, not Euler. Lets find the power series. Expansion of this function. 1/ ( 1x ) Well think that somewhere along the line, you learned about the geometric series, which tells you that which tells you what the answer to this is and ll just write it out. The geometric series tells you that this function can be written as an alternating sum of powers of x. You may wonder where these minuses came from. Well, if you really think about the geometric series, as you probably remembered, there was a minus sign here and that gets replaced by these minus signs - think maybe Jerison talked about this also Anyway heres. Another basic example Remember what the graph of this function looks like when x, = 1, Then theres a little problem here, because the denominator becomes 0. So the graph has a pole. There t goes up to infinity at x, =, 1 and thats an indication that the radius of convergence is not infinity, Because if you try to converge to this infinite number by putting in x, = 1 here youll have a big problem. N fact you see when you put in x, = 1, you keep getting 1 in every term and it gets bigger and bigger and does not converge. N this example. The radius of convergence is 1. Ok, so lets do a new example. Now, Oh, and by the way should say you can calculate these numbers using Taylors formula f, you havent seen it check it out, alculate the iterated derivatives of this function and plug in x, = 0 and see that you get 1, 1, 1, 1 and '"
      ]
     },
     "execution_count": 2,
     "metadata": {},
     "output_type": "execute_result"
    }
   ],
   "source": [
    "response.text"
   ]
  },
  {
   "cell_type": "code",
   "execution_count": null,
   "id": "ea7ba2d8",
   "metadata": {},
   "outputs": [],
   "source": []
  }
 ],
 "metadata": {
  "kernelspec": {
   "display_name": "Python 3",
   "language": "python",
   "name": "python3"
  },
  "language_info": {
   "codemirror_mode": {
    "name": "ipython",
    "version": 3
   },
   "file_extension": ".py",
   "mimetype": "text/x-python",
   "name": "python",
   "nbconvert_exporter": "python",
   "pygments_lexer": "ipython3",
   "version": "3.8.10"
  }
 },
 "nbformat": 4,
 "nbformat_minor": 5
}
